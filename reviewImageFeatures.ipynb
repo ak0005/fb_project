{
 "cells": [
  {
   "cell_type": "code",
   "execution_count": null,
   "metadata": {
    "executionInfo": {
     "elapsed": 2671,
     "status": "ok",
     "timestamp": 1615479650017,
     "user": {
      "displayName": "AKHIL SHUKLA",
      "photoUrl": "",
      "userId": "18234957676405317826"
     },
     "user_tz": -330
    },
    "id": "ePDdUQ1SvuXL"
   },
   "outputs": [],
   "source": [
    "import numpy as np\n",
    "import os\n",
    "import pandas as pd\n",
    "from scipy.spatial import distance\n",
    "\n",
    "import matplotlib.pyplot as plt\n",
    "import matplotlib.image as mpimg\n",
    "import utils.const as const"
   ]
  },
  {
   "cell_type": "code",
   "execution_count": null,
   "metadata": {
    "executionInfo": {
     "elapsed": 1954,
     "status": "ok",
     "timestamp": 1615479650021,
     "user": {
      "displayName": "AKHIL SHUKLA",
      "photoUrl": "",
      "userId": "18234957676405317826"
     },
     "user_tz": -330
    },
    "id": "I9USLyJG2lQ2"
   },
   "outputs": [],
   "source": [
    "filename='vgg16_post.csv' # OR vgg16.csv"
   ]
  },
  {
   "cell_type": "code",
   "execution_count": null,
   "metadata": {
    "executionInfo": {
     "elapsed": 2579,
     "status": "ok",
     "timestamp": 1615479652430,
     "user": {
      "displayName": "AKHIL SHUKLA",
      "photoUrl": "",
      "userId": "18234957676405317826"
     },
     "user_tz": -330
    },
    "id": "RvqgI3pbyxGu"
   },
   "outputs": [],
   "source": [
    "df_test = pd.read_csv(filename, nrows=1, header=None)\n",
    "featureCols = []\n",
    "float32_cols = {}\n",
    "for c in df_test:\n",
    "  if c==0:\n",
    "    continue\n",
    "  \n",
    "  featureCols.append(c)\n",
    "  float32_cols[c] = np.float32"
   ]
  },
  {
   "cell_type": "code",
   "execution_count": null,
   "metadata": {
    "executionInfo": {
     "elapsed": 225013,
     "status": "ok",
     "timestamp": 1615479884815,
     "user": {
      "displayName": "AKHIL SHUKLA",
      "photoUrl": "",
      "userId": "18234957676405317826"
     },
     "user_tz": -330
    },
    "id": "hyPQi7h-55d-"
   },
   "outputs": [],
   "source": [
    "df = pd.read_csv(filename, engine='c', dtype=float32_cols,header=None) # takes less then 5 minutes on colab"
   ]
  },
  {
   "cell_type": "markdown",
   "metadata": {
    "id": "EhBydUSh1N-c"
   },
   "source": [
    "# printing K nearest images using cosine similarity"
   ]
  },
  {
   "cell_type": "code",
   "execution_count": null,
   "metadata": {
    "executionInfo": {
     "elapsed": 2562,
     "status": "ok",
     "timestamp": 1615480367369,
     "user": {
      "displayName": "AKHIL SHUKLA",
      "photoUrl": "",
      "userId": "18234957676405317826"
     },
     "user_tz": -330
    },
    "id": "jE27wEjzIgFs"
   },
   "outputs": [],
   "source": [
    "A=np.array(df[featureCols])"
   ]
  },
  {
   "cell_type": "code",
   "execution_count": null,
   "metadata": {
    "executionInfo": {
     "elapsed": 4841,
     "status": "ok",
     "timestamp": 1615480607618,
     "user": {
      "displayName": "AKHIL SHUKLA",
      "photoUrl": "",
      "userId": "18234957676405317826"
     },
     "user_tz": -330
    },
    "id": "Fik1Ky0K2acB"
   },
   "outputs": [],
   "source": [
    "postId = '1991716644473195_2606444679667052'\n",
    "index=df.index[df[0] == postId].tolist()[0]\n",
    "\n",
    "neighCount=3\n",
    "\n",
    "# for vgg16.csv\n",
    "#baseDir='' \n",
    "#suffix=''\n",
    "\n",
    "# for vgg16_post.csv\n",
    "baseDir=const.grpId \n",
    "suffix='attachments'"
   ]
  },
  {
   "cell_type": "code",
   "execution_count": null,
   "metadata": {
    "executionInfo": {
     "elapsed": 9697,
     "status": "ok",
     "timestamp": 1615480619215,
     "user": {
      "displayName": "AKHIL SHUKLA",
      "photoUrl": "",
      "userId": "18234957676405317826"
     },
     "user_tz": -330
    },
    "id": "Li79o5ba6mfu"
   },
   "outputs": [],
   "source": [
    "distances = distance.cdist([A[index]], A, \"cosine\")[0]\n",
    "indexes = np.argsort(distances)[:neighCount+1]"
   ]
  },
  {
   "cell_type": "code",
   "execution_count": null,
   "metadata": {
    "executionInfo": {
     "elapsed": 1205,
     "status": "ok",
     "timestamp": 1615480667551,
     "user": {
      "displayName": "AKHIL SHUKLA",
      "photoUrl": "",
      "userId": "18234957676405317826"
     },
     "user_tz": -330
    },
    "id": "D3gOcwpM9SPj"
   },
   "outputs": [],
   "source": [
    "def showFile(address):\n",
    "  if len(suffix)==0:\n",
    "    plt.imshow(mpimg.imread(address))\n",
    "    plt.show()\n",
    "    return \n",
    "  \n",
    "  path=os.path.join(address,suffix)\n",
    "\n",
    "  if not os.path.isdir(path):\n",
    "    print('No Attachments!!!')\n",
    "  \n",
    "  print(path)\n",
    "  for root, subdirs, files in os.walk(path):\n",
    "    if root.endswith('videos'):\n",
    "      continue\n",
    "    for fileName in files:\n",
    "      plt.imshow(mpimg.imread(os.path.join(root,fileName)))\n",
    "      plt.show()"
   ]
  },
  {
   "cell_type": "code",
   "execution_count": null,
   "metadata": {
    "colab": {
     "background_save": true,
     "base_uri": "https://localhost:8080/"
    },
    "executionInfo": {
     "elapsed": 4025,
     "status": "ok",
     "timestamp": 1615480671658,
     "user": {
      "displayName": "AKHIL SHUKLA",
      "photoUrl": "",
      "userId": "18234957676405317826"
     },
     "user_tz": -330
    },
    "id": "9i25G2LM6sS2"
   },
   "outputs": [],
   "source": [
    "print('File==>')\n",
    "showFile(os.path.join(baseDir,df[0].values[index]))"
   ]
  },
  {
   "cell_type": "code",
   "execution_count": null,
   "metadata": {
    "executionInfo": {
     "elapsed": 316550,
     "status": "aborted",
     "timestamp": 1615477011951,
     "user": {
      "displayName": "AKHIL SHUKLA",
      "photoUrl": "",
      "userId": "18234957676405317826"
     },
     "user_tz": -330
    },
    "id": "FoXYpiai8L1z"
   },
   "outputs": [],
   "source": [
    "print(str(neighCount)+' closest files')\n",
    "\n",
    "for i in indexes:\n",
    "  if i == index:\n",
    "    continue\n",
    "  print(df_subset[0].values[i],distances[i])\n",
    "  showFile(os.path.join(baseDir,df_subset[0].values[i]))"
   ]
  },
  {
   "cell_type": "code",
   "execution_count": null,
   "metadata": {
    "id": "SmpKnt89JZGk"
   },
   "outputs": [],
   "source": []
  }
 ],
 "metadata": {
  "colab": {
   "authorship_tag": "ABX9TyNigTOYOGe+vYjCnw/NcnZ3",
   "name": "visualisingData.ipynb",
   "toc_visible": true,
   "version": ""
  },
  "kernelspec": {
   "display_name": "Python 3",
   "language": "python",
   "name": "python3"
  },
  "language_info": {
   "codemirror_mode": {
    "name": "ipython",
    "version": 3
   },
   "file_extension": ".py",
   "mimetype": "text/x-python",
   "name": "python",
   "nbconvert_exporter": "python",
   "pygments_lexer": "ipython3",
   "version": "3.8.5"
  }
 },
 "nbformat": 4,
 "nbformat_minor": 1
}
