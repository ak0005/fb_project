{
 "cells": [
  {
   "cell_type": "code",
   "execution_count": null,
   "metadata": {},
   "outputs": [],
   "source": [
    "# make sure that mongo server is running "
   ]
  },
  {
   "cell_type": "code",
   "execution_count": null,
   "metadata": {
    "executionInfo": {
     "elapsed": 6036,
     "status": "ok",
     "timestamp": 1615466952444,
     "user": {
      "displayName": "AKHIL SHUKLA",
      "photoUrl": "",
      "userId": "18234957676405317826"
     },
     "user_tz": -330
    },
    "id": "PJvT1-FSDm16"
   },
   "outputs": [],
   "source": [
    "import os\n",
    "from pymongo import MongoClient\n",
    "import numpy as np\n",
    "import utils.const as const"
   ]
  },
  {
   "cell_type": "code",
   "execution_count": null,
   "metadata": {
    "executionInfo": {
     "elapsed": 5884,
     "status": "ok",
     "timestamp": 1615466952445,
     "user": {
      "displayName": "AKHIL SHUKLA",
      "photoUrl": "",
      "userId": "18234957676405317826"
     },
     "user_tz": -330
    },
    "id": "L4nKvmhaEM6Y"
   },
   "outputs": [],
   "source": [
    "db=const.grpId\n",
    "collection=const.PostCollection\n",
    "\n",
    "fileName='vgg16.csv'\n",
    "\n",
    "post_out='vgg16_post.csv'\n",
    "comment_out='vgg16_comment.csv'\n",
    "\n",
    "outputLen=7*7*512"
   ]
  },
  {
   "cell_type": "code",
   "execution_count": null,
   "metadata": {
    "executionInfo": {
     "elapsed": 5798,
     "status": "ok",
     "timestamp": 1615466953855,
     "user": {
      "displayName": "AKHIL SHUKLA",
      "photoUrl": "",
      "userId": "18234957676405317826"
     },
     "user_tz": -330
    },
    "id": "wYnGKTryEikO"
   },
   "outputs": [],
   "source": [
    "client = MongoClient()\n",
    "myCollect=client[db][collection]"
   ]
  },
  {
   "cell_type": "code",
   "execution_count": null,
   "metadata": {
    "executionInfo": {
     "elapsed": 5253,
     "status": "ok",
     "timestamp": 1615466953858,
     "user": {
      "displayName": "AKHIL SHUKLA",
      "photoUrl": "",
      "userId": "18234957676405317826"
     },
     "user_tz": -330
    },
    "id": "T1Ys9syMGRvt"
   },
   "outputs": [],
   "source": [
    "class Node:\n",
    "  def __init__(self,length=outputLen):\n",
    "    self.arr=np.zeros((length),dtype='float32')\n",
    "    self.count=0\n",
    "  \n",
    "  def insert(self,arr2):\n",
    "    arrT=self.arr.astype('float64')*self.count + arr2\n",
    "    self.count+=1\n",
    "    arrT/=self.count\n",
    "\n",
    "    self.arr=arrT.astype('float32')\n",
    "  \n",
    "  def getString(self):\n",
    "    ans=''\n",
    "    for i in self.arr:\n",
    "      ans+=','+str(i)\n",
    "    \n",
    "    return ans"
   ]
  },
  {
   "cell_type": "code",
   "execution_count": null,
   "metadata": {
    "colab": {
     "base_uri": "https://localhost:8080/"
    },
    "executionInfo": {
     "elapsed": 13511,
     "status": "ok",
     "timestamp": 1615466963002,
     "user": {
      "displayName": "AKHIL SHUKLA",
      "photoUrl": "",
      "userId": "18234957676405317826"
     },
     "user_tz": -330
    },
    "id": "nlTocSFGEm1G",
    "outputId": "ed3ce862-444b-4245-e438-408d9fad3140"
   },
   "outputs": [],
   "source": [
    "posts={}\n",
    "comments={}\n",
    "cc=0\n",
    "\n",
    "for post in myCollect.find({}):\n",
    "  if '_id' in post:\n",
    "    posts[post['_id']]=Node()\n",
    "    comments[post['_id']]={}\n",
    "\n",
    "    if 'comments' in post:\n",
    "      for comment in post['comments']:\n",
    "        if '_id' in comment:\n",
    "          cc+=1\n",
    "          comments[post['_id']][comment['_id']]=Node()\n",
    "\n",
    "print(len(posts))\n",
    "print(cc)          \n"
   ]
  },
  {
   "cell_type": "code",
   "execution_count": null,
   "metadata": {
    "executionInfo": {
     "elapsed": 11773,
     "status": "ok",
     "timestamp": 1615466963005,
     "user": {
      "displayName": "AKHIL SHUKLA",
      "photoUrl": "",
      "userId": "18234957676405317826"
     },
     "user_tz": -330
    },
    "id": "ridkcimQKvhd"
   },
   "outputs": [],
   "source": [
    "def getVector(arr):\n",
    "  length=len(arr)\n",
    "  vector=np.zeros((length),dtype='float32')\n",
    "\n",
    "  for i in range(length):\n",
    "    vector[i]=float(arr[i])\n",
    "\n",
    "  return vector.astype('float32')"
   ]
  },
  {
   "cell_type": "code",
   "execution_count": null,
   "metadata": {
    "executionInfo": {
     "elapsed": 1412650,
     "status": "ok",
     "timestamp": 1615468364971,
     "user": {
      "displayName": "AKHIL SHUKLA",
      "photoUrl": "",
      "userId": "18234957676405317826"
     },
     "user_tz": -330
    },
    "id": "JuzReQxaJP0H"
   },
   "outputs": [],
   "source": [
    "count=0\n",
    "index=0\n",
    "\n",
    "with open(fileName,'r') as fp:\n",
    "  for line in fp:\n",
    "    index+=1\n",
    "\n",
    "    arr=line.split(',')\n",
    "    if len(arr)<2:\n",
    "      continue\n",
    "    \n",
    "    vector=getVector(arr[1:])\n",
    "\n",
    "    arr2=arr[0].split('/')\n",
    "    if len(arr2)<2:\n",
    "      continue\n",
    "    \n",
    "    postId=arr2[1]\n",
    "\n",
    "    if postId not in posts:\n",
    "      raise Exception('a')\n",
    "\n",
    "    if 'comments' == arr2[2]:\n",
    "      commentId = arr2[3]\n",
    "      count+=1\n",
    "      if commentId not in comments[postId]:\n",
    "        raise Exception('b')\n",
    "      \n",
    "      comments[postId][commentId].insert(vector)\n",
    "    \n",
    "    else:\n",
    "      count+=1\n",
    "      posts[postId].insert(vector)"
   ]
  },
  {
   "cell_type": "code",
   "execution_count": null,
   "metadata": {
    "executionInfo": {
     "elapsed": 1737444,
     "status": "ok",
     "timestamp": 1615468692326,
     "user": {
      "displayName": "AKHIL SHUKLA",
      "photoUrl": "",
      "userId": "18234957676405317826"
     },
     "user_tz": -330
    },
    "id": "zRi06y7FTvTw"
   },
   "outputs": [],
   "source": [
    "with open(post_out,'w') as fp:\n",
    "  for k,v in posts.items():\n",
    "    fp.write(k)\n",
    "    fp.write(v.getString())\n",
    "    fp.write('\\n')\n",
    "\n",
    "del posts"
   ]
  },
  {
   "cell_type": "code",
   "execution_count": null,
   "metadata": {
    "executionInfo": {
     "elapsed": 2809066,
     "status": "ok",
     "timestamp": 1615469767396,
     "user": {
      "displayName": "AKHIL SHUKLA",
      "photoUrl": "",
      "userId": "18234957676405317826"
     },
     "user_tz": -330
    },
    "id": "_CqM8Ca4U1Dy"
   },
   "outputs": [],
   "source": [
    "with open(comment_out,'w') as fp:\n",
    "  for k,v in comments.items():\n",
    "    fp.write(k)\n",
    "    for k2,v2 in v.items():\n",
    "      fp.write(k2)\n",
    "      fp.write(v2.getString())\n",
    "      fp.write('\\n')\n",
    "\n",
    "del comments"
   ]
  },
  {
   "cell_type": "code",
   "execution_count": null,
   "metadata": {
    "id": "yKUWV3lHgLCs"
   },
   "outputs": [],
   "source": []
  }
 ],
 "metadata": {
  "colab": {
   "authorship_tag": "ABX9TyPelRblb+DBbCDZRgWfK5+6",
   "name": "adjustingVectors.ipynb",
   "provenance": []
  },
  "kernelspec": {
   "display_name": "Python 3",
   "language": "python",
   "name": "python3"
  },
  "language_info": {
   "codemirror_mode": {
    "name": "ipython",
    "version": 3
   },
   "file_extension": ".py",
   "mimetype": "text/x-python",
   "name": "python",
   "nbconvert_exporter": "python",
   "pygments_lexer": "ipython3",
   "version": "3.8.5"
  }
 },
 "nbformat": 4,
 "nbformat_minor": 1
}
