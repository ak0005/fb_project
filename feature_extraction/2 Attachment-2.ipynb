{
 "cells": [
  {
   "cell_type": "code",
   "execution_count": null,
   "metadata": {
    "executionInfo": {
     "elapsed": 27573,
     "status": "ok",
     "timestamp": 1613316225425,
     "user": {
      "displayName": "AKHIL SHUKLA",
      "photoUrl": "",
      "userId": "18234957676405317826"
     },
     "user_tz": -330
    },
    "id": "RuKy81PJpSDM"
   },
   "outputs": [],
   "source": [
    "import os\n",
    "import urllib.request\n",
    "from multiprocessing.pool import ThreadPool as Pool\n",
    "import utils.request as request\n",
    "import utils.const as const"
   ]
  },
  {
   "cell_type": "code",
   "execution_count": null,
   "metadata": {
    "executionInfo": {
     "elapsed": 27573,
     "status": "ok",
     "timestamp": 1613316225431,
     "user": {
      "displayName": "AKHIL SHUKLA",
      "photoUrl": "",
      "userId": "18234957676405317826"
     },
     "user_tz": -330
    },
    "id": "oEZBwK06qE1j"
   },
   "outputs": [],
   "source": [
    "db=const.grpId\n",
    "collection=const.PostCollection\n",
    "directory='attachment'\n",
    "\n",
    "\n",
    "failedFile='failed.txt'\n",
    "failed=[]\n",
    "prefix='https://graph.facebook.com/v9.0/'\n",
    "pool_size=1200  ## directly proportional to network bandwidth"
   ]
  },
  {
   "cell_type": "code",
   "execution_count": null,
   "metadata": {
    "executionInfo": {
     "elapsed": 40,
     "status": "ok",
     "timestamp": 1613317289378,
     "user": {
      "displayName": "AKHIL SHUKLA",
      "photoUrl": "",
      "userId": "18234957676405317826"
     },
     "user_tz": -330
    },
    "id": "yvi02Y3PsHk6"
   },
   "outputs": [],
   "source": [
    "token=[]\n",
    "# token.append('insert Your token')\n",
    "# token.append('more the number of token will result in smaller execution time' )\n",
    "token.append(const.tokenPost)\n",
    "token.append(const.tokenComments)\n",
    "token.append(const.tokenSubComments)\n",
    "token.append(const.tokenAttachments)\n",
    "token.append(const.tokenCommentAttachments)\n",
    "token.append(const.tokenCommentLikeCount)\n",
    "token.append(const.tokenPostReactions)"
   ]
  },
  {
   "cell_type": "code",
   "execution_count": null,
   "metadata": {
    "colab": {
     "base_uri": "https://localhost:8080/"
    },
    "executionInfo": {
     "elapsed": 47,
     "status": "ok",
     "timestamp": 1613317289376,
     "user": {
      "displayName": "AKHIL SHUKLA",
      "photoUrl": "",
      "userId": "18234957676405317826"
     },
     "user_tz": -330
    },
    "id": "4GIQCN3fzAEZ",
    "outputId": "345d5c2d-a213-40b7-be35-b5d8fa52086f"
   },
   "outputs": [],
   "source": [
    "postId={}\n",
    "commentId={}\n",
    "with open(failedFile,'r') as fp:\n",
    "  for line in fp.readlines():\n",
    "    id=line.split(' ')[0]\n",
    "    arr=id.split('_')\n",
    "    if len(arr)==3:\n",
    "      postId[arr[0]+'_'+arr[1]]=1\n",
    "    else:\n",
    "      commentId[arr[0]+'_'+arr[1]]=arr[2]\n",
    "\n",
    "print(len(postId))\n",
    "print(len(commentId))"
   ]
  },
  {
   "cell_type": "code",
   "execution_count": null,
   "metadata": {
    "executionInfo": {
     "elapsed": 35,
     "status": "ok",
     "timestamp": 1613317289378,
     "user": {
      "displayName": "AKHIL SHUKLA",
      "photoUrl": "",
      "userId": "18234957676405317826"
     },
     "user_tz": -330
    },
    "id": "H30Zn2fvxUyi"
   },
   "outputs": [],
   "source": [
    "def json_extract(obj, key):\n",
    "    \"\"\"Recursively fetch values from nested JSON.\"\"\"\n",
    "    arr = []\n",
    "\n",
    "    def extract(obj, arr, key):\n",
    "        \"\"\"Recursively search for values of key in JSON tree.\"\"\"\n",
    "        if isinstance(obj, dict):\n",
    "            for k, v in obj.items():\n",
    "                if isinstance(v, (dict, list)):\n",
    "                    extract(v, arr, key)\n",
    "                elif k == key:\n",
    "                    arr.append(v)\n",
    "        elif isinstance(obj, list):\n",
    "            for item in obj:\n",
    "                extract(item, arr, key)\n",
    "        return arr\n",
    "\n",
    "    values = extract(obj, arr, key)\n",
    "    return values"
   ]
  },
  {
   "cell_type": "code",
   "execution_count": null,
   "metadata": {
    "executionInfo": {
     "elapsed": 28,
     "status": "ok",
     "timestamp": 1613317289379,
     "user": {
      "displayName": "AKHIL SHUKLA",
      "photoUrl": "",
      "userId": "18234957676405317826"
     },
     "user_tz": -330
    },
    "id": "yW-n-0HIwSnP"
   },
   "outputs": [],
   "source": [
    "def postAttachment(postId,token):\n",
    "  url=prefix+postId+\"?fields=attachments&access_token=\"+token\n",
    "  print(url)\n",
    "  r=request.apiCall(url)\n",
    "  images=json_extract(r,'src')\n",
    "  videos=json_extract(r,'source')\n",
    "  print(len(images))\n",
    "  print(len(videos))\n",
    "\n",
    "  for i in range(len(images)):\n",
    "    fileName=postId+'_I'+str(i)\n",
    "    c=0\n",
    "    while c<5:\n",
    "      try:\n",
    "        urllib.request.urlretrieve(images[i], os.path.join(directory,fileName))\n",
    "        print(fileName)\n",
    "        break\n",
    "      except Exception as e:\n",
    "        print(e)\n",
    "        c+=1\n",
    "    if c>=5:\n",
    "      failed.append([fileName,images[i]])\n",
    "\n",
    "  for i in range(len(videos)):\n",
    "    fileName=postId+'_V'+str(i)\n",
    "    c=0\n",
    "    while c<5:\n",
    "      try:\n",
    "        urllib.request.urlretrieve(videos[i], os.path.join(directory,fileName))\n",
    "        print(fileName)\n",
    "        break\n",
    "      except Exception as e:\n",
    "        print(e)\n",
    "        c+=1\n",
    "    if c>=5:\n",
    "      failed.append([fileName,videos[i]])"
   ]
  },
  {
   "cell_type": "code",
   "execution_count": null,
   "metadata": {
    "executionInfo": {
     "elapsed": 22,
     "status": "ok",
     "timestamp": 1613317289380,
     "user": {
      "displayName": "AKHIL SHUKLA",
      "photoUrl": "",
      "userId": "18234957676405317826"
     },
     "user_tz": -330
    },
    "id": "HBZQUKUR3f2y"
   },
   "outputs": [],
   "source": [
    "def commentAttachment(postId,commentId,token):\n",
    "  url=prefix+commentId+\"?fields=attachment&access_token=\"+token\n",
    "  print(url)\n",
    "  r=request.apiCall(url)\n",
    "  images=json_extract(r,'src')\n",
    "  videos=json_extract(r,'source')\n",
    "  print(len(images))\n",
    "  print(len(videos))\n",
    "\n",
    "  for i in range(len(images)):\n",
    "    fileName=postId+'_'+commentId+'_I'+str(i)\n",
    "    c=0\n",
    "    while c<5:\n",
    "      try:\n",
    "        urllib.request.urlretrieve(images[i], os.path.join(directory,fileName))\n",
    "        print(fileName)\n",
    "        break\n",
    "      except Exception as e:\n",
    "        print(e)\n",
    "        c+=1\n",
    "    if c>=5:\n",
    "      failed.append([fileName,images[i]])\n",
    "\n",
    "  for i in range(len(videos)):\n",
    "    fileName=postId+'_'+commentId+'_V'+str(i)\n",
    "    c=0\n",
    "    while c<5:\n",
    "      try:\n",
    "        urllib.request.urlretrieve(videos[i], os.path.join(directory,fileName))\n",
    "        print(fileName)\n",
    "        break\n",
    "      except Exception as e:\n",
    "        print(e)\n",
    "        c+=1\n",
    "    if c>=5:\n",
    "      failed.append([fileName,videos[i]])"
   ]
  },
  {
   "cell_type": "code",
   "execution_count": null,
   "metadata": {
    "executionInfo": {
     "elapsed": 812,
     "status": "ok",
     "timestamp": 1613317290175,
     "user": {
      "displayName": "AKHIL SHUKLA",
      "photoUrl": "",
      "userId": "18234957676405317826"
     },
     "user_tz": -330
    },
    "id": "ZCucuFcC4UeS"
   },
   "outputs": [],
   "source": [
    "pool = Pool(pool_size)"
   ]
  },
  {
   "cell_type": "code",
   "execution_count": null,
   "metadata": {
    "colab": {
     "base_uri": "https://localhost:8080/"
    },
    "executionInfo": {
     "elapsed": 68,
     "status": "ok",
     "timestamp": 1613317290175,
     "user": {
      "displayName": "AKHIL SHUKLA",
      "photoUrl": "",
      "userId": "18234957676405317826"
     },
     "user_tz": -330
    },
    "id": "aSEoCP2S4dNW",
    "outputId": "93c2cecd-9248-48d1-8d9c-cdd3bf59fad7"
   },
   "outputs": [],
   "source": [
    "i=0\n",
    "for k,v in postId.items():\n",
    "  pool.apply_async(postAttachment,(k,token[i%len(token)]))\n",
    "  i+=1\n"
   ]
  },
  {
   "cell_type": "code",
   "execution_count": null,
   "metadata": {
    "colab": {
     "base_uri": "https://localhost:8080/"
    },
    "executionInfo": {
     "elapsed": 54,
     "status": "ok",
     "timestamp": 1613317290176,
     "user": {
      "displayName": "AKHIL SHUKLA",
      "photoUrl": "",
      "userId": "18234957676405317826"
     },
     "user_tz": -330
    },
    "id": "bnmFenAS5QxV",
    "outputId": "15d6252b-4ea8-41ec-e4d1-c7ebb0f43cbc"
   },
   "outputs": [],
   "source": [
    "i=0\n",
    "for k,v in commentId.items():\n",
    "  pool.apply_async(commentAttachment,(k,v,token[i%len(token)]))\n",
    "  i+=1\n"
   ]
  },
  {
   "cell_type": "code",
   "execution_count": null,
   "metadata": {
    "colab": {
     "base_uri": "https://localhost:8080/"
    },
    "executionInfo": {
     "elapsed": 176023,
     "status": "ok",
     "timestamp": 1613318062207,
     "user": {
      "displayName": "AKHIL SHUKLA",
      "photoUrl": "",
      "userId": "18234957676405317826"
     },
     "user_tz": -330
    },
    "id": "tr7Gi6bg6Yql",
    "outputId": "5bba0c33-a4aa-4362-b1b0-94dabc6b885b"
   },
   "outputs": [],
   "source": [
    "pool.close()\n",
    "pool.join()"
   ]
  },
  {
   "cell_type": "code",
   "execution_count": null,
   "metadata": {
    "colab": {
     "base_uri": "https://localhost:8080/"
    },
    "executionInfo": {
     "elapsed": 35,
     "status": "ok",
     "timestamp": 1613318062210,
     "user": {
      "displayName": "AKHIL SHUKLA",
      "photoUrl": "",
      "userId": "18234957676405317826"
     },
     "user_tz": -330
    },
    "id": "x1mz0ad56hp_",
    "outputId": "f1dedaee-f960-4935-9506-a3f6ba2b80b0"
   },
   "outputs": [],
   "source": [
    "print(len(failed))"
   ]
  },
  {
   "cell_type": "code",
   "execution_count": null,
   "metadata": {
    "id": "PrNDF9TrdpdT"
   },
   "outputs": [],
   "source": [
    "if len(failed):\n",
    "    print('Now this is some serious trouble.... see if u can ignore those many attachments?')\n",
    "else:\n",
    "    print('Done')"
   ]
  },
  {
   "cell_type": "code",
   "execution_count": null,
   "metadata": {},
   "outputs": [],
   "source": []
  }
 ],
 "metadata": {
  "colab": {
   "authorship_tag": "ABX9TyNIL+4vYxg9aO0Sy9KYKgyq",
   "collapsed_sections": [],
   "name": "saviour.ipynb",
   "provenance": []
  },
  "kernelspec": {
   "display_name": "Python 3",
   "language": "python",
   "name": "python3"
  },
  "language_info": {
   "codemirror_mode": {
    "name": "ipython",
    "version": 3
   },
   "file_extension": ".py",
   "mimetype": "text/x-python",
   "name": "python",
   "nbconvert_exporter": "python",
   "pygments_lexer": "ipython3",
   "version": "3.8.5"
  }
 },
 "nbformat": 4,
 "nbformat_minor": 1
}
