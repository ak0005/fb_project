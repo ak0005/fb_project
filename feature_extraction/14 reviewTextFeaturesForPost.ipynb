{
 "cells": [
  {
   "cell_type": "code",
   "execution_count": null,
   "metadata": {
    "executionInfo": {
     "elapsed": 2671,
     "status": "ok",
     "timestamp": 1615479650017,
     "user": {
      "displayName": "AKHIL SHUKLA",
      "photoUrl": "",
      "userId": "18234957676405317826"
     },
     "user_tz": -330
    },
    "id": "ePDdUQ1SvuXL"
   },
   "outputs": [],
   "source": [
    "import numpy as np\n",
    "import os\n",
    "import pandas as pd\n",
    "from scipy.spatial import distance\n",
    "\n",
    "import matplotlib.pyplot as plt\n",
    "import matplotlib.image as mpimg\n",
    "import utils.const as const\n",
    "from pymongo import MongoClient\n",
    "from sklearn.decomposition import PCA\n",
    "import matplotlib.pyplot as plt"
   ]
  },
  {
   "cell_type": "code",
   "execution_count": null,
   "metadata": {
    "executionInfo": {
     "elapsed": 1954,
     "status": "ok",
     "timestamp": 1615479650021,
     "user": {
      "displayName": "AKHIL SHUKLA",
      "photoUrl": "",
      "userId": "18234957676405317826"
     },
     "user_tz": -330
    },
    "id": "I9USLyJG2lQ2"
   },
   "outputs": [],
   "source": [
    "filename='text_post.csv'\n",
    "db=const.grpId\n",
    "collection=const.PostCollection"
   ]
  },
  {
   "cell_type": "code",
   "execution_count": null,
   "metadata": {},
   "outputs": [],
   "source": [
    "client = MongoClient()\n",
    "myCollect=client[db][collection]"
   ]
  },
  {
   "cell_type": "code",
   "execution_count": null,
   "metadata": {
    "executionInfo": {
     "elapsed": 2579,
     "status": "ok",
     "timestamp": 1615479652430,
     "user": {
      "displayName": "AKHIL SHUKLA",
      "photoUrl": "",
      "userId": "18234957676405317826"
     },
     "user_tz": -330
    },
    "id": "RvqgI3pbyxGu"
   },
   "outputs": [],
   "source": [
    "df_test = pd.read_csv(filename, nrows=1, header=None)\n",
    "featureCols = []\n",
    "float32_cols = {}\n",
    "for c in df_test:\n",
    "  if c==0:\n",
    "    continue\n",
    "  \n",
    "  featureCols.append(c)\n",
    "  float32_cols[c] = np.float32"
   ]
  },
  {
   "cell_type": "code",
   "execution_count": null,
   "metadata": {
    "executionInfo": {
     "elapsed": 225013,
     "status": "ok",
     "timestamp": 1615479884815,
     "user": {
      "displayName": "AKHIL SHUKLA",
      "photoUrl": "",
      "userId": "18234957676405317826"
     },
     "user_tz": -330
    },
    "id": "hyPQi7h-55d-"
   },
   "outputs": [],
   "source": [
    "df = pd.read_csv(filename, engine='c', dtype=float32_cols,header=None) "
   ]
  },
  {
   "cell_type": "code",
   "execution_count": null,
   "metadata": {},
   "outputs": [],
   "source": [
    "df.head()"
   ]
  },
  {
   "cell_type": "markdown",
   "metadata": {},
   "source": [
    "# visualisation  using PCA"
   ]
  },
  {
   "cell_type": "code",
   "execution_count": null,
   "metadata": {},
   "outputs": [],
   "source": [
    "pca = PCA(n_components=3)\n",
    "pca_result = pca.fit_transform(df[featureCols].values)\n",
    "\n",
    "print('Explained variation per principal component: {}'.format(pca.explained_variance_ratio_))"
   ]
  },
  {
   "cell_type": "code",
   "execution_count": null,
   "metadata": {},
   "outputs": [],
   "source": [
    "ax = plt.figure(figsize=(16,10)).gca(projection='3d')\n",
    "ax.scatter(\n",
    "    xs=pca_result[:,0], \n",
    "    ys=pca_result[:,1], \n",
    "    zs=pca_result[:,2],\n",
    "    cmap='tab10'\n",
    ")\n",
    "ax.set_xlabel('pca-one')\n",
    "ax.set_ylabel('pca-two')\n",
    "ax.set_zlabel('pca-three')\n",
    "plt.show()"
   ]
  },
  {
   "cell_type": "markdown",
   "metadata": {
    "id": "EhBydUSh1N-c"
   },
   "source": [
    "# printing K nearest images using cosine similarity"
   ]
  },
  {
   "cell_type": "code",
   "execution_count": null,
   "metadata": {
    "executionInfo": {
     "elapsed": 2562,
     "status": "ok",
     "timestamp": 1615480367369,
     "user": {
      "displayName": "AKHIL SHUKLA",
      "photoUrl": "",
      "userId": "18234957676405317826"
     },
     "user_tz": -330
    },
    "id": "jE27wEjzIgFs"
   },
   "outputs": [],
   "source": [
    "A=np.array(df[featureCols])"
   ]
  },
  {
   "cell_type": "code",
   "execution_count": null,
   "metadata": {
    "executionInfo": {
     "elapsed": 4841,
     "status": "ok",
     "timestamp": 1615480607618,
     "user": {
      "displayName": "AKHIL SHUKLA",
      "photoUrl": "",
      "userId": "18234957676405317826"
     },
     "user_tz": -330
    },
    "id": "Fik1Ky0K2acB"
   },
   "outputs": [],
   "source": [
    "#postId = '1991716644473195_2795420990769419'\n",
    "postId = df[0].values[0]\n",
    "\n",
    "index=df.index[df[0] == postId].tolist()[0]\n",
    "\n",
    "neighCount=10"
   ]
  },
  {
   "cell_type": "code",
   "execution_count": null,
   "metadata": {
    "executionInfo": {
     "elapsed": 9697,
     "status": "ok",
     "timestamp": 1615480619215,
     "user": {
      "displayName": "AKHIL SHUKLA",
      "photoUrl": "",
      "userId": "18234957676405317826"
     },
     "user_tz": -330
    },
    "id": "Li79o5ba6mfu"
   },
   "outputs": [],
   "source": [
    "distances = distance.cdist([A[index]], A, \"cosine\")[0]\n",
    "indexes = np.argsort(distances)[:neighCount+1]"
   ]
  },
  {
   "cell_type": "code",
   "execution_count": null,
   "metadata": {
    "executionInfo": {
     "elapsed": 1205,
     "status": "ok",
     "timestamp": 1615480667551,
     "user": {
      "displayName": "AKHIL SHUKLA",
      "photoUrl": "",
      "userId": "18234957676405317826"
     },
     "user_tz": -330
    },
    "id": "D3gOcwpM9SPj"
   },
   "outputs": [],
   "source": [
    "def showText(postId):\n",
    "    result = myCollect.find({'_id':postId})\n",
    "\n",
    "    for x in result:\n",
    "        if 'message' in x:\n",
    "            print(x['message'])\n",
    "        else:\n",
    "            print(\"<<blank>>\")"
   ]
  },
  {
   "cell_type": "code",
   "execution_count": null,
   "metadata": {
    "colab": {
     "background_save": true,
     "base_uri": "https://localhost:8080/"
    },
    "executionInfo": {
     "elapsed": 4025,
     "status": "ok",
     "timestamp": 1615480671658,
     "user": {
      "displayName": "AKHIL SHUKLA",
      "photoUrl": "",
      "userId": "18234957676405317826"
     },
     "user_tz": -330
    },
    "id": "9i25G2LM6sS2"
   },
   "outputs": [],
   "source": [
    "print('File==>')\n",
    "showText(df[0].values[index])"
   ]
  },
  {
   "cell_type": "code",
   "execution_count": null,
   "metadata": {
    "executionInfo": {
     "elapsed": 316550,
     "status": "aborted",
     "timestamp": 1615477011951,
     "user": {
      "displayName": "AKHIL SHUKLA",
      "photoUrl": "",
      "userId": "18234957676405317826"
     },
     "user_tz": -330
    },
    "id": "FoXYpiai8L1z"
   },
   "outputs": [],
   "source": [
    "print(str(neighCount)+' closest files')\n",
    "\n",
    "for i in indexes:\n",
    "  if i == index:\n",
    "    continue\n",
    "  print(df[0].values[i],distances[i])\n",
    "  showText(df[0].values[i])\n",
    "  "
   ]
  },
  {
   "cell_type": "code",
   "execution_count": null,
   "metadata": {},
   "outputs": [],
   "source": []
  },
  {
   "cell_type": "code",
   "execution_count": null,
   "metadata": {},
   "outputs": [],
   "source": []
  }
 ],
 "metadata": {
  "colab": {
   "authorship_tag": "ABX9TyNigTOYOGe+vYjCnw/NcnZ3",
   "name": "visualisingData.ipynb",
   "toc_visible": true,
   "version": ""
  },
  "kernelspec": {
   "display_name": "Python 3",
   "language": "python",
   "name": "python3"
  },
  "language_info": {
   "codemirror_mode": {
    "name": "ipython",
    "version": 3
   },
   "file_extension": ".py",
   "mimetype": "text/x-python",
   "name": "python",
   "nbconvert_exporter": "python",
   "pygments_lexer": "ipython3",
   "version": "3.8.5"
  }
 },
 "nbformat": 4,
 "nbformat_minor": 1
}
