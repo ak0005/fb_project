{
 "cells": [
  {
   "cell_type": "code",
   "execution_count": null,
   "metadata": {
    "executionInfo": {
     "elapsed": 2671,
     "status": "ok",
     "timestamp": 1615479650017,
     "user": {
      "displayName": "AKHIL SHUKLA",
      "photoUrl": "",
      "userId": "18234957676405317826"
     },
     "user_tz": -330
    },
    "id": "ePDdUQ1SvuXL"
   },
   "outputs": [],
   "source": [
    "import numpy as np\n",
    "import os\n",
    "from pymongo import MongoClient\n",
    "import utils.const as const\n",
    "import re\n",
    "import demoji\n",
    "import xlsxwriter\n",
    "import xlrd\n",
    "import langid"
   ]
  },
  {
   "cell_type": "code",
   "execution_count": null,
   "metadata": {},
   "outputs": [],
   "source": [
    "client = MongoClient()\n",
    "client.list_database_names() # ['admin', 'local']\n",
    "langid.set_languages(['gu','en','hi'])"
   ]
  },
  {
   "cell_type": "code",
   "execution_count": null,
   "metadata": {
    "executionInfo": {
     "elapsed": 1954,
     "status": "ok",
     "timestamp": 1615479650021,
     "user": {
      "displayName": "AKHIL SHUKLA",
      "photoUrl": "",
      "userId": "18234957676405317826"
     },
     "user_tz": -330
    },
    "id": "I9USLyJG2lQ2"
   },
   "outputs": [],
   "source": [
    "db=const.grpId\n",
    "collection=const.PostCollection\n",
    "dataH='dataHindi.xlsx'\n",
    "dataE='dataEnglish.xlsx'\n",
    "dataG='dataGujarati.xlsx'\n",
    "dataHT='dataHindi_T.xlsx'\n",
    "dataET='dataEnglish_T.xlsx'\n",
    "dataGT='dataGujarati_T.xlsx'\n",
    "idH='idH.txt'\n",
    "idE='idE.txt'\n",
    "idG='idG.txt'\n",
    "\n",
    "arrH=[]\n",
    "arrG=[]\n",
    "arrE=[]\n",
    "\n",
    "mergeDataFile='mergeData.txt'\n",
    "mergeId='mergeId.txt'\n",
    "\n",
    "row_limit=20000"
   ]
  },
  {
   "cell_type": "code",
   "execution_count": null,
   "metadata": {},
   "outputs": [],
   "source": [
    "myCollect=client[db][collection]"
   ]
  },
  {
   "cell_type": "code",
   "execution_count": null,
   "metadata": {},
   "outputs": [],
   "source": [
    "fdH=open(idH,'w')\n",
    "fdE=open(idE,'w')\n",
    "fdG=open(idG,'w')"
   ]
  },
  {
   "cell_type": "code",
   "execution_count": null,
   "metadata": {},
   "outputs": [],
   "source": [
    "def process(s):\n",
    "    s=s.replace('\\n',' ')  ## new line\n",
    "    \n",
    "    s = re.sub('https?:\\S*', ' ', s, flags=re.MULTILINE) ## links\n",
    "    \n",
    "    s=re.sub('[#$]+',' ',s) ## characters that are not required\n",
    "    \n",
    "    s=demoji.replace_with_desc(s, \"$$\") ## emoji graphic\n",
    "    s=s.replace('$$',' ') \n",
    "    \n",
    "    s=re.sub('\\s+', ' ',s) ## extra space\n",
    "    \n",
    "    return s;"
   ]
  },
  {
   "cell_type": "code",
   "execution_count": null,
   "metadata": {},
   "outputs": [],
   "source": [
    "# post comment\n",
    "c=0\n",
    "for post in myCollect.find({}):\n",
    "    if 'comments' in post:\n",
    "        for comment in post['comments']:\n",
    "            m=''\n",
    "            if 'message' in comment:\n",
    "                m=comment['message']\n",
    "                \n",
    "            m=process(m)\n",
    "            \n",
    "            lang = langid.classify(m)[0]\n",
    "            \n",
    "            if lang=='en':\n",
    "                arrE.append(m)\n",
    "                fdE.write(post['_id']+' '+comment['_id']+'\\n')\n",
    "            elif lang=='gu':\n",
    "                arrG.append(m)\n",
    "                fdG.write(post['_id']+' '+comment['_id']+'\\n')\n",
    "            else:\n",
    "                arrH.append(m)\n",
    "                fdH.write(post['_id']+' '+comment['_id']+'\\n')\n",
    "                \n",
    "            c=c+1\n",
    "            \n",
    "print(c)"
   ]
  },
  {
   "cell_type": "code",
   "execution_count": null,
   "metadata": {},
   "outputs": [],
   "source": [
    "print(len(arrE),len(arrH),len(arrG))"
   ]
  },
  {
   "cell_type": "code",
   "execution_count": null,
   "metadata": {},
   "outputs": [],
   "source": [
    "fdE.close()\n",
    "fdH.close()\n",
    "fdG.close()"
   ]
  },
  {
   "cell_type": "code",
   "execution_count": null,
   "metadata": {},
   "outputs": [],
   "source": [
    "def createExcel(lines,outputFile):\n",
    "    l=len(lines)\n",
    "    print(l)\n",
    "\n",
    "    colNum=(int)(l/row_limit)\n",
    "    if colNum*row_limit != l:\n",
    "        colNum=colNum+1\n",
    "        \n",
    "    print('cols',colNum)\n",
    "\n",
    "    workbook = xlsxwriter.Workbook(outputFile)\n",
    "    worksheet = workbook.add_worksheet()\n",
    "\n",
    "    rowCount=0\n",
    "\n",
    "    for i in range(row_limit):\n",
    "        if i*colNum>=l:\n",
    "            break;\n",
    "\n",
    "        st=''\n",
    "        for j in range(colNum):\n",
    "            if i*colNum + j < l:\n",
    "                st+=lines[i*colNum + j]\n",
    "                st+=' $ '\n",
    "            else:\n",
    "                break\n",
    "        if len(st)==0:\n",
    "            continue;\n",
    "            \n",
    "        worksheet.write(i,0,st)\n",
    "        rowCount+=1\n",
    "\n",
    "    print('rows in sheet '+str(rowCount))\n",
    "\n",
    "    workbook.close()"
   ]
  },
  {
   "cell_type": "code",
   "execution_count": null,
   "metadata": {},
   "outputs": [],
   "source": [
    "createExcel(arrE,dataE)\n",
    "createExcel(arrG,dataG)\n",
    "createExcel(arrH,dataH)"
   ]
  },
  {
   "cell_type": "markdown",
   "metadata": {},
   "source": [
    "## now upload outputFile in google sheet bring back the translated ones"
   ]
  },
  {
   "cell_type": "code",
   "execution_count": null,
   "metadata": {},
   "outputs": [],
   "source": [
    "def mergeData(fp1,fp2,idFile,inputFile,l):  \n",
    "    fp=open(idFile,'r');\n",
    "    \n",
    "    colNum=(int)(l/row_limit)\n",
    "    if colNum*row_limit != l:\n",
    "        colNum=colNum+1\n",
    "\n",
    "    workbook = xlrd.open_workbook(inputFile)\n",
    "    sheet = workbook.sheet_by_index(0)\n",
    "\n",
    "    print('rows in sheet '+str(sheet.nrows))\n",
    "\n",
    "    for i in range(sheet.nrows):\n",
    "        st=str(sheet.cell_value(i, 0))\n",
    "        arr=st.split('$')\n",
    "\n",
    "        if len(arr) < colNum:\n",
    "            print(i,len(arr),colNum+1)\n",
    "\n",
    "        while len(arr)<colNum+1: ### +1 because of second last line of above cell does not have st[:-2] but st\n",
    "            arr.append('')\n",
    "\n",
    "        for k in arr[0:colNum]:\n",
    "            fp1.write(k.strip()+\"\\n\")\n",
    "            fp2.write(fp.readline())\n",
    "    \n",
    "    fp.close()"
   ]
  },
  {
   "cell_type": "code",
   "execution_count": null,
   "metadata": {},
   "outputs": [],
   "source": [
    "fp1=open(mergeDataFile,'w')\n",
    "fp2=open(mergeId,'w')\n",
    "mergeData(fp1,fp2,idH,dataHT,len(arrH))\n",
    "mergeData(fp1,fp2,idE,dataET,len(arrE))\n",
    "mergeData(fp1,fp2,idG,dataGT,len(arrG))\n",
    "\n",
    "fp1.close()\n",
    "fp2.close()"
   ]
  },
  {
   "cell_type": "code",
   "execution_count": null,
   "metadata": {},
   "outputs": [],
   "source": []
  }
 ],
 "metadata": {
  "colab": {
   "authorship_tag": "ABX9TyNigTOYOGe+vYjCnw/NcnZ3",
   "name": "visualisingData.ipynb",
   "toc_visible": true,
   "version": ""
  },
  "kernelspec": {
   "display_name": "Python 3",
   "language": "python",
   "name": "python3"
  },
  "language_info": {
   "codemirror_mode": {
    "name": "ipython",
    "version": 3
   },
   "file_extension": ".py",
   "mimetype": "text/x-python",
   "name": "python",
   "nbconvert_exporter": "python",
   "pygments_lexer": "ipython3",
   "version": "3.8.5"
  }
 },
 "nbformat": 4,
 "nbformat_minor": 1
}
