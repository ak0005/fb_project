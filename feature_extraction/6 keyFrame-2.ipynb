{
 "cells": [
  {
   "cell_type": "code",
   "execution_count": null,
   "metadata": {
    "colab": {
     "base_uri": "https://localhost:8080/"
    },
    "executionInfo": {
     "elapsed": 1420,
     "status": "ok",
     "timestamp": 1615091298584,
     "user": {
      "displayName": "AKHIL SHUKLA",
      "photoUrl": "",
      "userId": "18234957676405317826"
     },
     "user_tz": -330
    },
    "id": "JY4iCRIiwtdP",
    "outputId": "3526a136-dcbe-4f68-9517-c29cf1c1f2e5"
   },
   "outputs": [],
   "source": [
    "# make sure mongodb is running"
   ]
  },
  {
   "cell_type": "code",
   "execution_count": null,
   "metadata": {
    "executionInfo": {
     "elapsed": 1565,
     "status": "ok",
     "timestamp": 1615091326335,
     "user": {
      "displayName": "AKHIL SHUKLA",
      "photoUrl": "",
      "userId": "18234957676405317826"
     },
     "user_tz": -330
    },
    "id": "jinQxMRPxYWF"
   },
   "outputs": [],
   "source": [
    "import os\n",
    "from scipy.signal import argrelextrema\n",
    "import numpy as np\n",
    "from pymongo import MongoClient\n",
    "import cv2\n",
    "import re\n",
    "import utils.const as const"
   ]
  },
  {
   "cell_type": "code",
   "execution_count": null,
   "metadata": {
    "executionInfo": {
     "elapsed": 1138,
     "status": "ok",
     "timestamp": 1615091333687,
     "user": {
      "displayName": "AKHIL SHUKLA",
      "photoUrl": "",
      "userId": "18234957676405317826"
     },
     "user_tz": -330
    },
    "id": "L6ljP4VJxK0Y"
   },
   "outputs": [],
   "source": [
    "poolSize=8\n",
    "\n",
    "### most important\n",
    "frameToExtract=10\n",
    "\n",
    "###### make success and failure list\n",
    "failed=[]\n",
    "extracted=[]\n",
    "###### make queue for each process\n",
    "\n",
    "db=const.grpId\n",
    "collection=const.PostCollection\n",
    "directory=db"
   ]
  },
  {
   "cell_type": "code",
   "execution_count": null,
   "metadata": {
    "colab": {
     "base_uri": "https://localhost:8080/"
    },
    "executionInfo": {
     "elapsed": 6607,
     "status": "ok",
     "timestamp": 1614961151736,
     "user": {
      "displayName": "AKHIL SHUKLA",
      "photoUrl": "",
      "userId": "18234957676405317826"
     },
     "user_tz": -330
    },
    "id": "rkOui1r59y_A",
    "outputId": "ba416259-4b27-4c2d-d70f-75b97265283b"
   },
   "outputs": [],
   "source": [
    "client = MongoClient()\n",
    "client.list_database_names() # ['admin', 'local']"
   ]
  },
  {
   "cell_type": "code",
   "execution_count": null,
   "metadata": {
    "id": "H7kL1ScV9-sU"
   },
   "outputs": [],
   "source": [
    "client = MongoClient()\n",
    "myCollect=client[db][collection]"
   ]
  },
  {
   "cell_type": "code",
   "execution_count": null,
   "metadata": {
    "colab": {
     "base_uri": "https://localhost:8080/"
    },
    "executionInfo": {
     "elapsed": 6004,
     "status": "ok",
     "timestamp": 1614961153258,
     "user": {
      "displayName": "AKHIL SHUKLA",
      "photoUrl": "",
      "userId": "18234957676405317826"
     },
     "user_tz": -330
    },
    "id": "11wUT0PIunYd",
    "outputId": "c69ffbfd-1c02-4fb2-e965-e1f6fe4fa139"
   },
   "outputs": [],
   "source": [
    "## read logs for already extracted keyframes and create dictionary\n",
    "\n",
    "alreadyExtracted={}\n",
    "\n",
    "regex = re.compile('(extracted*.*txt$)')\n",
    "\n",
    "for file in os.listdir():\n",
    "  if regex.match(file):\n",
    "    with open(file,'r') as fp:\n",
    "      for line in fp.readlines():\n",
    "        print(line[:-1])\n",
    "        alreadyExtracted[line[:-1]]=1"
   ]
  },
  {
   "cell_type": "code",
   "execution_count": null,
   "metadata": {
    "colab": {
     "base_uri": "https://localhost:8080/"
    },
    "executionInfo": {
     "elapsed": 5204,
     "status": "ok",
     "timestamp": 1614961153259,
     "user": {
      "displayName": "AKHIL SHUKLA",
      "photoUrl": "",
      "userId": "18234957676405317826"
     },
     "user_tz": -330
    },
    "id": "2DTE_QZz-Ka0",
    "outputId": "ef815ae2-f889-45e7-b6c5-b1c2a4db4362"
   },
   "outputs": [],
   "source": [
    "vids=[]\n",
    "for post in myCollect.find({}):\n",
    "  if '_id' in post:\n",
    "    A=os.path.join(directory,post['_id'])\n",
    "\n",
    "    if 'attachments' in post:\n",
    "      B=os.path.join(A,'attachments')\n",
    "\n",
    "      if 'videos' in post['attachments']:\n",
    "        C=os.path.join(B,'videos')\n",
    "        for i in range(len(post['attachments']['videos'])):\n",
    "          D=os.path.join(C,str(i))\n",
    "          if D not in alreadyExtracted:\n",
    "            vids.append(D)\n",
    "      \n",
    "          \n",
    "    \n",
    "    if 'comments' in post:\n",
    "      B=os.path.join(A,'comments')\n",
    "      for comment in post['comments']:\n",
    "        if '_id' in comment:\n",
    "          C=os.path.join(B,comment['_id'])\n",
    "\n",
    "          if '_id' and 'attachment' in comment:\n",
    "            D=os.path.join(C,'attachment')\n",
    "\n",
    "            if 'videos' in comment['attachment']:\n",
    "              E=os.path.join(D,'videos')\n",
    "\n",
    "              for i in range(len(comment['attachment']['videos'])):\n",
    "                F=os.path.join(E,str(i))\n",
    "                if F not in alreadyExtracted:\n",
    "                  vids.append(F)\n",
    "\n",
    "\n",
    "print(len(vids))\n",
    "print(len(alreadyExtracted))"
   ]
  },
  {
   "cell_type": "code",
   "execution_count": null,
   "metadata": {},
   "outputs": [],
   "source": [
    "order=[]\n",
    "\n",
    "if os.path.isfile('order.txt'):\n",
    "    print('order.txt exist')\n",
    "    with open('order.txt','r') as fp:\n",
    "        for line in fp.readlines():\n",
    "            if len(line)<=1:\n",
    "                continue\n",
    "            order.append(line[:-1])\n",
    "else:\n",
    "    print('creating order.txt')\n",
    "    dictOrder={}\n",
    "    totalSize=0\n",
    "    maxSize=0\n",
    "    for i in vids:\n",
    "        dictOrder[i]=os.stat(i).st_size\n",
    "        totalSize+=dictOrder[i]\n",
    "        maxSize=max(maxSize,dictOrder[i])\n",
    "    \n",
    "    print('Max size',maxSize)\n",
    "    print('Total size',totalSize)\n",
    "    \n",
    "    dict2=dict(sorted(dictOrder.items(), key=lambda item: item[1]))\n",
    "\n",
    "    with open('order.txt','w') as fp:\n",
    "        for k,v in dict2.items():\n",
    "            order.append(k)\n",
    "            fp.write(k+'\\n')"
   ]
  },
  {
   "cell_type": "code",
   "execution_count": null,
   "metadata": {},
   "outputs": [],
   "source": [
    "vids=[]\n",
    "for i in order:\n",
    "    if i not in alreadyExtracted:\n",
    "        vids.append(i)\n",
    "print(len(vids))"
   ]
  },
  {
   "cell_type": "code",
   "execution_count": null,
   "metadata": {},
   "outputs": [],
   "source": [
    "def smooth(x, window_len=13, window='hanning'):\n",
    "    s = np.r_[2 * x[0] - x[window_len:1:-1],x, 2 * x[-1] - x[-1:-window_len:-1]]\n",
    "    #print(len(s))\n",
    "\n",
    "    if window == 'flat':  # moving average\n",
    "        w = np.ones(window_len, 'd')\n",
    "    else:\n",
    "        w = getattr(np, window)(window_len)\n",
    "    y = np.convolve(w / w.sum(), s, mode='same')\n",
    "    return y[window_len - 1:-window_len + 1]"
   ]
  },
  {
   "cell_type": "code",
   "execution_count": null,
   "metadata": {},
   "outputs": [],
   "source": [
    "def getDiff(name):\n",
    "  cap = cv2.VideoCapture(name)\n",
    "\n",
    "  curr_frame = None\n",
    "  prev_frame = None\n",
    "\n",
    "  frame_diffs = []\n",
    "  ret, frame = cap.read()\n",
    "  i = 1\n",
    "\n",
    "  while(ret):\n",
    "    luv = cv2.cvtColor(frame, cv2.COLOR_BGR2LUV)\n",
    "    curr_frame = luv\n",
    "    if curr_frame is not None and prev_frame is not None:\n",
    "    #logic here\n",
    "      diff = cv2.absdiff(curr_frame, prev_frame)\n",
    "      count = np.sum(diff)\n",
    "      frame_diffs.append(count)\n",
    "\n",
    "    prev_frame = curr_frame\n",
    "    i = i + 1\n",
    "    ret, frame = cap.read()\n",
    "\n",
    "  cap.release()\n",
    "\n",
    "  return np.array(frame_diffs)"
   ]
  },
  {
   "cell_type": "code",
   "execution_count": null,
   "metadata": {},
   "outputs": [],
   "source": [
    "def getIndexes(name):\n",
    "  diff_array = getDiff(name)\n",
    "  low=5\n",
    "  high=len(diff_array)+1\n",
    "  mid=0\n",
    "  print('getting Indexes')\n",
    "\n",
    "  while low<high:\n",
    "    print(low,high)\n",
    "    mid=(low+high+1)>>1\n",
    "    sm_diff_array = smooth(diff_array, mid)\n",
    "    frame_indexes = np.asarray(argrelextrema(sm_diff_array, np.greater))[0]\n",
    "\n",
    "    if len(frame_indexes)>=10:\n",
    "      low=mid\n",
    "    else:\n",
    "      high=mid-1\n",
    "\n",
    "\n",
    "  print(low)\n",
    "  sm_diff_array = smooth(diff_array, low)\n",
    "  frame_indexes = np.asarray(argrelextrema(sm_diff_array, np.greater))[0]\n",
    "  print(len(frame_indexes))\n",
    "\n",
    "  return frame_indexes"
   ]
  },
  {
   "cell_type": "code",
   "execution_count": null,
   "metadata": {},
   "outputs": [],
   "source": [
    "def worker(low,high,ind):\n",
    "  size=high-low\n",
    "  fp=open('extracted'+str(ind)+'.txt','a')\n",
    "\n",
    "  print(ind,low,high)\n",
    "  for i in range(low,high):\n",
    "    videoPath=vids[i]\n",
    "    data_output_dir=vids[i]+'_key_frames'\n",
    "\n",
    "    #print('A')\n",
    "    cap = cv2.VideoCapture(videoPath)\n",
    "\n",
    "    if not cap.isOpened(): \n",
    "      print (ind,\"could not open :\",videoPath)\n",
    "      failed.append(vids[i])\n",
    "      continue\n",
    "    print(ind,'B')\n",
    "    frames = int(cap.get(cv2.CAP_PROP_FRAME_COUNT))\n",
    "    print(ind,'frames '+str(frames))\n",
    "\n",
    "    \n",
    "    try:\n",
    "      \n",
    "      if os.path.isdir(data_output_dir):\n",
    "        print('len  ',len(os.listdir(data_output_dir)) , min(frames,frameToExtract))\n",
    "        if len(os.listdir(data_output_dir)) == min(frames,frameToExtract):\n",
    "          extracted.append(vids[i])\n",
    "          fp.write(vids[i]+'\\n')\n",
    "          continue\n",
    "      else:\n",
    "        os.mkdir(data_output_dir)\n",
    "      \n",
    "      print(ind,'D')\n",
    "\n",
    "      if frames>frameToExtract:\n",
    "        frame_indexes = getIndexes(videoPath)\n",
    "\n",
    "        cap = cv2.VideoCapture(str(videoPath))\n",
    "        ret, curr_frame = cap.read()\n",
    "\n",
    "        i2 = 1\n",
    "        j2 = 0\n",
    "\n",
    "        while(ret and j2<len(frame_indexes)):\n",
    "          if i2 == frame_indexes[j2]:\n",
    "            cv2.imwrite(os.path.join(data_output_dir,str(j2)+'.png'),curr_frame)\n",
    "            j2 = j2 + 1\n",
    "\n",
    "          i2 = i2 + 1\n",
    "          ret, curr_frame = cap.read()\n",
    "        \n",
    "        cap.release()\n",
    "      \n",
    "      else:\n",
    "        success,image = cap.read()\n",
    "        counter = 0\n",
    "        while success:\n",
    "          cv2.imwrite(os.path.join(data_output_dir,str(counter))+'.png', image)\n",
    "          counter+=1     \n",
    "          success,image = cap.read()\n",
    "\n",
    "      #print('E')\n",
    "      cap.release()\n",
    "      extracted.append(vids[i])\n",
    "      fp.write(vids[i]+'\\n')\n",
    "      #print('F')\n",
    "\n",
    "\n",
    "    except Exception as e:\n",
    "      print(ind,str(e))\n",
    "      print (ind,\"could not extract key frame from :\"+videoPath + \" with \"+str(cap.get(cv2.CAP_PROP_FRAME_COUNT))+\" frames\")\n",
    "      failed.append(vids[i])\n",
    "\n",
    "    print(ind,(i+1-low)/size*100)\n",
    "\n",
    "  fp.close()"
   ]
  },
  {
   "cell_type": "code",
   "execution_count": null,
   "metadata": {},
   "outputs": [],
   "source": [
    "failed=[]\n",
    "extracted=[]\n",
    "worker(0,len(vids),0)"
   ]
  },
  {
   "cell_type": "code",
   "execution_count": null,
   "metadata": {},
   "outputs": [],
   "source": [
    "print(len(failed),len(extracted))"
   ]
  },
  {
   "cell_type": "code",
   "execution_count": null,
   "metadata": {},
   "outputs": [],
   "source": [
    "if len(failed):\n",
    "    print('Now i have no solution')\n",
    "else:\n",
    "    print('Done')"
   ]
  },
  {
   "cell_type": "code",
   "execution_count": null,
   "metadata": {},
   "outputs": [],
   "source": []
  }
 ],
 "metadata": {
  "colab": {
   "authorship_tag": "ABX9TyME+0m5Q16b6+C75msWeE3U",
   "collapsed_sections": [],
   "name": "attachmentProcessing.ipynb",
   "provenance": []
  },
  "kernelspec": {
   "display_name": "Python 3",
   "language": "python",
   "name": "python3"
  },
  "language_info": {
   "codemirror_mode": {
    "name": "ipython",
    "version": 3
   },
   "file_extension": ".py",
   "mimetype": "text/x-python",
   "name": "python",
   "nbconvert_exporter": "python",
   "pygments_lexer": "ipython3",
   "version": "3.8.5"
  }
 },
 "nbformat": 4,
 "nbformat_minor": 1
}
