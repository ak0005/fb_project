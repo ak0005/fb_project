{
 "cells": [
  {
   "cell_type": "code",
   "execution_count": null,
   "metadata": {},
   "outputs": [],
   "source": [
    "import dateutil.parser as dateparser\n",
    "from pymongo import MongoClient\n",
    "import utils.const as const\n",
    "import langid"
   ]
  },
  {
   "cell_type": "code",
   "execution_count": null,
   "metadata": {},
   "outputs": [],
   "source": [
    "client = MongoClient()\n",
    "langid.set_languages(['gu','en','hi'])"
   ]
  },
  {
   "cell_type": "code",
   "execution_count": null,
   "metadata": {},
   "outputs": [],
   "source": [
    "db=const.grpId\n",
    "collection=const.PostCollection\n",
    "\n",
    "data='lemmatized_data.txt'\n",
    "count='count.txt'\n",
    "id_='id.txt'\n",
    "\n",
    "wordDictFile='word_dictionary.csv'\n",
    "wordDict={}"
   ]
  },
  {
   "cell_type": "code",
   "execution_count": null,
   "metadata": {},
   "outputs": [],
   "source": [
    "myCollect=client[db][collection]"
   ]
  },
  {
   "cell_type": "code",
   "execution_count": null,
   "metadata": {},
   "outputs": [],
   "source": [
    "#################################ignore\n",
    "# c=0\n",
    "# for post in list(myCollect.find()):\n",
    "#     #replace every time field with str(dateparser.parse(s).timestamp())\n",
    "#     if 'comments' in post:\n",
    "#         for comment in post['comments']:\n",
    "#             if 'created_time' not in comment:\n",
    "#                 myCollect.update_one({'_id': post['_id'], 'comments': {'$elemMatch': {'_id': comment['_id']}}}, {\n",
    "#                     \"$set\": {'comments.$.message' : 'Congratulations',   \"comments.$.created_time\": \"2020-03-13T04:13:03+0000\"}\n",
    "#                 })\n",
    "#                 c+=1\n",
    "\n",
    "# print(c)"
   ]
  },
  {
   "cell_type": "code",
   "execution_count": null,
   "metadata": {},
   "outputs": [],
   "source": [
    "for post in list(myCollect.find()):\n",
    "    #replace every time field with str(dateparser.parse(s).timestamp())\n",
    "    myCollect.update_one({'_id': post['_id']}, {\n",
    "            \"$set\": {'updated_time' : str(dateparser.parse(post['updated_time']).timestamp())}\n",
    "        })\n",
    "   \n",
    "    myCollect.update_one({'_id': post['_id']}, {\n",
    "            \"$set\": {'created_time' : str(dateparser.parse(post['created_time']).timestamp())}\n",
    "        })\n",
    "    \n",
    "    if 'comments' in post:\n",
    "        for comment in post['comments']:\n",
    "            myCollect.update_one({'_id': post['_id'], 'comments': {'$elemMatch': {'_id': comment['_id']}}}, {\n",
    "                \"$set\": {'comments.$.created_time' : str(dateparser.parse(comment['created_time']).timestamp())}\n",
    "            })\n",
    "            \n",
    "            if 'subComments' in comment:\n",
    "                \n",
    "                for subComment in comment['subComments']:\n",
    "                    subComment['created_time']=str(dateparser.parse(subComment['created_time']).timestamp())\n",
    "                    \n",
    "                myCollect.update_one({'_id': post['_id'], 'comments': {'$elemMatch': {'_id': comment['_id']}}}, {\n",
    "                    \"$set\": {'comments.$.subComments' : comment['subComments']}\n",
    "                })\n",
    "\n",
    "# for post in list(myCollect.find()):\n",
    "#     #replace every time field with str(dateparser.parse(s).timestamp())\n",
    "#     if 'updated_time'not in post:\n",
    "#         continue\n",
    "        \n",
    "#     t=dateparser.parse(post['updated_time']).timestamp()\n",
    "    \n",
    "#     myCollect.update_one({'_id': post['_id']}, {\n",
    "#             \"$set\": {'updated_time' : str(t)}\n",
    "#         })\n",
    "    \n",
    "#     if 'comments' in post:\n",
    "#         for comment in post['comments']:\n",
    "#             t2=dateparser.parse(comment['created_time']).timestamp()\n",
    "#             myCollect.update_one({'_id': post['_id'], 'comments': {'$elemMatch': {'_id': comment['_id']}}}, {\n",
    "#                 \"$set\": {'comments.$.created_time' : str(t2)}\n",
    "#             })\n",
    "            \n",
    "#             t=min(t,t2)\n",
    "            \n",
    "#             if 'subComments' in comment:\n",
    "                \n",
    "#                 for subComment in comment['subComments']:\n",
    "#                     t2=dateparser.parse(subComment['created_time']).timestamp()\n",
    "#                     subComment['created_time']=str(t2)\n",
    "#                     t=min(t,t2)\n",
    "                    \n",
    "#                 myCollect.update_one({'_id': post['_id'], 'comments': {'$elemMatch': {'_id': comment['_id']}}}, {\n",
    "#                     \"$set\": {'comments.$.subComments' : comment['subComments']}\n",
    "#                 })\n",
    "    \n",
    "#     if 'created_time' in post:\n",
    "#         myCollect.update_one({'_id': post['_id']}, {\n",
    "#                 \"$set\": {'created_time' : str(dateparser.parse(post['created_time']).timestamp())}\n",
    "#             })\n",
    "#     else:\n",
    "#         myCollect.update_one({'_id': post['_id']}, {\n",
    "#                 \"$set\": {'created_time' : str(t)}\n",
    "#             })\n",
    "       "
   ]
  },
  {
   "cell_type": "code",
   "execution_count": null,
   "metadata": {},
   "outputs": [],
   "source": [
    "for post in list(myCollect.find()):\n",
    "    lang='NA'\n",
    "    if 'message' in post and len(post['message']):\n",
    "        lang=langid.classify(post['message'])[0]\n",
    "        \n",
    "    myCollect.update_one({'_id': post['_id']}, {\n",
    "            \"$set\": {'lang' : lang}\n",
    "        })\n",
    "    \n",
    "    if 'comments' in post:\n",
    "        for comment in post['comments']:\n",
    "            lang='NA'\n",
    "            if 'message' in comment and len(comment['message']):\n",
    "                lang=langid.classify(comment['message'])[0]\n",
    "            \n",
    "            myCollect.update_one({'_id': post['_id'], 'comments': {'$elemMatch': {'_id': comment['_id']}}}, {\n",
    "                \"$set\": {'comments.$.lang' : lang}\n",
    "            })\n",
    "            \n",
    "            if 'subComments' in comment:\n",
    "                \n",
    "                for subComment in comment['subComments']:\n",
    "                    lang='NA'\n",
    "                    if 'message' in subComment and len(subComment['message']):\n",
    "                        lang=langid.classify(subComment['message'])[0]\n",
    "                        \n",
    "                    subComment['lang']=lang\n",
    "                    \n",
    "                myCollect.update_one({'_id': post['_id'], 'comments': {'$elemMatch': {'_id': comment['_id']}}}, {\n",
    "                    \"$set\": {'comments.$.subComments' : comment['subComments']}\n",
    "                })"
   ]
  }
 ],
 "metadata": {
  "kernelspec": {
   "display_name": "Python 3",
   "language": "python",
   "name": "python3"
  },
  "language_info": {
   "codemirror_mode": {
    "name": "ipython",
    "version": 3
   },
   "file_extension": ".py",
   "mimetype": "text/x-python",
   "name": "python",
   "nbconvert_exporter": "python",
   "pygments_lexer": "ipython3",
   "version": "3.8.5"
  }
 },
 "nbformat": 4,
 "nbformat_minor": 4
}
