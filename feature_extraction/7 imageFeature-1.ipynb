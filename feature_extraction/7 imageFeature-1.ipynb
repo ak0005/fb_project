{
 "cells": [
  {
   "cell_type": "code",
   "execution_count": null,
   "metadata": {
    "executionInfo": {
     "elapsed": 3908,
     "status": "ok",
     "timestamp": 1615473687977,
     "user": {
      "displayName": "AKHIL SHUKLA",
      "photoUrl": "",
      "userId": "18234957676405317826"
     },
     "user_tz": -330
    },
    "id": "DR-ZjjX2cBkf"
   },
   "outputs": [],
   "source": [
    "import tensorflow\n",
    "from  tensorflow.keras.applications.vgg16 import VGG16 as model\n",
    "from tensorflow.keras.applications.vgg16 import preprocess_input\n",
    "from tensorflow.keras.preprocessing.image import img_to_array\n",
    "from tensorflow.keras.preprocessing.image import load_img\n",
    "import numpy as np\n",
    "import sys\n",
    "import os\n",
    "import utils.const as const"
   ]
  },
  {
   "cell_type": "code",
   "execution_count": null,
   "metadata": {
    "colab": {
     "base_uri": "https://localhost:8080/"
    },
    "executionInfo": {
     "elapsed": 3908,
     "status": "ok",
     "timestamp": 1615473687980,
     "user": {
      "displayName": "AKHIL SHUKLA",
      "photoUrl": "",
      "userId": "18234957676405317826"
     },
     "user_tz": -330
    },
    "id": "pTuvfj4reC7L",
    "outputId": "7a035ae3-4d93-44d0-c773-59c8cd05b576"
   },
   "outputs": [],
   "source": [
    "device_name = tensorflow.test.gpu_device_name()\n",
    "if device_name != '/device:GPU:0':\n",
    "  raise SystemError('GPU device not found')\n",
    "\n",
    "print('Found GPU at: {}'.format(device_name))"
   ]
  },
  {
   "cell_type": "code",
   "execution_count": null,
   "metadata": {
    "executionInfo": {
     "elapsed": 3904,
     "status": "ok",
     "timestamp": 1615473687982,
     "user": {
      "displayName": "AKHIL SHUKLA",
      "photoUrl": "",
      "userId": "18234957676405317826"
     },
     "user_tz": -330
    },
    "id": "4CLBQHJFdoGF"
   },
   "outputs": [],
   "source": [
    "directory=const.grpId\n",
    "\n",
    "batchSize=30000 #proportional to ram\n",
    "\n",
    "outputLen=7*7*512 # model dependent\n",
    "\n",
    "failed=[]\n",
    "success=[]\n",
    "\n",
    "outputFile='vgg16.csv'"
   ]
  },
  {
   "cell_type": "code",
   "execution_count": null,
   "metadata": {
    "colab": {
     "base_uri": "https://localhost:8080/"
    },
    "executionInfo": {
     "elapsed": 476757,
     "status": "ok",
     "timestamp": 1615474160844,
     "user": {
      "displayName": "AKHIL SHUKLA",
      "photoUrl": "",
      "userId": "18234957676405317826"
     },
     "user_tz": -330
    },
    "id": "Uv8tyS1QeTRX",
    "outputId": "97647caf-3648-462d-a7f0-1cb57b07a3ce"
   },
   "outputs": [],
   "source": [
    "alreadyDone={}\n",
    "if os.path.isfile(outputFile):\n",
    "  with open(outputFile,'r') as fp:\n",
    "    for i in fp:\n",
    "      arr=i.split(',')\n",
    "      if len(arr) != outputLen+1:\n",
    "        continue\n",
    "      alreadyDone[arr[0]]=1\n",
    "\n",
    "print(len(alreadyDone))"
   ]
  },
  {
   "cell_type": "code",
   "execution_count": null,
   "metadata": {
    "colab": {
     "base_uri": "https://localhost:8080/"
    },
    "executionInfo": {
     "elapsed": 482814,
     "status": "ok",
     "timestamp": 1615474166906,
     "user": {
      "displayName": "AKHIL SHUKLA",
      "photoUrl": "",
      "userId": "18234957676405317826"
     },
     "user_tz": -330
    },
    "id": "DQyFPmcTff0f",
    "outputId": "3c08e4d0-74f9-4533-f935-480c5d8a40c9"
   },
   "outputs": [],
   "source": [
    "listofFiles=[]\n",
    "count=0\n",
    "for root, subdirs, files in os.walk(directory):\n",
    "  for fileName in files:\n",
    "    if root.endswith('videos'):\n",
    "      continue\n",
    "\n",
    "    count+=1\n",
    "    path=os.path.join(root,fileName)\n",
    "\n",
    "    if path not in alreadyDone:\n",
    "      listofFiles.append(path)\n",
    "\n",
    "print(count,len(alreadyDone),len(listofFiles),len(alreadyDone)+len(listofFiles))"
   ]
  },
  {
   "cell_type": "code",
   "execution_count": null,
   "metadata": {
    "colab": {
     "base_uri": "https://localhost:8080/"
    },
    "executionInfo": {
     "elapsed": 482809,
     "status": "ok",
     "timestamp": 1615474166909,
     "user": {
      "displayName": "AKHIL SHUKLA",
      "photoUrl": "",
      "userId": "18234957676405317826"
     },
     "user_tz": -330
    },
    "id": "UcG1JXd_0cKb",
    "outputId": "245b80d3-ffa7-4955-b543-655aaa14d5ca"
   },
   "outputs": [],
   "source": [
    "print(listofFiles[:10])"
   ]
  },
  {
   "cell_type": "code",
   "execution_count": null,
   "metadata": {
    "executionInfo": {
     "elapsed": 486458,
     "status": "ok",
     "timestamp": 1615474170563,
     "user": {
      "displayName": "AKHIL SHUKLA",
      "photoUrl": "",
      "userId": "18234957676405317826"
     },
     "user_tz": -330
    },
    "id": "SGd3Iuj0kmHp"
   },
   "outputs": [],
   "source": [
    "Model = model(weights='imagenet', include_top=False)"
   ]
  },
  {
   "cell_type": "code",
   "execution_count": null,
   "metadata": {
    "executionInfo": {
     "elapsed": 486457,
     "status": "ok",
     "timestamp": 1615474170565,
     "user": {
      "displayName": "AKHIL SHUKLA",
      "photoUrl": "",
      "userId": "18234957676405317826"
     },
     "user_tz": -330
    },
    "id": "214Y2uLk4zKy"
   },
   "outputs": [],
   "source": [
    "def worker(low,high):\n",
    "  try:\n",
    "    vectors=[]\n",
    "    for i in range(low,high):\n",
    "      imagePath=listofFiles[i]\n",
    "\n",
    "      image = load_img(imagePath, target_size=(224, 224))\n",
    "      image = img_to_array(image)\n",
    "\n",
    "      image = np.expand_dims(image, axis=0)\n",
    "      image = preprocess_input(image)\n",
    "\n",
    "      vector = Model.predict(image)\n",
    "      vectors.append(vector.flatten())\n",
    "\n",
    "    with open(outputFile,'a') as fp:\n",
    "      for i in range(len(vectors)):\n",
    "        success.append(listofFiles[i+low])\n",
    "        fp.write(listofFiles[i+low])\n",
    "\n",
    "        if vectors[i].size != outputLen:\n",
    "          raise Exception('Excpected output length is not correct ',str(vectors[i].size),str(outputLen))\n",
    "\n",
    "        for k in range(vectors[i].shape[0]):\n",
    "          fp.write(','+str(vectors[i][k]))\n",
    "        \n",
    "        fp.write('\\n')\n",
    "  \n",
    "  except Exception as e:\n",
    "    print(e)\n",
    "    for i in range(low,high):\n",
    "      failed.append(listofFiles[i])"
   ]
  },
  {
   "cell_type": "code",
   "execution_count": null,
   "metadata": {
    "colab": {
     "base_uri": "https://localhost:8080/"
    },
    "executionInfo": {
     "elapsed": 486454,
     "status": "ok",
     "timestamp": 1615474170566,
     "user": {
      "displayName": "AKHIL SHUKLA",
      "photoUrl": "",
      "userId": "18234957676405317826"
     },
     "user_tz": -330
    },
    "id": "mPneV2P7A-pM",
    "outputId": "931c45b1-9f51-4a35-d8dd-bd7bfc265e94"
   },
   "outputs": [],
   "source": [
    "iter=(int)(len(listofFiles)/batchSize)\n",
    "if batchSize*iter!=len(listofFiles):\n",
    "  iter+=1\n",
    "\n",
    "print(iter)"
   ]
  },
  {
   "cell_type": "code",
   "execution_count": null,
   "metadata": {
    "colab": {
     "base_uri": "https://localhost:8080/"
    },
    "id": "Z7MUZ1ymkbzG",
    "outputId": "a01f38c0-ea48-436c-e955-b51ed4ed7568"
   },
   "outputs": [],
   "source": [
    "failed=[]\n",
    "success=[]\n",
    "\n",
    "for i in range(iter):\n",
    "  print(i,iter)\n",
    "  low,high=i*batchSize, min((i+1)*batchSize,len(listofFiles))\n",
    "  worker(low,high)\n"
   ]
  },
  {
   "cell_type": "code",
   "execution_count": null,
   "metadata": {
    "id": "_F2Etz-QlR8_"
   },
   "outputs": [],
   "source": [
    "print(len(failed),len(success))"
   ]
  }
 ],
 "metadata": {
  "accelerator": "GPU",
  "colab": {
   "authorship_tag": "ABX9TyOkpQoLsi0BIFicmZFITYGP",
   "collapsed_sections": [],
   "name": "keras_featureExtraction.ipynb",
   "provenance": []
  },
  "kernelspec": {
   "display_name": "Python 3",
   "language": "python",
   "name": "python3"
  },
  "language_info": {
   "codemirror_mode": {
    "name": "ipython",
    "version": 3
   },
   "file_extension": ".py",
   "mimetype": "text/x-python",
   "name": "python",
   "nbconvert_exporter": "python",
   "pygments_lexer": "ipython3",
   "version": "3.8.5"
  }
 },
 "nbformat": 4,
 "nbformat_minor": 1
}
