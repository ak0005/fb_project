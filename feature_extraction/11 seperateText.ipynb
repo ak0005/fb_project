{
 "cells": [
  {
   "cell_type": "code",
   "execution_count": null,
   "metadata": {
    "executionInfo": {
     "elapsed": 2671,
     "status": "ok",
     "timestamp": 1615479650017,
     "user": {
      "displayName": "AKHIL SHUKLA",
      "photoUrl": "",
      "userId": "18234957676405317826"
     },
     "user_tz": -330
    },
    "id": "ePDdUQ1SvuXL"
   },
   "outputs": [],
   "source": [
    "import numpy as np\n",
    "import os\n",
    "from pymongo import MongoClient\n",
    "import utils.const as const\n",
    "import re\n",
    "import demoji"
   ]
  },
  {
   "cell_type": "code",
   "execution_count": null,
   "metadata": {},
   "outputs": [],
   "source": [
    "client = MongoClient()\n",
    "client.list_database_names() # ['admin', 'local']"
   ]
  },
  {
   "cell_type": "code",
   "execution_count": null,
   "metadata": {
    "executionInfo": {
     "elapsed": 1954,
     "status": "ok",
     "timestamp": 1615479650021,
     "user": {
      "displayName": "AKHIL SHUKLA",
      "photoUrl": "",
      "userId": "18234957676405317826"
     },
     "user_tz": -330
    },
    "id": "I9USLyJG2lQ2"
   },
   "outputs": [],
   "source": [
    "db=const.grpId\n",
    "collection=const.PostCollection\n",
    "data='data.txt'\n",
    "count='count.txt'\n",
    "id_file='id.txt'\n",
    "myCollect=client[db][collection]\n"
   ]
  },
  {
   "cell_type": "code",
   "execution_count": null,
   "metadata": {},
   "outputs": [],
   "source": [
    "myCollect=client[db][collection]\n",
    "dataFp=open(data,'w')\n",
    "countFp=open(count,'w')\n",
    "idFp=open(id_file,'w')"
   ]
  },
  {
   "cell_type": "code",
   "execution_count": null,
   "metadata": {},
   "outputs": [],
   "source": [
    "def process(s):\n",
    "    s=s.replace('\\n',' ')  ## new line\n",
    "    \n",
    "    s = re.sub('https?:\\S*', ' ', s, flags=re.MULTILINE) ## links\n",
    "    \n",
    "    s=re.sub('[#$]+',' ',s) ## characters that are not required\n",
    "    \n",
    "    s=demoji.replace_with_desc(s, \"$$\") ## emoji graphic\n",
    "    s=s.replace('$$',' ') \n",
    "    \n",
    "    s=re.sub('\\s+', ' ',s) ## extra space\n",
    "    \n",
    "    return s;"
   ]
  },
  {
   "cell_type": "code",
   "execution_count": null,
   "metadata": {
    "executionInfo": {
     "elapsed": 2579,
     "status": "ok",
     "timestamp": 1615479652430,
     "user": {
      "displayName": "AKHIL SHUKLA",
      "photoUrl": "",
      "userId": "18234957676405317826"
     },
     "user_tz": -330
    },
    "id": "RvqgI3pbyxGu"
   },
   "outputs": [],
   "source": [
    "# post msg\n",
    "c=0\n",
    "for post in myCollect.find({}):\n",
    "    m=''\n",
    "    if 'message' in post:\n",
    "        m=post['message']\n",
    "        \n",
    "    dataFp.write(process(m)+'\\n')\n",
    "    idFp.write(post['_id']+'\\n')\n",
    "    \n",
    "    c=c+1\n",
    "    \n",
    "countFp.write(str(c)+'\\n')"
   ]
  },
  {
   "cell_type": "code",
   "execution_count": null,
   "metadata": {},
   "outputs": [],
   "source": [
    "# post comment\n",
    "# c=0\n",
    "# for post in myCollect.find({}):\n",
    "#     if 'comments' in post:\n",
    "#         for comment in post['comments']:\n",
    "#             m=''\n",
    "#             if 'message' in comment:\n",
    "#                 m=comment['message']\n",
    "                \n",
    "#             dataFp.write(process(m)+'\\n')\n",
    "            \n",
    "#             idFp.write(post['_id']+' '+comment['_id']+'\\n')\n",
    "#             c=c+1\n",
    "# countFp.write(str(c)+'\\n')"
   ]
  },
  {
   "cell_type": "code",
   "execution_count": null,
   "metadata": {},
   "outputs": [],
   "source": [
    "# post subcomment \n",
    "# c=0\n",
    "# for post in myCollect.find({}):\n",
    "#     if 'comments' in post:\n",
    "#         for comment in post['comments']:\n",
    "#             if 'subComments' in comment:\n",
    "#                 for subComment in comment['subComments']:\n",
    "#                     m=''\n",
    "#                     if 'message' in subComment:\n",
    "#                         m=subComment['message']\n",
    "#                     dataFp.write(process(m)+'\\n')\n",
    "#                     idFp.write(post['_id']+' '+comment['_id']+' '+subComment['_id']+' '+subComment['created_time']+' '+subComment['lang']+'\\n')\n",
    "#                     c=c+1\n",
    "# countFp.write(str(c)+'\\n')"
   ]
  },
  {
   "cell_type": "code",
   "execution_count": null,
   "metadata": {},
   "outputs": [],
   "source": [
    "dataFp.close()\n",
    "idFp.close()\n",
    "countFp.close()"
   ]
  },
  {
   "cell_type": "markdown",
   "metadata": {},
   "source": [
    "# Following code can be used to create csv file for transaltion using Goggle sheet"
   ]
  },
  {
   "cell_type": "code",
   "execution_count": null,
   "metadata": {},
   "outputs": [],
   "source": [
    "import xlsxwriter\n",
    "import xlrd\n",
    "\n",
    "row_limit=20000\n",
    "outputFile='dataOut.xlsx'\n",
    "inputFile='dataIn.xlsx'"
   ]
  },
  {
   "cell_type": "code",
   "execution_count": null,
   "metadata": {},
   "outputs": [],
   "source": [
    "fp=open(data,'r')\n",
    "lines=fp.readlines()\n",
    "fp.close()\n",
    "\n",
    "l=len(lines)\n",
    "print(l)\n",
    "\n",
    "colNum=(int)(l/row_limit)\n",
    "if colNum*row_limit != l:\n",
    "    colNum=colNum+1\n",
    "print(colNum)\n",
    "\n",
    "workbook = xlsxwriter.Workbook(outputFile)\n",
    "worksheet = workbook.add_worksheet()\n",
    "\n",
    "rowCount=0\n",
    "\n",
    "for i in range(row_limit):\n",
    "    if i*colNum>=l:\n",
    "        break;\n",
    "        \n",
    "    st=''\n",
    "    for j in range(colNum):\n",
    "        if i*colNum + j < l:\n",
    "            st+=lines[i*colNum + j][:-1]\n",
    "            st+=' $ '\n",
    "        else:\n",
    "            break\n",
    "    if len(st)==0:\n",
    "        st+=' '\n",
    "    worksheet.write(i,0,st)\n",
    "    rowCount+=1\n",
    "\n",
    "print('rows in sheet '+str(rowCount))\n",
    "\n",
    "workbook.close()"
   ]
  },
  {
   "cell_type": "markdown",
   "metadata": {},
   "source": [
    "## now upload outputFile in google sheet and translate it then copy the result in inputFile"
   ]
  },
  {
   "cell_type": "code",
   "execution_count": null,
   "metadata": {},
   "outputs": [],
   "source": [
    "fp=open(data,'w')\n",
    "\n",
    "colNum=(int)(l/row_limit)\n",
    "if colNum*row_limit != l:\n",
    "    colNum=colNum+1\n",
    "\n",
    "workbook = xlrd.open_workbook(inputFile)\n",
    "sheet = workbook.sheet_by_index(0)\n",
    "\n",
    "print('rows in sheet '+str(sheet.nrows))\n",
    "\n",
    "for i in range(sheet.nrows):\n",
    "    st=sheet.cell_value(i, 0)\n",
    "    arr=st.split('$')\n",
    "    \n",
    "    if len(arr) < colNum:\n",
    "        print(i,len(arr))\n",
    "    \n",
    "    while len(arr)<colNum+1: ### +1 because of second last line of above cell does not have st[:-2] but st\n",
    "        arr.append('')\n",
    "    \n",
    "    for k in arr[0:colNum]:\n",
    "        fp.write(k.strip()+\"\\n\")\n",
    "\n",
    "fp.close()"
   ]
  }
 ],
 "metadata": {
  "colab": {
   "authorship_tag": "ABX9TyNigTOYOGe+vYjCnw/NcnZ3",
   "name": "visualisingData.ipynb",
   "toc_visible": true,
   "version": ""
  },
  "kernelspec": {
   "display_name": "Python 3",
   "language": "python",
   "name": "python3"
  },
  "language_info": {
   "codemirror_mode": {
    "name": "ipython",
    "version": 3
   },
   "file_extension": ".py",
   "mimetype": "text/x-python",
   "name": "python",
   "nbconvert_exporter": "python",
   "pygments_lexer": "ipython3",
   "version": "3.8.5"
  }
 },
 "nbformat": 4,
 "nbformat_minor": 1
}
