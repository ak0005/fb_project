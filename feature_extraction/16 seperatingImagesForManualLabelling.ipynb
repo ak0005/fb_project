{
 "cells": [
  {
   "cell_type": "code",
   "execution_count": null,
   "metadata": {
    "executionInfo": {
     "elapsed": 1206,
     "status": "ok",
     "timestamp": 1617622007777,
     "user": {
      "displayName": "AKHIL SHUKLA",
      "photoUrl": "",
      "userId": "18234957676405317826"
     },
     "user_tz": -330
    },
    "id": "ZyvPI09sbiv4"
   },
   "outputs": [],
   "source": [
    "from pymongo import MongoClient\n",
    "import os\n",
    "from multiprocessing.pool import ThreadPool as Pool\n",
    "import cv2\n",
    "import numpy as np\n",
    "import utils.const as const"
   ]
  },
  {
   "cell_type": "code",
   "execution_count": null,
   "metadata": {
    "executionInfo": {
     "elapsed": 822,
     "status": "ok",
     "timestamp": 1617621251254,
     "user": {
      "displayName": "AKHIL SHUKLA",
      "photoUrl": "",
      "userId": "18234957676405317826"
     },
     "user_tz": -330
    },
    "id": "jqchW2xHboAS"
   },
   "outputs": [],
   "source": [
    "#### wrote this code for colab where \"dir\" is not in colab's memory but in G Drive\n",
    "\n",
    "db=const.grpId\n",
    "collection=const.PostCollection\n",
    "dir=db\n",
    "outPutFile='manually.csv'\n",
    "\n",
    "dir2='targetImages'\n",
    "\n",
    "pool_size = 20  # your \"parallelness\""
   ]
  },
  {
   "cell_type": "code",
   "execution_count": null,
   "metadata": {
    "colab": {
     "base_uri": "https://localhost:8080/"
    },
    "executionInfo": {
     "elapsed": 1722,
     "status": "ok",
     "timestamp": 1617620985159,
     "user": {
      "displayName": "AKHIL SHUKLA",
      "photoUrl": "",
      "userId": "18234957676405317826"
     },
     "user_tz": -330
    },
    "id": "R5G2kwhOb9ZF",
    "outputId": "78d7cd22-ea4d-417a-899b-b91bcfd88a8d"
   },
   "outputs": [],
   "source": [
    "client = MongoClient()\n",
    "myCollect=client[db][collection]\n",
    "print(len(os.listdir(dir)))"
   ]
  },
  {
   "cell_type": "code",
   "execution_count": null,
   "metadata": {
    "executionInfo": {
     "elapsed": 935,
     "status": "ok",
     "timestamp": 1617620986283,
     "user": {
      "displayName": "AKHIL SHUKLA",
      "photoUrl": "",
      "userId": "18234957676405317826"
     },
     "user_tz": -330
    },
    "id": "80kFnAokgNrM"
   },
   "outputs": [],
   "source": [
    "addrList=[]"
   ]
  },
  {
   "cell_type": "code",
   "execution_count": null,
   "metadata": {
    "colab": {
     "base_uri": "https://localhost:8080/"
    },
    "executionInfo": {
     "elapsed": 1409,
     "status": "ok",
     "timestamp": 1617620988283,
     "user": {
      "displayName": "AKHIL SHUKLA",
      "photoUrl": "",
      "userId": "18234957676405317826"
     },
     "user_tz": -330
    },
    "id": "RVSlNO2NeYWe",
    "outputId": "18692908-307f-42ab-e584-29e60f614c4e"
   },
   "outputs": [],
   "source": [
    "for post in myCollect.find():\n",
    "  if 'comments' in post:\n",
    "    for comment in post['comments']:\n",
    "      if 'attachment' in comment and 'images' in comment['attachment']:\n",
    "        for k in comment['attachment']['images']:\n",
    "          addr=os.path.join(dir,post[\"_id\"],'comments',comment['_id'],'attachment','images',k)\n",
    "          addrList.append(addr)\n",
    "\n",
    "print(len(addrList))"
   ]
  },
  {
   "cell_type": "code",
   "execution_count": null,
   "metadata": {
    "colab": {
     "base_uri": "https://localhost:8080/"
    },
    "executionInfo": {
     "elapsed": 787,
     "status": "ok",
     "timestamp": 1617620988285,
     "user": {
      "displayName": "AKHIL SHUKLA",
      "photoUrl": "",
      "userId": "18234957676405317826"
     },
     "user_tz": -330
    },
    "id": "FCat_zNr6DxO",
    "outputId": "4dabde40-ed1e-4116-8a31-c20e30930d59"
   },
   "outputs": [],
   "source": [
    "print(addrList[0])"
   ]
  },
  {
   "cell_type": "code",
   "execution_count": null,
   "metadata": {
    "colab": {
     "base_uri": "https://localhost:8080/"
    },
    "executionInfo": {
     "elapsed": 1068,
     "status": "ok",
     "timestamp": 1617621009001,
     "user": {
      "displayName": "AKHIL SHUKLA",
      "photoUrl": "",
      "userId": "18234957676405317826"
     },
     "user_tz": -330
    },
    "id": "b9QnENTfr0rm",
    "outputId": "259ca916-b28e-4b03-df3b-e840097c3a78"
   },
   "outputs": [],
   "source": [
    "if not os.path.isdir(dir2):\n",
    "  os.mkdir(dir2)\n",
    "else:\n",
    "  print(dir2,\"exist\")"
   ]
  },
  {
   "cell_type": "code",
   "execution_count": null,
   "metadata": {
    "colab": {
     "base_uri": "https://localhost:8080/"
    },
    "executionInfo": {
     "elapsed": 1027,
     "status": "ok",
     "timestamp": 1617620997976,
     "user": {
      "displayName": "AKHIL SHUKLA",
      "photoUrl": "",
      "userId": "18234957676405317826"
     },
     "user_tz": -330
    },
    "id": "Kgpfyl52nhsD",
    "outputId": "7fb88b8b-a5a7-45cf-f63f-f2b18777029d"
   },
   "outputs": [],
   "source": [
    "def getNewName(addr):\n",
    "  arr=addr.split('/')\n",
    "  return arr[6]+'_'+arr[8]+'_I'+arr[11]\n",
    "\n",
    "print(getNewName(addrList[0]))"
   ]
  },
  {
   "cell_type": "code",
   "execution_count": null,
   "metadata": {
    "executionInfo": {
     "elapsed": 1038,
     "status": "ok",
     "timestamp": 1617621020485,
     "user": {
      "displayName": "AKHIL SHUKLA",
      "photoUrl": "",
      "userId": "18234957676405317826"
     },
     "user_tz": -330
    },
    "id": "emsVW5W7tz7o"
   },
   "outputs": [],
   "source": [
    "def worker(l,r):\n",
    "    for i in range(l,r):\n",
    "      os.system('cp '+addrList[i]+' '+os.path.join(dir2,getNewName(addrList[i])))"
   ]
  },
  {
   "cell_type": "code",
   "execution_count": null,
   "metadata": {
    "colab": {
     "base_uri": "https://localhost:8080/"
    },
    "executionInfo": {
     "elapsed": 744,
     "status": "ok",
     "timestamp": 1617621255012,
     "user": {
      "displayName": "AKHIL SHUKLA",
      "photoUrl": "",
      "userId": "18234957676405317826"
     },
     "user_tz": -330
    },
    "id": "imzjomD2uniT",
    "outputId": "e4256fa4-b367-4463-d46f-de2a4d6709d5"
   },
   "outputs": [],
   "source": [
    "batchSize=(int)(len(addrList)/pool_size)\n",
    "if pool_size*batchSize!=len(addrList):\n",
    "  batchSize+=1\n",
    "\n",
    "print(batchSize)"
   ]
  },
  {
   "cell_type": "code",
   "execution_count": null,
   "metadata": {
    "executionInfo": {
     "elapsed": 1358,
     "status": "ok",
     "timestamp": 1617621310904,
     "user": {
      "displayName": "AKHIL SHUKLA",
      "photoUrl": "",
      "userId": "18234957676405317826"
     },
     "user_tz": -330
    },
    "id": "0RaIX8TGuert"
   },
   "outputs": [],
   "source": [
    "pool = Pool(pool_size)\n",
    "\n",
    "for i in range(pool_size):\n",
    "    pool.apply_async(worker, (i*batchSize,min(len(addrList),(i+1)*batchSize)))"
   ]
  },
  {
   "cell_type": "code",
   "execution_count": null,
   "metadata": {
    "executionInfo": {
     "elapsed": 219916,
     "status": "ok",
     "timestamp": 1617621535805,
     "user": {
      "displayName": "AKHIL SHUKLA",
      "photoUrl": "",
      "userId": "18234957676405317826"
     },
     "user_tz": -330
    },
    "id": "CGN8CZeovd-E"
   },
   "outputs": [],
   "source": [
    "pool.close()\n",
    "pool.join()"
   ]
  },
  {
   "cell_type": "code",
   "execution_count": null,
   "metadata": {
    "colab": {
     "base_uri": "https://localhost:8080/"
    },
    "executionInfo": {
     "elapsed": 1175,
     "status": "ok",
     "timestamp": 1617621536992,
     "user": {
      "displayName": "AKHIL SHUKLA",
      "photoUrl": "",
      "userId": "18234957676405317826"
     },
     "user_tz": -330
    },
    "id": "zYyOnmZ7vnDs",
    "outputId": "56100f05-ec94-4214-bf83-c11e9a265b44"
   },
   "outputs": [],
   "source": [
    "!du -hs targetImages"
   ]
  },
  {
   "cell_type": "code",
   "execution_count": null,
   "metadata": {
    "executionInfo": {
     "elapsed": 18364,
     "status": "ok",
     "timestamp": 1617621971951,
     "user": {
      "displayName": "AKHIL SHUKLA",
      "photoUrl": "",
      "userId": "18234957676405317826"
     },
     "user_tz": -330
    },
    "id": "QopUgkJswUjV"
   },
   "outputs": [],
   "source": [
    "images=[]\n",
    "for i in range(len(addrList)):\n",
    "  addrList[i]=getNewName(addrList[i])\n",
    "  im=cv2.imread(os.path.join(dir2,addrList[i]))\n",
    "  im=cv2.resize(im,(256,256))\n",
    "\n",
    "  images.append(im)"
   ]
  },
  {
   "cell_type": "code",
   "execution_count": null,
   "metadata": {
    "executionInfo": {
     "elapsed": 1040,
     "status": "ok",
     "timestamp": 1617622010458,
     "user": {
      "displayName": "AKHIL SHUKLA",
      "photoUrl": "",
      "userId": "18234957676405317826"
     },
     "user_tz": -330
    },
    "id": "Y9HgZJVFx_0F"
   },
   "outputs": [],
   "source": [
    "images=np.array(images)"
   ]
  },
  {
   "cell_type": "code",
   "execution_count": null,
   "metadata": {
    "colab": {
     "base_uri": "https://localhost:8080/"
    },
    "executionInfo": {
     "elapsed": 190339,
     "status": "ok",
     "timestamp": 1617622561593,
     "user": {
      "displayName": "AKHIL SHUKLA",
      "photoUrl": "",
      "userId": "18234957676405317826"
     },
     "user_tz": -330
    },
    "id": "z2R0ogNEyIIc",
    "outputId": "554d0754-7c6a-415a-a2e1-4398c53879fa"
   },
   "outputs": [],
   "source": [
    "un=np.unique(images,axis=0)\n",
    "print(len(un))"
   ]
  },
  {
   "cell_type": "code",
   "execution_count": null,
   "metadata": {
    "executionInfo": {
     "elapsed": 2782,
     "status": "ok",
     "timestamp": 1617624571795,
     "user": {
      "displayName": "AKHIL SHUKLA",
      "photoUrl": "",
      "userId": "18234957676405317826"
     },
     "user_tz": -330
    },
    "id": "qvFpry916PUl"
   },
   "outputs": [],
   "source": [
    "dir3=dir2+'2'\n",
    "if not os.path.isdir(dir3):\n",
    "  os.mkdir(dir3)\n",
    "else:\n",
    "  print(dir3,\"exist\")\n",
    "\n",
    "for i in range(len(un)):\n",
    "  cv2.imwrite(os.path.join(dir3,str(i+1)+'.jpg'),un[i])"
   ]
  },
  {
   "cell_type": "code",
   "execution_count": null,
   "metadata": {
    "id": "F7-pgnNn7Nxr"
   },
   "outputs": [],
   "source": [
    "!zip -r -9 manualImages.zip targetImages2"
   ]
  },
  {
   "cell_type": "code",
   "execution_count": null,
   "metadata": {
    "executionInfo": {
     "elapsed": 45359,
     "status": "ok",
     "timestamp": 1617626247800,
     "user": {
      "displayName": "AKHIL SHUKLA",
      "photoUrl": "",
      "userId": "18234957676405317826"
     },
     "user_tz": -330
    },
    "id": "2yaIlw1i7swy"
   },
   "outputs": [],
   "source": [
    "similarImages=[]\n",
    "for i in range(len(un)):\n",
    "  similarImages.append(str(i+1)+',,')\n",
    "\n",
    "for i in range(len(images)):\n",
    "  k=-1;\n",
    "  for j in range(len(un)):\n",
    "    if (images[i]==un[j]).all():\n",
    "      k=j\n",
    "      break\n",
    "  similarImages[k]+=addrList[i]+' '"
   ]
  },
  {
   "cell_type": "code",
   "execution_count": null,
   "metadata": {
    "executionInfo": {
     "elapsed": 45224,
     "status": "ok",
     "timestamp": 1617626247808,
     "user": {
      "displayName": "AKHIL SHUKLA",
      "photoUrl": "",
      "userId": "18234957676405317826"
     },
     "user_tz": -330
    },
    "id": "domtRr3-_L0C"
   },
   "outputs": [],
   "source": [
    "with open(outPutFile,'w') as fp:\n",
    "  fp.write('image_id,your_sentimental_tags,image_ids(ignore)\\n')\n",
    "\n",
    "  for i in range(len(similarImages)):\n",
    "    fp.write(similarImages[i]+'\\n')\n"
   ]
  },
  {
   "cell_type": "code",
   "execution_count": null,
   "metadata": {
    "id": "WY129gefBCIv"
   },
   "outputs": [],
   "source": []
  }
 ],
 "metadata": {
  "colab": {
   "authorship_tag": "ABX9TyMmajgIonZTDD936jnEpDxk",
   "collapsed_sections": [],
   "name": "Copy of OCRonComments.ipynb",
   "provenance": []
  },
  "kernelspec": {
   "display_name": "Python 3",
   "language": "python",
   "name": "python3"
  },
  "language_info": {
   "codemirror_mode": {
    "name": "ipython",
    "version": 3
   },
   "file_extension": ".py",
   "mimetype": "text/x-python",
   "name": "python",
   "nbconvert_exporter": "python",
   "pygments_lexer": "ipython3",
   "version": "3.8.5"
  }
 },
 "nbformat": 4,
 "nbformat_minor": 1
}
