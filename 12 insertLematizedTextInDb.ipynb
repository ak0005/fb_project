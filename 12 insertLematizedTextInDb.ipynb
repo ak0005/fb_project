{
 "cells": [
  {
   "cell_type": "code",
   "execution_count": null,
   "metadata": {
    "executionInfo": {
     "elapsed": 2671,
     "status": "ok",
     "timestamp": 1615479650017,
     "user": {
      "displayName": "AKHIL SHUKLA",
      "photoUrl": "",
      "userId": "18234957676405317826"
     },
     "user_tz": -330
    },
    "id": "ePDdUQ1SvuXL"
   },
   "outputs": [],
   "source": [
    "import numpy as np\n",
    "import os\n",
    "import pandas as pd\n",
    "from ast import literal_eval\n",
    "from pymongo import MongoClient\n",
    "import utils.const as const\n",
    "import re\n"
   ]
  },
  {
   "cell_type": "code",
   "execution_count": null,
   "metadata": {},
   "outputs": [],
   "source": [
    "client = MongoClient()\n",
    "client.list_database_names() # ['admin', 'local']"
   ]
  },
  {
   "cell_type": "code",
   "execution_count": null,
   "metadata": {
    "executionInfo": {
     "elapsed": 1954,
     "status": "ok",
     "timestamp": 1615479650021,
     "user": {
      "displayName": "AKHIL SHUKLA",
      "photoUrl": "",
      "userId": "18234957676405317826"
     },
     "user_tz": -330
    },
    "id": "I9USLyJG2lQ2"
   },
   "outputs": [],
   "source": [
    "db=const.grpId\n",
    "collection=const.PostCollection\n",
    "\n",
    "data='lemmatized_data.txt'\n",
    "count='count.txt'\n",
    "id_='id.txt'\n",
    "\n",
    "wordDictFile='word_dictionary.csv'\n",
    "wordDict={}"
   ]
  },
  {
   "cell_type": "code",
   "execution_count": null,
   "metadata": {},
   "outputs": [],
   "source": [
    "myCollect=client[db][collection]"
   ]
  },
  {
   "cell_type": "code",
   "execution_count": null,
   "metadata": {},
   "outputs": [],
   "source": [
    "with open(wordDictFile,'r') as fp:\n",
    "    fp.readline()\n",
    "    for l in fp:\n",
    "        arr=l.split(',')\n",
    "        if len(arr):\n",
    "            wordDict[arr[0]]=1"
   ]
  },
  {
   "cell_type": "code",
   "execution_count": null,
   "metadata": {},
   "outputs": [],
   "source": [
    "def clean(arr):\n",
    "    ans=[]\n",
    "    for i in arr:\n",
    "        if i in wordDict:\n",
    "            ans.append(i)\n",
    "    \n",
    "    return ans"
   ]
  },
  {
   "cell_type": "code",
   "execution_count": null,
   "metadata": {},
   "outputs": [],
   "source": [
    "postCount=0\n",
    "#commentCount=0\n",
    "#subCommentCount=0\n",
    "\n",
    "with open(count,'r')as fp:\n",
    "    postCount=int(fp.readline()[:-1])\n",
    "    #commentCount=int(fp.readline()[:-1])\n",
    "    #subCommentCount=int(fp.readline()[:-1])\n",
    "\n",
    "#print(postCount,commentCount,subCommentCount)\n",
    "print(postCount)"
   ]
  },
  {
   "cell_type": "code",
   "execution_count": null,
   "metadata": {},
   "outputs": [],
   "source": [
    "fpd=open(data,'r')\n",
    "fpi=open(id_,'r')"
   ]
  },
  {
   "cell_type": "code",
   "execution_count": null,
   "metadata": {},
   "outputs": [],
   "source": [
    "for i in range(postCount):\n",
    "    arr=fpd.readline()[:-1].split(' ')\n",
    "    arr=clean(arr)\n",
    "    \n",
    "    postId=fpi.readline()[:-1]\n",
    "    \n",
    "    result=myCollect.update_one({'_id': postId}, {\n",
    "            \"$set\": {'message' : arr}\n",
    "        })\n",
    "    if result.matched_count==0 :\n",
    "        print(\"==\"+postId+\"==\")\n",
    "        print(i,'fail1')\n",
    "        print(result.matched_count , result.modified_count)"
   ]
  },
  {
   "cell_type": "code",
   "execution_count": null,
   "metadata": {},
   "outputs": [],
   "source": [
    "# for i in range(commentCount):\n",
    "#     arr=fpd.readline()[:-1].split(' ')\n",
    "#     arr=clean(arr)\n",
    "    \n",
    "#     arr2=fpi.readline()[:-1].split(' ')\n",
    "#     postId=arr2[0]\n",
    "#     commentId=arr2[1]\n",
    "    \n",
    "#     result=myCollect.update_one({'_id': postId, 'comments': {'$elemMatch': {'_id': commentId}}}, {\n",
    "#                         '$set': {'comments.$.message':  arr}})\n",
    "    \n",
    "#     myCollect.update_one({'_id': postId, 'comments': {'$elemMatch': {'_id': commentId}}}, {\n",
    "#                         '$unset': {'comments.$.subComments' : \"\"}})\n",
    "    \n",
    "#     if result.matched_count==0 :\n",
    "#         print(\"==\"+postId+\"==\")\n",
    "#         print(\"==\"+commentId+\"==\")\n",
    "#         print(i,'fail1')\n",
    "#         print(result.matched_count , result.modified_count)"
   ]
  },
  {
   "cell_type": "code",
   "execution_count": null,
   "metadata": {},
   "outputs": [],
   "source": [
    "# for i in range(subCommentCount):\n",
    "#     arr=fpd.readline()[:-1].split(' ')\n",
    "#     arr=clean(arr)\n",
    "    \n",
    "#     arr2=fpi.readline()[:-1].split(' ')\n",
    "#     postId=arr2[0]\n",
    "#     commentId=arr2[1]\n",
    "#     subCommentId=arr2[2]\n",
    "#     created_time=arr2[3]\n",
    "#     lang=arr2[4]\n",
    "    \n",
    "#     d2 = {'_id': subCommentId,'created_time':created_time,'message':arr,'lang':lang}\n",
    "    \n",
    "#     result=myCollect.update_one({'_id': postId, 'comments': {'$elemMatch': {'_id': commentId}}}, {\n",
    "#         '$push': {'comments.$.subComments': d2}})\n",
    "    \n",
    "    \n",
    "#     if result.matched_count==0 :\n",
    "#         print(\"==\"+postId+\"==\")\n",
    "#         print(\"==\"+commentId+\"==\")\n",
    "#         print(i,'fail1')\n",
    "#         print(result.matched_count , result.modified_count)"
   ]
  },
  {
   "cell_type": "code",
   "execution_count": null,
   "metadata": {},
   "outputs": [],
   "source": []
  }
 ],
 "metadata": {
  "colab": {
   "authorship_tag": "ABX9TyNigTOYOGe+vYjCnw/NcnZ3",
   "name": "visualisingData.ipynb",
   "toc_visible": true,
   "version": ""
  },
  "kernelspec": {
   "display_name": "Python 3",
   "language": "python",
   "name": "python3"
  },
  "language_info": {
   "codemirror_mode": {
    "name": "ipython",
    "version": 3
   },
   "file_extension": ".py",
   "mimetype": "text/x-python",
   "name": "python",
   "nbconvert_exporter": "python",
   "pygments_lexer": "ipython3",
   "version": "3.8.5"
  }
 },
 "nbformat": 4,
 "nbformat_minor": 1
}
