{
 "cells": [
  {
   "cell_type": "code",
   "execution_count": null,
   "metadata": {
    "id": "jinQxMRPxYWF"
   },
   "outputs": [],
   "source": [
    "from pymongo import MongoClient\n",
    "import numpy as np\n",
    "import utils.const as const"
   ]
  },
  {
   "cell_type": "code",
   "execution_count": null,
   "metadata": {
    "id": "T02whxPyD0Vr"
   },
   "outputs": [],
   "source": [
    "client = MongoClient()\n",
    "myCollect=client[db][collection]"
   ]
  },
  {
   "cell_type": "code",
   "execution_count": null,
   "metadata": {
    "id": "L6ljP4VJxK0Y"
   },
   "outputs": [],
   "source": [
    "db=const.grpId\n",
    "collection=const.PostCollection\n",
    "\n",
    "\n",
    "outFile='data.csv'\n",
    "outFileMini='dataMini.csv'\n",
    "inFileI='vgg16_post.csv'\n",
    "inFileT='text_post.csv'\n",
    "textVectors={}\n",
    "done={}\n",
    "\n",
    "miniSize=2500\n",
    "textVectorLen=100\n",
    "imageVectorLen=7*7*512"
   ]
  },
  {
   "cell_type": "code",
   "execution_count": null,
   "metadata": {
    "colab": {
     "base_uri": "https://localhost:8080/"
    },
    "id": "UiyGcnOdATyh",
    "outputId": "6688afcf-7b6e-4de0-a0b6-aa24b6e4b76c"
   },
   "outputs": [],
   "source": [
    "with open(inFileI,'r') as fp:\n",
    "  for k in fp:\n",
    "    print(k[:33],k[34:37],k[-2:]+'=')\n",
    "    break"
   ]
  },
  {
   "cell_type": "code",
   "execution_count": null,
   "metadata": {
    "id": "V0UAc8KJAbTN"
   },
   "outputs": [],
   "source": [
    "with open(inFileT,'r') as fp:\n",
    "  for k in fp:\n",
    "    if len(k)<33:\n",
    "      continue\n",
    "\n",
    "    textVectors[k[:33]]=k[34:-1]"
   ]
  },
  {
   "cell_type": "code",
   "execution_count": null,
   "metadata": {
    "id": "eNtXp5isA7Z1"
   },
   "outputs": [],
   "source": [
    "def getNull(l=0):\n",
    "  ans=\"\"\n",
    "  for _ in range(l):\n",
    "    ans+=','\n",
    "  return ans\n"
   ]
  },
  {
   "cell_type": "code",
   "execution_count": null,
   "metadata": {
    "id": "6SfX5RmbIy5V"
   },
   "outputs": [],
   "source": [
    "list1=['post_id','lang_en','lang_gu','lang_hi','created_time','updated_time','len_message','img_count','vid_count']\n",
    "list2=['reactions','comment_sentiment','comment_count']"
   ]
  },
  {
   "cell_type": "code",
   "execution_count": null,
   "metadata": {
    "id": "s8_JsPgnBHm3"
   },
   "outputs": [],
   "source": [
    "def getDataFromDB(post_id):\n",
    "  ans={}\n",
    "  ans['post_id']=post_id\n",
    "  \n",
    "  for post in myCollect.find({'_id':post_id}):\n",
    "    ans['lang_en']=str(0)\n",
    "    ans['lang_gu']=str(0)\n",
    "    ans['lang_hi']=str(0)\n",
    "\n",
    "    if 'lang' in post:\n",
    "      l = str(post['lang'])\n",
    "      if l=='en':\n",
    "        ans['lang_en']=str(1)\n",
    "      elif l=='gu':\n",
    "        ans['lang_gu']=str(1)\n",
    "      elif l=='hi':\n",
    "        ans['lang_hi']=str(1)\n",
    "\n",
    "    if 'created_time' in post:\n",
    "      ans['created_time']=str(post['created_time'])\n",
    "    else:\n",
    "      ans['created_time']=getNull()\n",
    "\n",
    "    if 'updated_time' in post:\n",
    "      ans['updated_time']=str(post['updated_time'])\n",
    "    else:\n",
    "      ans['updated_time']=getNull()\n",
    "\n",
    "    if 'message' in post:\n",
    "      ans['len_message']=str(len(post['message']))\n",
    "    else:\n",
    "      ans['len_message']=str(0)\n",
    "\n",
    "    if 'attachments' in post and 'images' in post['attachments']:\n",
    "      ans['img_count']=str(len(post['attachments']['images']))\n",
    "    else:\n",
    "      ans['img_count']=str(0)\n",
    "\n",
    "    if 'attachments' in post and 'videos' in post['attachments']:\n",
    "      ans['vid_count']=str(len(post['attachments']['videos']))\n",
    "    else:\n",
    "      ans['vid_count']=str(0)\n",
    "\n",
    "    if 'reactions' in post:\n",
    "      ans['reactions']=str(post['reactions'])\n",
    "    else:\n",
    "      ans['reactions']=getNull()\n",
    "\n",
    "    if 'comment_sentiment' in post:\n",
    "      ans['comment_sentiment']=str(post['comment_sentiment'])\n",
    "    else:\n",
    "      ans['comment_sentiment']=getNull()\n",
    "\n",
    "    if 'comments' in post:\n",
    "      ans['comment_count']=str(len(post['comments']))\n",
    "    else:\n",
    "      ans['comment_count']=str(0)\n",
    "    \n",
    "    break\n",
    "  \n",
    "  return ans"
   ]
  },
  {
   "cell_type": "code",
   "execution_count": null,
   "metadata": {
    "id": "gDZBSpVaHLMa"
   },
   "outputs": [],
   "source": [
    "def getTextVector(post_id):\n",
    "  if post_id in textVectors:\n",
    "    return textVectors[post_id]\n",
    "  else:\n",
    "    return getNull(imageVectorLen)"
   ]
  },
  {
   "cell_type": "code",
   "execution_count": null,
   "metadata": {
    "colab": {
     "base_uri": "https://localhost:8080/"
    },
    "id": "6xb3KdNbIIjv",
    "outputId": "ebda043c-94f7-4234-8dee-bf1e75cc455a"
   },
   "outputs": [],
   "source": [
    "fp=open(outFile,'w')\n",
    "s=''\n",
    "for k in list1:\n",
    "  s+=k+','\n",
    "for i in range(textVectorLen):\n",
    "  s+='t'+str(i+1)+','\n",
    "for i in range(imageVectorLen):\n",
    "  s+='i'+str(i+1)+','\n",
    "for k in list2:\n",
    "  s+=k+','\n",
    "fp.write(s[:-1]+'\\n')"
   ]
  },
  {
   "cell_type": "code",
   "execution_count": null,
   "metadata": {
    "id": "erlwM0TFJrqK"
   },
   "outputs": [],
   "source": [
    "done={}\n",
    "with open(inFileI,'r') as f:\n",
    "  for line in f:\n",
    "    post_id=line[:33]\n",
    "    image_vector=line[34:-1]\n",
    "    text_vector=getTextVector(post_id)\n",
    "    data=getDataFromDB(post_id)\n",
    "\n",
    "    if post_id in done:\n",
    "      print('bang')\n",
    "\n",
    "    s=''\n",
    "\n",
    "    for k in list1:\n",
    "      s+=data[k]+','\n",
    "    s+=text_vector+','\n",
    "    s+=image_vector+','\n",
    "    for k in list2:\n",
    "      s+=data[k]+','\n",
    "    \n",
    "    fp.write(s[:-1]+'\\n')\n",
    "\n",
    "    done[post_id]=1"
   ]
  },
  {
   "cell_type": "code",
   "execution_count": null,
   "metadata": {
    "id": "Es7PQcVmJy7o"
   },
   "outputs": [],
   "source": [
    "for post in myCollect.find():\n",
    "  if post['_id'] not in done:\n",
    "    post_id=post['_id']\n",
    "    image_vector=getNull(imageVectorLen)\n",
    "    text_vector=getTextVector(post_id)\n",
    "    data=getDataFromDB(post_id)\n",
    "    s=''\n",
    "\n",
    "    for k in list1:\n",
    "      s+=data[k]+','\n",
    "    s+=text_vector+','\n",
    "    s+=image_vector+','\n",
    "    for k in list2:\n",
    "      s+=data[k]+','\n",
    "    \n",
    "    fp.write(s[:-1]+'\\n')\n",
    "\n",
    "    done[post_id]=1"
   ]
  },
  {
   "cell_type": "code",
   "execution_count": null,
   "metadata": {
    "colab": {
     "base_uri": "https://localhost:8080/"
    },
    "id": "TaJc5pQ3J8cT",
    "outputId": "678fda60-d0a3-461d-887c-7524b879f115"
   },
   "outputs": [],
   "source": [
    "print(len(done))"
   ]
  },
  {
   "cell_type": "code",
   "execution_count": null,
   "metadata": {
    "id": "ljQ1IUwcMXVJ"
   },
   "outputs": [],
   "source": [
    "fp.close()"
   ]
  },
  {
   "cell_type": "code",
   "execution_count": null,
   "metadata": {
    "id": "iNNc-9i1NYc-"
   },
   "outputs": [],
   "source": [
    "dict1={}\n",
    "for k in np.arange(len(done))[:miniSize]:\n",
    "  dict1[k]=1"
   ]
  },
  {
   "cell_type": "code",
   "execution_count": null,
   "metadata": {
    "id": "2jlA_5D5OzqN"
   },
   "outputs": [],
   "source": [
    "fp=open(outFileMini,'w')\n",
    "with open(outFile,'r') as f:\n",
    "  i=-1\n",
    "  for k in f:\n",
    "    i+=1\n",
    "    if i in dict1:\n",
    "      fp.write(k)\n",
    "fp.close()"
   ]
  }
 ],
 "metadata": {
  "colab": {
   "collapsed_sections": [],
   "name": "20 creatingFinalDataMiniData",
   "provenance": []
  },
  "kernelspec": {
   "display_name": "Python 3",
   "language": "python",
   "name": "python3"
  },
  "language_info": {
   "codemirror_mode": {
    "name": "ipython",
    "version": 3
   },
   "file_extension": ".py",
   "mimetype": "text/x-python",
   "name": "python",
   "nbconvert_exporter": "python",
   "pygments_lexer": "ipython3",
   "version": "3.8.5"
  }
 },
 "nbformat": 4,
 "nbformat_minor": 1
}
