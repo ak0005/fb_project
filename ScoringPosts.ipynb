{
 "cells": [
  {
   "cell_type": "code",
   "execution_count": null,
   "metadata": {
    "id": "0vWZy4_IDL1A"
   },
   "outputs": [],
   "source": [
    "import pandas as pd\n",
    "\n",
    "df = pd.read_csv('/content/IdMergedScores.csv')"
   ]
  },
  {
   "cell_type": "code",
   "execution_count": null,
   "metadata": {
    "id": "oDbXhHdYFeEY"
   },
   "outputs": [],
   "source": [
    "sorted_df = df.sort_values(by=['postId'])"
   ]
  },
  {
   "cell_type": "code",
   "execution_count": null,
   "metadata": {
    "colab": {
     "base_uri": "https://localhost:8080/"
    },
    "id": "bUd2nY68EUax",
    "outputId": "651f7cff-685a-4ed9-820d-371d7f0680ec"
   },
   "outputs": [],
   "source": [
    "print(sorted_df['postId'])"
   ]
  },
  {
   "cell_type": "code",
   "execution_count": null,
   "metadata": {
    "colab": {
     "base_uri": "https://localhost:8080/"
    },
    "id": "jGqMI1SmPXIa",
    "outputId": "63c2bb15-59ce-43a5-ef73-cb18a13f9dbf"
   },
   "outputs": [],
   "source": [
    "with open('postScored.txt', 'w') as f:\n",
    "\n",
    "    prev_post_id = \"Null\"\n",
    "    posc = 0\n",
    "    negc = 0\n",
    "    neuc = 0\n",
    "    net_score = 0.0\n",
    "\n",
    "    lc = 0\n",
    "    for idx, row in sorted_df.iterrows():\n",
    "        lc += 1\n",
    "\n",
    "        curr_post_id = row['postId']\n",
    "\n",
    "        if (prev_post_id != \"Null\" and prev_post_id != curr_post_id):\n",
    "            f.write(str(prev_post_id) + \", \" + str(posc) + \", \" + str(neuc) + \", \" + str(negc) + \", \" + str(posc+neuc+negc) + \", \" + str(net_score) + \"\\n\")\n",
    "            # print(str(prev_post_id) + \", \" + str(posc) + \", \" + str(neuc) + \", \" + str(negc) + \", \" + str(posc+neuc+negc) + \"\\n\")\n",
    "            posc = 0\n",
    "            negc = 0\n",
    "            neuc = 0\n",
    "            net_score = 0.0\n",
    "\n",
    "        if row['compound']>0 :\n",
    "            posc += 1\n",
    "        elif row['compound']<0 :\n",
    "            negc += 1\n",
    "        else:\n",
    "            neuc += 1\n",
    "\n",
    "        net_score += row['compound']\n",
    "\n",
    "        prev_post_id = curr_post_id\n",
    "\n",
    "        if(lc%1000==0): print(lc)\n",
    "    f.write(str(prev_post_id) + \", \" + str(posc) + \", \" + str(neuc) + \", \" + str(negc) + \", \" + str(posc+neuc+negc) + \", \" + str(net_score) + \"\\n\")\n",
    "    # print(str(prev_post_id) + \", \" + str(posc) + \", \" + str(neuc) + \", \" + str(negc) + \", \" + str(posc+neuc+negc) + \"\\n\")"
   ]
  }
 ],
 "metadata": {
  "colab": {
   "name": "ScoringPosts.ipynb",
   "provenance": []
  },
  "kernelspec": {
   "display_name": "Python 3",
   "language": "python",
   "name": "python3"
  },
  "language_info": {
   "codemirror_mode": {
    "name": "ipython",
    "version": 3
   },
   "file_extension": ".py",
   "mimetype": "text/x-python",
   "name": "python",
   "nbconvert_exporter": "python",
   "pygments_lexer": "ipython3",
   "version": "3.8.5"
  }
 },
 "nbformat": 4,
 "nbformat_minor": 1
}
