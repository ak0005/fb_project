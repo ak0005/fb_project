{
  "nbformat": 4,
  "nbformat_minor": 0,
  "metadata": {
    "colab": {
      "name": "ScoringPosts.ipynb",
      "provenance": []
    },
    "kernelspec": {
      "name": "python3",
      "display_name": "Python 3"
    },
    "language_info": {
      "name": "python"
    }
  },
  "cells": [
    {
      "cell_type": "code",
      "metadata": {
        "id": "0vWZy4_IDL1A"
      },
      "source": [
        "import pandas as pd\n",
        "\n",
        "df = pd.read_csv('/content/IdMergedScores.csv')"
      ],
      "execution_count": 1,
      "outputs": []
    },
    {
      "cell_type": "code",
      "metadata": {
        "id": "oDbXhHdYFeEY"
      },
      "source": [
        "sorted_df = df.sort_values(by=['postId'])"
      ],
      "execution_count": 2,
      "outputs": []
    },
    {
      "cell_type": "code",
      "metadata": {
        "colab": {
          "base_uri": "https://localhost:8080/"
        },
        "id": "bUd2nY68EUax",
        "outputId": "651f7cff-685a-4ed9-820d-371d7f0680ec"
      },
      "source": [
        "print(sorted_df['postId'])"
      ],
      "execution_count": 3,
      "outputs": [
        {
          "output_type": "stream",
          "text": [
            "72838    1991716644473195_1992773374367522\n",
            "65004    1991716644473195_1992774981034028\n",
            "65003    1991716644473195_1992774981034028\n",
            "64985    1991716644473195_1992774981034028\n",
            "64986    1991716644473195_1992774981034028\n",
            "                       ...                \n",
            "65412    1991716644473195_2801394706838714\n",
            "65413    1991716644473195_2801394706838714\n",
            "65414    1991716644473195_2801394706838714\n",
            "65405    1991716644473195_2801394706838714\n",
            "72841    1991716644473195_2801394706838714\n",
            "Name: postId, Length: 72842, dtype: object\n"
          ],
          "name": "stdout"
        }
      ]
    },
    {
      "cell_type": "code",
      "metadata": {
        "colab": {
          "base_uri": "https://localhost:8080/"
        },
        "id": "jGqMI1SmPXIa",
        "outputId": "63c2bb15-59ce-43a5-ef73-cb18a13f9dbf"
      },
      "source": [
        "with open('postScored.txt', 'w') as f:\n",
        "\n",
        "    prev_post_id = \"Null\"\n",
        "    posc = 0\n",
        "    negc = 0\n",
        "    neuc = 0\n",
        "    net_score = 0.0\n",
        "\n",
        "    lc = 0\n",
        "    for idx, row in sorted_df.iterrows():\n",
        "        lc += 1\n",
        "\n",
        "        curr_post_id = row['postId']\n",
        "\n",
        "        if (prev_post_id != \"Null\" and prev_post_id != curr_post_id):\n",
        "            f.write(str(prev_post_id) + \", \" + str(posc) + \", \" + str(neuc) + \", \" + str(negc) + \", \" + str(posc+neuc+negc) + \", \" + str(net_score) + \"\\n\")\n",
        "            # print(str(prev_post_id) + \", \" + str(posc) + \", \" + str(neuc) + \", \" + str(negc) + \", \" + str(posc+neuc+negc) + \"\\n\")\n",
        "            posc = 0\n",
        "            negc = 0\n",
        "            neuc = 0\n",
        "            net_score = 0.0\n",
        "\n",
        "        if row['compound']>0 :\n",
        "            posc += 1\n",
        "        elif row['compound']<0 :\n",
        "            negc += 1\n",
        "        else:\n",
        "            neuc += 1\n",
        "\n",
        "        net_score += row['compound']\n",
        "\n",
        "        prev_post_id = curr_post_id\n",
        "\n",
        "        if(lc%1000==0): print(lc)\n",
        "    f.write(str(prev_post_id) + \", \" + str(posc) + \", \" + str(neuc) + \", \" + str(negc) + \", \" + str(posc+neuc+negc) + \", \" + str(net_score) + \"\\n\")\n",
        "    # print(str(prev_post_id) + \", \" + str(posc) + \", \" + str(neuc) + \", \" + str(negc) + \", \" + str(posc+neuc+negc) + \"\\n\")"
      ],
      "execution_count": 4,
      "outputs": [
        {
          "output_type": "stream",
          "text": [
            "1000\n",
            "2000\n",
            "3000\n",
            "4000\n",
            "5000\n",
            "6000\n",
            "7000\n",
            "8000\n",
            "9000\n",
            "10000\n",
            "11000\n",
            "12000\n",
            "13000\n",
            "14000\n",
            "15000\n",
            "16000\n",
            "17000\n",
            "18000\n",
            "19000\n",
            "20000\n",
            "21000\n",
            "22000\n",
            "23000\n",
            "24000\n",
            "25000\n",
            "26000\n",
            "27000\n",
            "28000\n",
            "29000\n",
            "30000\n",
            "31000\n",
            "32000\n",
            "33000\n",
            "34000\n",
            "35000\n",
            "36000\n",
            "37000\n",
            "38000\n",
            "39000\n",
            "40000\n",
            "41000\n",
            "42000\n",
            "43000\n",
            "44000\n",
            "45000\n",
            "46000\n",
            "47000\n",
            "48000\n",
            "49000\n",
            "50000\n",
            "51000\n",
            "52000\n",
            "53000\n",
            "54000\n",
            "55000\n",
            "56000\n",
            "57000\n",
            "58000\n",
            "59000\n",
            "60000\n",
            "61000\n",
            "62000\n",
            "63000\n",
            "64000\n",
            "65000\n",
            "66000\n",
            "67000\n",
            "68000\n",
            "69000\n",
            "70000\n",
            "71000\n",
            "72000\n"
          ],
          "name": "stdout"
        }
      ]
    }
  ]
}