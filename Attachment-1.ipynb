{
 "cells": [
  {
   "cell_type": "code",
   "execution_count": null,
   "metadata": {
    "colab": {
     "base_uri": "https://localhost:8080/"
    },
    "executionInfo": {
     "elapsed": 24871,
     "status": "ok",
     "timestamp": 1613249886564,
     "user": {
      "displayName": "AKHIL SHUKLA",
      "photoUrl": "",
      "userId": "18234957676405317826"
     },
     "user_tz": -330
    },
    "id": "AMSZHrqRgmK7",
    "outputId": "55bda83b-f1f5-4f16-a060-c8e3074d4ca9"
   },
   "outputs": [],
   "source": [
    "# make sure that mongo server is running "
   ]
  },
  {
   "cell_type": "code",
   "execution_count": null,
   "metadata": {
    "executionInfo": {
     "elapsed": 24867,
     "status": "ok",
     "timestamp": 1613249886567,
     "user": {
      "displayName": "AKHIL SHUKLA",
      "photoUrl": "",
      "userId": "18234957676405317826"
     },
     "user_tz": -330
    },
    "id": "dV9bKZC8g7l_"
   },
   "outputs": [],
   "source": [
    "from pymongo import MongoClient\n",
    "import os\n",
    "import urllib.request\n",
    "from multiprocessing.pool import ThreadPool as Pool\n",
    "import utils.const as const"
   ]
  },
  {
   "cell_type": "code",
   "execution_count": null,
   "metadata": {
    "colab": {
     "base_uri": "https://localhost:8080/"
    },
    "executionInfo": {
     "elapsed": 24864,
     "status": "ok",
     "timestamp": 1613249886569,
     "user": {
      "displayName": "AKHIL SHUKLA",
      "photoUrl": "",
      "userId": "18234957676405317826"
     },
     "user_tz": -330
    },
    "id": "mWIaMvWJhnnZ",
    "outputId": "69c3534f-1b8a-439a-b57b-25eaf45dcc59"
   },
   "outputs": [],
   "source": [
    "client = MongoClient()\n",
    "client.list_database_names() # ['admin', 'local']"
   ]
  },
  {
   "cell_type": "code",
   "execution_count": null,
   "metadata": {
    "executionInfo": {
     "elapsed": 24859,
     "status": "ok",
     "timestamp": 1613249886570,
     "user": {
      "displayName": "AKHIL SHUKLA",
      "photoUrl": "",
      "userId": "18234957676405317826"
     },
     "user_tz": -330
    },
    "id": "x0cLjw8IhEiT"
   },
   "outputs": [],
   "source": [
    "db=const.grpId\n",
    "collection=const.PostCollection\n",
    "directory='attachment'\n",
    "\n",
    "failedFile='failed.txt'\n",
    "failed=[]\n",
    "pool_size=200  ## directly proportional to network bandwidth"
   ]
  },
  {
   "cell_type": "code",
   "execution_count": null,
   "metadata": {
    "executionInfo": {
     "elapsed": 30438,
     "status": "ok",
     "timestamp": 1613249892162,
     "user": {
      "displayName": "AKHIL SHUKLA",
      "photoUrl": "",
      "userId": "18234957676405317826"
     },
     "user_tz": -330
    },
    "id": "zRfVnjcOhYdc"
   },
   "outputs": [],
   "source": [
    "if not os.path.isdir(directory):\n",
    "    os.mkdir(directory)\n",
    "else:\n",
    "  os.system('sudo rm -r '+directory)\n",
    "  os.mkdir(directory)"
   ]
  },
  {
   "cell_type": "code",
   "execution_count": null,
   "metadata": {
    "executionInfo": {
     "elapsed": 30437,
     "status": "ok",
     "timestamp": 1613249892164,
     "user": {
      "displayName": "AKHIL SHUKLA",
      "photoUrl": "",
      "userId": "18234957676405317826"
     },
     "user_tz": -330
    },
    "id": "fPbR_8HZhf5D"
   },
   "outputs": [],
   "source": [
    "myCollect=client[db][collection]"
   ]
  },
  {
   "cell_type": "code",
   "execution_count": null,
   "metadata": {
    "executionInfo": {
     "elapsed": 30434,
     "status": "ok",
     "timestamp": 1613249892166,
     "user": {
      "displayName": "AKHIL SHUKLA",
      "photoUrl": "",
      "userId": "18234957676405317826"
     },
     "user_tz": -330
    },
    "id": "Y5Z8JFDQpOIy"
   },
   "outputs": [],
   "source": [
    "def download(url,fileName):\n",
    "  try:\n",
    "    print(fileName)\n",
    "    urllib.request.urlretrieve(url, os.path.join(directory,fileName))\n",
    "  except Exception as e:\n",
    "    print(e)\n",
    "    failed.append([fileName,url])"
   ]
  },
  {
   "cell_type": "code",
   "execution_count": null,
   "metadata": {
    "executionInfo": {
     "elapsed": 30432,
     "status": "ok",
     "timestamp": 1613249892167,
     "user": {
      "displayName": "AKHIL SHUKLA",
      "photoUrl": "",
      "userId": "18234957676405317826"
     },
     "user_tz": -330
    },
    "id": "XPLk4BnwuB67"
   },
   "outputs": [],
   "source": [
    "pool = Pool(pool_size)"
   ]
  },
  {
   "cell_type": "code",
   "execution_count": null,
   "metadata": {
    "colab": {
     "base_uri": "https://localhost:8080/"
    },
    "executionInfo": {
     "elapsed": 40431,
     "status": "ok",
     "timestamp": 1613249902169,
     "user": {
      "displayName": "AKHIL SHUKLA",
      "photoUrl": "",
      "userId": "18234957676405317826"
     },
     "user_tz": -330
    },
    "id": "B0rSMik8h9dm",
    "outputId": "2203bdab-e4ae-461e-dc45-ec48914cd07c"
   },
   "outputs": [],
   "source": [
    "failed=[]\n",
    "for post in myCollect.find({}):\n",
    "  if '_id' and 'attachments' in post:\n",
    "\n",
    "    if 'images' in post['attachments']:\n",
    "      for i in range(len(post['attachments']['images'])):\n",
    "        fileName=post['_id']+'_I'+str(i)\n",
    "        \n",
    "        pool.apply_async(download,(post['attachments']['images'][i],fileName))\n",
    "\n",
    "    if 'videos' in post['attachments']:\n",
    "      for i in range(len(post['attachments']['videos'])):\n",
    "        fileName=post['_id']+'_V'+str(i)\n",
    "        \n",
    "        pool.apply_async(download,(post['attachments']['videos'][i],fileName))\n",
    "  \n",
    "  if '_id' and 'comments' in post:\n",
    "    for comment in post['comments']:\n",
    "      if '_id' and 'attachment' in comment:\n",
    "\n",
    "        if 'images' in comment['attachment']:\n",
    "          for i in range(len(comment['attachment']['images'])):\n",
    "            fileName=post['_id']+'_'+comment['_id']+'_I'+str(i)\n",
    "            \n",
    "            pool.apply_async(download,(comment['attachment']['images'][i],fileName))\n",
    "\n",
    "        if 'videos' in comment['attachment']:\n",
    "          for i in range(len(comment['attachment']['videos'])):\n",
    "            fileName=post['_id']+'_'+comment['_id']+'_V'+str(i) \n",
    "            \n",
    "            pool.apply_async(download,(comment['attachment']['videos'][i],fileName))\n"
   ]
  },
  {
   "cell_type": "code",
   "execution_count": null,
   "metadata": {
    "colab": {
     "base_uri": "https://localhost:8080/",
     "output_embedded_package_id": "13NZT5429EDhIOyfNQhlbx5rDpSjf34d2"
    },
    "executionInfo": {
     "elapsed": 160825,
     "status": "ok",
     "timestamp": 1613250022566,
     "user": {
      "displayName": "AKHIL SHUKLA",
      "photoUrl": "",
      "userId": "18234957676405317826"
     },
     "user_tz": -330
    },
    "id": "0UtLdsAun2ir",
    "outputId": "85fe7fef-f08b-4e37-d20c-8ca00aee11c6"
   },
   "outputs": [],
   "source": [
    "pool.close()\n",
    "pool.join()"
   ]
  },
  {
   "cell_type": "code",
   "execution_count": null,
   "metadata": {
    "colab": {
     "base_uri": "https://localhost:8080/"
    },
    "executionInfo": {
     "elapsed": 160825,
     "status": "ok",
     "timestamp": 1613250022570,
     "user": {
      "displayName": "AKHIL SHUKLA",
      "photoUrl": "",
      "userId": "18234957676405317826"
     },
     "user_tz": -330
    },
    "id": "FLjJijUTmkMH",
    "outputId": "4a5ecf25-b766-46a9-d845-729f081f0314"
   },
   "outputs": [],
   "source": [
    "print(len(failed))"
   ]
  },
  {
   "cell_type": "code",
   "execution_count": null,
   "metadata": {
    "colab": {
     "base_uri": "https://localhost:8080/",
     "height": 1000
    },
    "executionInfo": {
     "elapsed": 5439305,
     "status": "error",
     "timestamp": 1613273004331,
     "user": {
      "displayName": "AKHIL SHUKLA",
      "photoUrl": "",
      "userId": "18234957676405317826"
     },
     "user_tz": -330
    },
    "id": "zqbu6EPb0E-w",
    "outputId": "437814ca-bbc3-48d7-c5fe-303a607ff4c9"
   },
   "outputs": [],
   "source": [
    "with open('failed.txt','w') as fp:\n",
    "  for arr in failed:\n",
    "    fp.write(arr[0]+' '+arr[1]+' \\n')\n",
    "failed=[]\n",
    "    \n",
    "while 1:\n",
    "  dictionary={}\n",
    "  with open('failed.txt','r') as fp:\n",
    "    for line in fp.readlines():\n",
    "      arr=line.split(' ')\n",
    "      dictionary[arr[0]]=arr[1]\n",
    "\n",
    "  lastSize=len(dictionary)\n",
    "  pool = Pool(pool_size)\n",
    "    \n",
    "  for k,v in dictionary.items():\n",
    "    pool.apply_async(download,(v,k))\n",
    "  \n",
    "  pool.close()\n",
    "  pool.join()\n",
    "\n",
    "  with open('failed.txt','w') as fp:\n",
    "    for arr in failed:\n",
    "      fp.write(arr[0]+' '+arr[1]+' \\n')\n",
    "  \n",
    "  if len(failed)==lastSize :\n",
    "    break\n",
    "  failed=[]\n",
    "\n"
   ]
  },
  {
   "cell_type": "code",
   "execution_count": null,
   "metadata": {},
   "outputs": [],
   "source": [
    "print(len(failed)) ## if its non zero that means some links are expired"
   ]
  },
  {
   "cell_type": "code",
   "execution_count": null,
   "metadata": {},
   "outputs": [],
   "source": [
    "if len(failed):\n",
    "    print('run second notebook')\n",
    "else:\n",
    "    print('done... skip to 3rd')"
   ]
  },
  {
   "cell_type": "code",
   "execution_count": null,
   "metadata": {},
   "outputs": [],
   "source": []
  }
 ],
 "metadata": {
  "colab": {
   "authorship_tag": "ABX9TyNH4z4ONgpOSE7bgqJm+LZ6",
   "collapsed_sections": [],
   "name": "attachmentDownload.ipynb",
   "provenance": []
  },
  "kernelspec": {
   "display_name": "Python 3",
   "language": "python",
   "name": "python3"
  },
  "language_info": {
   "codemirror_mode": {
    "name": "ipython",
    "version": 3
   },
   "file_extension": ".py",
   "mimetype": "text/x-python",
   "name": "python",
   "nbconvert_exporter": "python",
   "pygments_lexer": "ipython3",
   "version": "3.8.5"
  }
 },
 "nbformat": 4,
 "nbformat_minor": 1
}
