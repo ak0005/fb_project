{
 "cells": [
  {
   "cell_type": "code",
   "execution_count": 1,
   "metadata": {
    "executionInfo": {
     "elapsed": 2671,
     "status": "ok",
     "timestamp": 1615479650017,
     "user": {
      "displayName": "AKHIL SHUKLA",
      "photoUrl": "",
      "userId": "18234957676405317826"
     },
     "user_tz": -330
    },
    "id": "ePDdUQ1SvuXL"
   },
   "outputs": [],
   "source": [
    "import numpy as np\n",
    "import os\n",
    "import pandas as pd\n",
    "from ast import literal_eval\n",
    "from pymongo import MongoClient\n",
    "import utils.const as const\n",
    "import re"
   ]
  },
  {
   "cell_type": "code",
   "execution_count": 2,
   "metadata": {},
   "outputs": [
    {
     "data": {
      "text/plain": [
       "['161136235596016',\n",
       " '1991716644473195',\n",
       " '3980924515308070',\n",
       " 'admin',\n",
       " 'config',\n",
       " 'local']"
      ]
     },
     "execution_count": 2,
     "metadata": {},
     "output_type": "execute_result"
    }
   ],
   "source": [
    "client = MongoClient()\n",
    "client.list_database_names() # ['admin', 'local']"
   ]
  },
  {
   "cell_type": "code",
   "execution_count": 3,
   "metadata": {
    "executionInfo": {
     "elapsed": 1954,
     "status": "ok",
     "timestamp": 1615479650021,
     "user": {
      "displayName": "AKHIL SHUKLA",
      "photoUrl": "",
      "userId": "18234957676405317826"
     },
     "user_tz": -330
    },
    "id": "I9USLyJG2lQ2"
   },
   "outputs": [],
   "source": [
    "db=const.grpId\n",
    "collection=const.PostCollection\n",
    "filename='javed.csv' "
   ]
  },
  {
   "cell_type": "code",
   "execution_count": 4,
   "metadata": {},
   "outputs": [],
   "source": [
    "myCollect=client[db][collection]"
   ]
  },
  {
   "cell_type": "code",
   "execution_count": 5,
   "metadata": {
    "executionInfo": {
     "elapsed": 2579,
     "status": "ok",
     "timestamp": 1615479652430,
     "user": {
      "displayName": "AKHIL SHUKLA",
      "photoUrl": "",
      "userId": "18234957676405317826"
     },
     "user_tz": -330
    },
    "id": "RvqgI3pbyxGu"
   },
   "outputs": [
    {
     "name": "stdout",
     "output_type": "stream",
     "text": [
      "post_id                               object\n",
      "post_msg_final                        object\n",
      "post_comments_final                   object\n",
      "post_subcomments_final                object\n",
      "post_msg_tranlsated_final             object\n",
      "post_comments_translated_final        object\n",
      "post_subcomments_translated_final     object\n",
      "Unnamed: 7                           float64\n",
      "Unnamed: 8                           float64\n",
      "Unnamed: 9                           float64\n",
      "post_subcomments_auto                 object\n",
      "dtype: object\n",
      "18631\n"
     ]
    },
    {
     "data": {
      "text/html": [
       "<div>\n",
       "<style scoped>\n",
       "    .dataframe tbody tr th:only-of-type {\n",
       "        vertical-align: middle;\n",
       "    }\n",
       "\n",
       "    .dataframe tbody tr th {\n",
       "        vertical-align: top;\n",
       "    }\n",
       "\n",
       "    .dataframe thead th {\n",
       "        text-align: right;\n",
       "    }\n",
       "</style>\n",
       "<table border=\"1\" class=\"dataframe\">\n",
       "  <thead>\n",
       "    <tr style=\"text-align: right;\">\n",
       "      <th></th>\n",
       "      <th>post_id</th>\n",
       "      <th>post_msg_final</th>\n",
       "      <th>post_comments_final</th>\n",
       "      <th>post_subcomments_final</th>\n",
       "      <th>post_msg_tranlsated_final</th>\n",
       "      <th>post_comments_translated_final</th>\n",
       "      <th>post_subcomments_translated_final</th>\n",
       "      <th>Unnamed: 7</th>\n",
       "      <th>Unnamed: 8</th>\n",
       "      <th>Unnamed: 9</th>\n",
       "      <th>post_subcomments_auto</th>\n",
       "    </tr>\n",
       "  </thead>\n",
       "  <tbody>\n",
       "    <tr>\n",
       "      <th>0</th>\n",
       "      <td>1991716644473195_2794406357537549</td>\n",
       "      <td>[{ '1991716644473195_2794406357537549': [ 'Tod...</td>\n",
       "      <td>[{ \"2796316020679916\": [ \"\"]}, { \"279642353066...</td>\n",
       "      <td>[{ '2796502783994573': [ 'Jinal Patel thanks']...</td>\n",
       "      <td>[{' '1991716644473195_2794406357537549'': ['to...</td>\n",
       "      <td>[{' \"2796423530669165\"': ['nice abhinandana']}...</td>\n",
       "      <td>[{' '2796502783994573'': ['jinal patel thanks'...</td>\n",
       "      <td>NaN</td>\n",
       "      <td>NaN</td>\n",
       "      <td>NaN</td>\n",
       "      <td>[{ '2796502783994573': [ 'Jinal Patel thanks']...</td>\n",
       "    </tr>\n",
       "    <tr>\n",
       "      <th>1</th>\n",
       "      <td>1991716644473195_2794217790889739</td>\n",
       "      <td>[{ '1991716644473195_2794217790889739': [ 'Zan...</td>\n",
       "      <td>[{ \"2796282750683243\": [ \"What's very abhinand...</td>\n",
       "      <td>[{ '2796333124011539': [ 'Tarul Patel need a v...</td>\n",
       "      <td>[{' '1991716644473195_2794217790889739'': ['za...</td>\n",
       "      <td>[{' \"2796282750683243\"': ['whats abhinandanaa ...</td>\n",
       "      <td>[{' '2796333124011539'': ['tarul patel need vi...</td>\n",
       "      <td>NaN</td>\n",
       "      <td>NaN</td>\n",
       "      <td>NaN</td>\n",
       "      <td>[{ '2796333124011539': [ 'Tarul Patel need a v...</td>\n",
       "    </tr>\n",
       "    <tr>\n",
       "      <th>2</th>\n",
       "      <td>1991716644473195_2796183594026492</td>\n",
       "      <td>[{ '1991716644473195_2796183594026492': [ 'Las...</td>\n",
       "      <td>[{ \"2796308564013995\": [ \"\"]}, { \"279635010734...</td>\n",
       "      <td>[{ '2796462883998563': [ 'Janki Mangalani ok']...</td>\n",
       "      <td>[{' '1991716644473195_2796183594026492'': ['la...</td>\n",
       "      <td>[{' \"2796350107343174\"': ['exquisite']}, {' '2...</td>\n",
       "      <td>[{' '2796462883998563'': ['janki mangalani ok'...</td>\n",
       "      <td>NaN</td>\n",
       "      <td>NaN</td>\n",
       "      <td>NaN</td>\n",
       "      <td>[{ '2796462883998563': [ 'Janki Mangalani ok']...</td>\n",
       "    </tr>\n",
       "    <tr>\n",
       "      <th>3</th>\n",
       "      <td>1991716644473195_2795011284143723</td>\n",
       "      <td>[{ \"19917166444731952795011284143723\": [ \"stre...</td>\n",
       "      <td>[{ '2796472850664233': [ '']}, { '279777969053...</td>\n",
       "      <td>[]</td>\n",
       "      <td>[{' \"1991716644473195_2795011284143723\"': ['st...</td>\n",
       "      <td>[{' '2797779690533549'': ['good work']}]</td>\n",
       "      <td>[]</td>\n",
       "      <td>NaN</td>\n",
       "      <td>NaN</td>\n",
       "      <td>NaN</td>\n",
       "      <td>[]</td>\n",
       "    </tr>\n",
       "    <tr>\n",
       "      <th>4</th>\n",
       "      <td>1991716644473195_2792857774359074</td>\n",
       "      <td>[]</td>\n",
       "      <td>[{ '2797022117275973': [ 'Very nice, Congratul...</td>\n",
       "      <td>[]</td>\n",
       "      <td>[]</td>\n",
       "      <td>[{' '2797022117275973'': ['nice congratulation...</td>\n",
       "      <td>[]</td>\n",
       "      <td>NaN</td>\n",
       "      <td>NaN</td>\n",
       "      <td>NaN</td>\n",
       "      <td>[]</td>\n",
       "    </tr>\n",
       "  </tbody>\n",
       "</table>\n",
       "</div>"
      ],
      "text/plain": [
       "                             post_id  \\\n",
       "0  1991716644473195_2794406357537549   \n",
       "1  1991716644473195_2794217790889739   \n",
       "2  1991716644473195_2796183594026492   \n",
       "3  1991716644473195_2795011284143723   \n",
       "4  1991716644473195_2792857774359074   \n",
       "\n",
       "                                      post_msg_final  \\\n",
       "0  [{ '1991716644473195_2794406357537549': [ 'Tod...   \n",
       "1  [{ '1991716644473195_2794217790889739': [ 'Zan...   \n",
       "2  [{ '1991716644473195_2796183594026492': [ 'Las...   \n",
       "3  [{ \"19917166444731952795011284143723\": [ \"stre...   \n",
       "4                                                 []   \n",
       "\n",
       "                                 post_comments_final  \\\n",
       "0  [{ \"2796316020679916\": [ \"\"]}, { \"279642353066...   \n",
       "1  [{ \"2796282750683243\": [ \"What's very abhinand...   \n",
       "2  [{ \"2796308564013995\": [ \"\"]}, { \"279635010734...   \n",
       "3  [{ '2796472850664233': [ '']}, { '279777969053...   \n",
       "4  [{ '2797022117275973': [ 'Very nice, Congratul...   \n",
       "\n",
       "                              post_subcomments_final  \\\n",
       "0  [{ '2796502783994573': [ 'Jinal Patel thanks']...   \n",
       "1  [{ '2796333124011539': [ 'Tarul Patel need a v...   \n",
       "2  [{ '2796462883998563': [ 'Janki Mangalani ok']...   \n",
       "3                                                 []   \n",
       "4                                                 []   \n",
       "\n",
       "                           post_msg_tranlsated_final  \\\n",
       "0  [{' '1991716644473195_2794406357537549'': ['to...   \n",
       "1  [{' '1991716644473195_2794217790889739'': ['za...   \n",
       "2  [{' '1991716644473195_2796183594026492'': ['la...   \n",
       "3  [{' \"1991716644473195_2795011284143723\"': ['st...   \n",
       "4                                                 []   \n",
       "\n",
       "                      post_comments_translated_final  \\\n",
       "0  [{' \"2796423530669165\"': ['nice abhinandana']}...   \n",
       "1  [{' \"2796282750683243\"': ['whats abhinandanaa ...   \n",
       "2  [{' \"2796350107343174\"': ['exquisite']}, {' '2...   \n",
       "3           [{' '2797779690533549'': ['good work']}]   \n",
       "4  [{' '2797022117275973'': ['nice congratulation...   \n",
       "\n",
       "                   post_subcomments_translated_final  Unnamed: 7  Unnamed: 8  \\\n",
       "0  [{' '2796502783994573'': ['jinal patel thanks'...         NaN         NaN   \n",
       "1  [{' '2796333124011539'': ['tarul patel need vi...         NaN         NaN   \n",
       "2  [{' '2796462883998563'': ['janki mangalani ok'...         NaN         NaN   \n",
       "3                                                 []         NaN         NaN   \n",
       "4                                                 []         NaN         NaN   \n",
       "\n",
       "   Unnamed: 9                              post_subcomments_auto  \n",
       "0         NaN  [{ '2796502783994573': [ 'Jinal Patel thanks']...  \n",
       "1         NaN  [{ '2796333124011539': [ 'Tarul Patel need a v...  \n",
       "2         NaN  [{ '2796462883998563': [ 'Janki Mangalani ok']...  \n",
       "3         NaN                                                 []  \n",
       "4         NaN                                                 []  "
      ]
     },
     "execution_count": 5,
     "metadata": {},
     "output_type": "execute_result"
    }
   ],
   "source": [
    "df = pd.read_csv(filename)\n",
    "\n",
    "df.post_msg_tranlsated_final = df.post_msg_tranlsated_final.apply(literal_eval)\n",
    "df.post_comments_translated_final = df.post_comments_translated_final.apply(literal_eval)\n",
    "df.post_subcomments_translated_final = df.post_subcomments_translated_final.apply(literal_eval)\n",
    "\n",
    "print(df.dtypes)\n",
    "print(len(df.index))\n",
    "df.head()"
   ]
  },
  {
   "cell_type": "code",
   "execution_count": 6,
   "metadata": {},
   "outputs": [],
   "source": [
    "for i in range(len(df.index)):\n",
    "    if len(df['post_msg_tranlsated_final'][i]):\n",
    "        for _,v1 in df['post_msg_tranlsated_final'][i][0].items(): ### its just contain one key,val pair\n",
    "            postId = df['post_id'][i]\n",
    "            \n",
    "            m1=[]\n",
    "            for t1 in v1:\n",
    "                m1.extend(t1.split(' '))\n",
    "            \n",
    "            result=myCollect.update_one({'_id': postId}, {\n",
    "                    \"$set\": {'message' : m1}\n",
    "                })\n",
    "            if result.matched_count==0 :\n",
    "                print(\"==\"+postId+\"==\")\n",
    "                print(i,'fail1')\n",
    "                print(result.matched_count , result.modified_count)\n",
    "                break;\n",
    "            \n",
    "            for comment in df['post_comments_translated_final'][i]:\n",
    "                for commentId1,v2 in comment.items():\n",
    "                    commentId = re.sub('\\D*', '', commentId1)\n",
    "                    \n",
    "                    m2=[]\n",
    "                    for t2 in v2:\n",
    "                        m2.extend(t2.split(' '))\n",
    "\n",
    "                    result=myCollect.update_one({'_id': postId, 'comments': {'$elemMatch': {'_id': commentId}}}, {\n",
    "                        '$set': {'comments.$.message':  m2}})\n",
    "                    \n",
    "                    if result.matched_count==0:\n",
    "                        print(\"==\"+commentId+\"==\")\n",
    "                        print(\"==\"+commentId1+\"==\")\n",
    "                        print(i,'fail2')\n",
    "                        print(result.matched_count , result.modified_count)\n",
    "                        #break;\n",
    "#                     elif result.modified_count==0:\n",
    "#                         print(\"==\"+commentId+\"==\")\n",
    "#                         for x in myCollect.find({'_id': postId, 'comments': {'$elemMatch': {'_id': commentId}}}):\n",
    "#                             print(x['message'])\n",
    "                    \n",
    "                    "
   ]
  },
  {
   "cell_type": "code",
   "execution_count": 7,
   "metadata": {},
   "outputs": [],
   "source": [
    "c1=0\n",
    "c2=0\n",
    "\n",
    "for post in list(myCollect.find({})):\n",
    "    if 'message' not in post:\n",
    "        myCollect.update_one({'_id': post['_id']}, {\n",
    "                    \"$set\": {'message' : ['']}\n",
    "                })\n",
    "    elif post['message']=='':\n",
    "        myCollect.update_one({'_id': post['_id']}, {\n",
    "                    \"$set\": {'message' : ['']}\n",
    "                })\n",
    "    elif not isinstance(post['message'], list):\n",
    "        c1+=1;\n",
    "        \n",
    "    if 'comments' in post:\n",
    "        for comment in post['comments']:\n",
    "            if 'message' not in comment:\n",
    "                myCollect.update_one({'_id': post['_id'], 'comments': {'$elemMatch': {'_id': comment['_id']}}}, {\n",
    "                        '$set': {'comments.$.message':  ['']}})\n",
    "                \n",
    "            elif comment['message']=='':\n",
    "                myCollect.update_one({'_id': post['_id'], 'comments': {'$elemMatch': {'_id': comment['_id']}}}, {\n",
    "                        '$set': {'comments.$.message':  ['']}})\n",
    "                \n",
    "            elif not isinstance(comment['message'], list):\n",
    "                c2+=1;\n",
    "                "
   ]
  },
  {
   "cell_type": "code",
   "execution_count": 8,
   "metadata": {},
   "outputs": [
    {
     "name": "stdout",
     "output_type": "stream",
     "text": [
      "754 12768\n"
     ]
    }
   ],
   "source": [
    "print(c1,c2)"
   ]
  },
  {
   "cell_type": "code",
   "execution_count": null,
   "metadata": {},
   "outputs": [],
   "source": []
  },
  {
   "cell_type": "code",
   "execution_count": null,
   "metadata": {},
   "outputs": [],
   "source": []
  }
 ],
 "metadata": {
  "colab": {
   "authorship_tag": "ABX9TyNigTOYOGe+vYjCnw/NcnZ3",
   "name": "visualisingData.ipynb",
   "toc_visible": true,
   "version": ""
  },
  "kernelspec": {
   "display_name": "Python 3",
   "language": "python",
   "name": "python3"
  },
  "language_info": {
   "codemirror_mode": {
    "name": "ipython",
    "version": 3
   },
   "file_extension": ".py",
   "mimetype": "text/x-python",
   "name": "python",
   "nbconvert_exporter": "python",
   "pygments_lexer": "ipython3",
   "version": "3.8.5"
  }
 },
 "nbformat": 4,
 "nbformat_minor": 1
}
