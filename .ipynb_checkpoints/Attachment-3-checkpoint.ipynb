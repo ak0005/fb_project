{
 "cells": [
  {
   "cell_type": "code",
   "execution_count": null,
   "metadata": {
    "colab": {
     "base_uri": "https://localhost:8080/"
    },
    "executionInfo": {
     "elapsed": 8645,
     "status": "ok",
     "timestamp": 1614761540910,
     "user": {
      "displayName": "AKHIL SHUKLA",
      "photoUrl": "",
      "userId": "18234957676405317826"
     },
     "user_tz": -330
    },
    "id": "uUMctP2Qbdy-",
    "outputId": "2a265087-bf16-4e3f-c7c2-d3b168a398a9"
   },
   "outputs": [],
   "source": [
    "!pip install python-magic"
   ]
  },
  {
   "cell_type": "code",
   "execution_count": null,
   "metadata": {
    "colab": {
     "base_uri": "https://localhost:8080/"
    },
    "executionInfo": {
     "elapsed": 7959,
     "status": "ok",
     "timestamp": 1614761540911,
     "user": {
      "displayName": "AKHIL SHUKLA",
      "photoUrl": "",
      "userId": "18234957676405317826"
     },
     "user_tz": -330
    },
    "id": "8-44dtnebfRi",
    "outputId": "177217ab-d90a-4f04-83cc-f98067ca0e0a"
   },
   "outputs": [],
   "source": [
    "#make sure mongo is running"
   ]
  },
  {
   "cell_type": "code",
   "execution_count": null,
   "metadata": {
    "executionInfo": {
     "elapsed": 6526,
     "status": "ok",
     "timestamp": 1614761540916,
     "user": {
      "displayName": "AKHIL SHUKLA",
      "photoUrl": "",
      "userId": "18234957676405317826"
     },
     "user_tz": -330
    },
    "id": "ZyvPI09sbiv4"
   },
   "outputs": [],
   "source": [
    "from pymongo import MongoClient\n",
    "import os\n",
    "import magic\n",
    "import utils.const as const"
   ]
  },
  {
   "cell_type": "code",
   "execution_count": null,
   "metadata": {
    "executionInfo": {
     "elapsed": 1101,
     "status": "ok",
     "timestamp": 1614768616891,
     "user": {
      "displayName": "AKHIL SHUKLA",
      "photoUrl": "",
      "userId": "18234957676405317826"
     },
     "user_tz": -330
    },
    "id": "jqchW2xHboAS"
   },
   "outputs": [],
   "source": [
    "db=const.grpId\n",
    "collection=const.PostCollection\n",
    "directory='attachment'"
   ]
  },
  {
   "cell_type": "code",
   "execution_count": null,
   "metadata": {
    "colab": {
     "base_uri": "https://localhost:8080/"
    },
    "executionInfo": {
     "elapsed": 1388353,
     "status": "ok",
     "timestamp": 1614762990987,
     "user": {
      "displayName": "AKHIL SHUKLA",
      "photoUrl": "",
      "userId": "18234957676405317826"
     },
     "user_tz": -330
    },
    "id": "R5G2kwhOb9ZF",
    "outputId": "8cb5c036-f901-4b4c-d29a-a485ce3776f1"
   },
   "outputs": [],
   "source": [
    "client = MongoClient()\n",
    "myCollect=client[db][collection]\n",
    "print(len(os.listdir(directory)))"
   ]
  },
  {
   "cell_type": "code",
   "execution_count": null,
   "metadata": {
    "executionInfo": {
     "elapsed": 1386967,
     "status": "ok",
     "timestamp": 1614762990993,
     "user": {
      "displayName": "AKHIL SHUKLA",
      "photoUrl": "",
      "userId": "18234957676405317826"
     },
     "user_tz": -330
    },
    "id": "rq_VoXLKMf2Z"
   },
   "outputs": [],
   "source": [
    "def delete(file):\n",
    "  os.system('sudo rm '+file)"
   ]
  },
  {
   "cell_type": "code",
   "execution_count": null,
   "metadata": {
    "executionInfo": {
     "elapsed": 1385393,
     "status": "ok",
     "timestamp": 1614762990997,
     "user": {
      "displayName": "AKHIL SHUKLA",
      "photoUrl": "",
      "userId": "18234957676405317826"
     },
     "user_tz": -330
    },
    "id": "iYxAbE0ecA_1"
   },
   "outputs": [],
   "source": [
    "def check(fileName):\n",
    "  file=os.path.join(directory,fileName)\n",
    "\n",
    "  if not os.path.isfile(file):\n",
    "    return -1\n",
    "  s=magic.from_file(file, mime=True)\n",
    "  if 'image' not in s and 'video' not in s and 'audio' not in s:\n",
    "    delete(file)\n",
    "    return -2\n",
    "  else:\n",
    "    return 1"
   ]
  },
  {
   "cell_type": "code",
   "execution_count": null,
   "metadata": {
    "colab": {
     "base_uri": "https://localhost:8080/"
    },
    "executionInfo": {
     "elapsed": 1395047,
     "status": "ok",
     "timestamp": 1614763002080,
     "user": {
      "displayName": "AKHIL SHUKLA",
      "photoUrl": "",
      "userId": "18234957676405317826"
     },
     "user_tz": -330
    },
    "id": "R8rzmgXfkPqU",
    "outputId": "8c923132-f4c9-4ce5-bc69-7b44954eba1b"
   },
   "outputs": [],
   "source": [
    "dictionary={}\n",
    "for post in list(myCollect.find({})):\n",
    "\n",
    "  if '_id' and 'attachments' in post:\n",
    "\n",
    "    if 'videos' in post['attachments']:\n",
    "      for i in range(len(post['attachments']['videos'])):\n",
    "        \n",
    "        if 'youtube' in post['attachments']['videos'][i]:\n",
    "          dictionary[post['_id']+'_V'+str(i)]=post['attachments']['videos'][i]\n",
    "\n",
    "    myCollect.update_one({'_id': post['_id']}, {\n",
    "                          '$unset': {'attachments': \"\"}})\n",
    "    \n",
    "        \n",
    "  \n",
    "  if '_id' and 'comments' in post:\n",
    "    for comment in post['comments']:\n",
    "      if '_id' and 'attachment' in comment:\n",
    "\n",
    "        if 'videos' in comment['attachment']:\n",
    "          for i in range(len(comment['attachment']['videos'])):\n",
    "            \n",
    "            if 'youtube' in comment['attachment']['videos'][i]:\n",
    "              dictionary[post['_id']+'_'+comment['_id']+'_V'+str(i)]= comment['attachment']['videos'][i]\n",
    "\n",
    "        myCollect.update_one({'_id': post['_id'], 'comments': {'$elemMatch': {'_id': comment['_id']}}}, {\n",
    "                                  '$unset': {'comments.$.attachment': \"\"}})\n",
    "\n",
    "print(len(dictionary))"
   ]
  },
  {
   "cell_type": "code",
   "execution_count": null,
   "metadata": {
    "executionInfo": {
     "elapsed": 389941,
     "status": "ok",
     "timestamp": 1614764855520,
     "user": {
      "displayName": "AKHIL SHUKLA",
      "photoUrl": "",
      "userId": "18234957676405317826"
     },
     "user_tz": -330
    },
    "id": "3-pruCtWlI_T"
   },
   "outputs": [],
   "source": [
    "count=0\n",
    "\n",
    "for l in os.listdir(directory):\n",
    "  if l in dictionary or check(l)<=0:\n",
    "    continue\n",
    "  arr=l.split('_')\n",
    "\n",
    "  if len(arr)==3:\n",
    "    postId=arr[0]+'_'+arr[1]\n",
    "    count+=1\n",
    "    if arr[-1][0]=='I':\n",
    "      myCollect.update_one({'_id': postId}, {\n",
    "                              '$push': {'attachments.images': l}})\n",
    "    else:\n",
    "      myCollect.update_one({'_id': postId}, {\n",
    "                              '$push': {'attachments.videos': l}})\n",
    "\n",
    "  else:\n",
    "    postId=arr[0]+'_'+arr[1]\n",
    "    commentId=arr[2]\n",
    "    count+=1\n",
    "    if arr[-1][0]=='I':\n",
    "      myCollect.update_one({'_id': postId, 'comments': {'$elemMatch': {'_id': commentId}}}, {\n",
    "                              '$push': {'comments.$.attachment.images': l}})\n",
    "    else:\n",
    "      myCollect.update_one({'_id': postId, 'comments': {'$elemMatch': {'_id': commentId}}}, {\n",
    "                              '$push': {'comments.$.attachment.videos': l}})\n",
    "\n"
   ]
  },
  {
   "cell_type": "code",
   "execution_count": null,
   "metadata": {
    "executionInfo": {
     "elapsed": 1722,
     "status": "ok",
     "timestamp": 1614766029375,
     "user": {
      "displayName": "AKHIL SHUKLA",
      "photoUrl": "",
      "userId": "18234957676405317826"
     },
     "user_tz": -330
    },
    "id": "22bVziRNojdo"
   },
   "outputs": [],
   "source": [
    "for k,v in dictionary.items():\n",
    "  arr=k.split('_')\n",
    "\n",
    "  if len(arr)==3:\n",
    "    postId=arr[0]+'_'+arr[1]\n",
    "    myCollect.update_one({'_id': postId}, {\n",
    "                              '$push': {'attachments.youtube': v}})\n",
    "    \n",
    "  else:\n",
    "    postId=arr[0]+'_'+arr[1]\n",
    "    commentId=arr[2]\n",
    "    myCollect.update_one({'_id': postId, 'comments': {'$elemMatch': {'_id': commentId}}}, {\n",
    "                              '$push': {'comments.$.attachment.youtube': v}})"
   ]
  },
  {
   "cell_type": "code",
   "execution_count": null,
   "metadata": {
    "colab": {
     "base_uri": "https://localhost:8080/"
    },
    "executionInfo": {
     "elapsed": 2493,
     "status": "ok",
     "timestamp": 1614766042412,
     "user": {
      "displayName": "AKHIL SHUKLA",
      "photoUrl": "",
      "userId": "18234957676405317826"
     },
     "user_tz": -330
    },
    "id": "lHxpUOGZel6w",
    "outputId": "285cf78a-c60f-44c6-80bc-2e6d3e273362"
   },
   "outputs": [],
   "source": [
    "print(len(os.listdir(directory)),count,len(dictionary))"
   ]
  },
  {
   "cell_type": "code",
   "execution_count": null,
   "metadata": {
    "colab": {
     "base_uri": "https://localhost:8080/"
    },
    "executionInfo": {
     "elapsed": 2132,
     "status": "ok",
     "timestamp": 1614766045066,
     "user": {
      "displayName": "AKHIL SHUKLA",
      "photoUrl": "",
      "userId": "18234957676405317826"
     },
     "user_tz": -330
    },
    "id": "BRV7rc_K6U-4",
    "outputId": "186785d1-2dc8-4fb1-a08f-dd6811c5dae1"
   },
   "outputs": [],
   "source": [
    "os.system('python3 dump.py')"
   ]
  },
  {
   "cell_type": "code",
   "execution_count": null,
   "metadata": {},
   "outputs": [],
   "source": [
    "#have a look at json_dump.json"
   ]
  }
 ],
 "metadata": {
  "colab": {
   "authorship_tag": "ABX9TyNo8dn1QrzILM3y1FfIHGYz",
   "collapsed_sections": [],
   "name": "attachmentInsert.ipynb",
   "provenance": []
  },
  "kernelspec": {
   "display_name": "Python 3",
   "language": "python",
   "name": "python3"
  },
  "language_info": {
   "codemirror_mode": {
    "name": "ipython",
    "version": 3
   },
   "file_extension": ".py",
   "mimetype": "text/x-python",
   "name": "python",
   "nbconvert_exporter": "python",
   "pygments_lexer": "ipython3",
   "version": "3.8.5"
  }
 },
 "nbformat": 4,
 "nbformat_minor": 1
}
