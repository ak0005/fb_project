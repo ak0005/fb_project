{
 "cells": [
  {
   "cell_type": "code",
   "execution_count": null,
   "metadata": {
    "colab": {
     "base_uri": "https://localhost:8080/"
    },
    "executionInfo": {
     "elapsed": 1420,
     "status": "ok",
     "timestamp": 1615091298584,
     "user": {
      "displayName": "AKHIL SHUKLA",
      "photoUrl": "",
      "userId": "18234957676405317826"
     },
     "user_tz": -330
    },
    "id": "JY4iCRIiwtdP",
    "outputId": "3526a136-dcbe-4f68-9517-c29cf1c1f2e5"
   },
   "outputs": [],
   "source": [
    "# make sure mongodb is running"
   ]
  },
  {
   "cell_type": "code",
   "execution_count": null,
   "metadata": {
    "colab": {
     "base_uri": "https://localhost:8080/"
    },
    "executionInfo": {
     "elapsed": 8986,
     "status": "ok",
     "timestamp": 1615048099971,
     "user": {
      "displayName": "AKHIL SHUKLA",
      "photoUrl": "",
      "userId": "18234957676405317826"
     },
     "user_tz": -330
    },
    "id": "5Qm59D_QxQYb",
    "outputId": "8cc2cab2-3551-490f-ef48-9b0bd916cef9"
   },
   "outputs": [],
   "source": [
    "!pip install katna"
   ]
  },
  {
   "cell_type": "code",
   "execution_count": null,
   "metadata": {
    "executionInfo": {
     "elapsed": 1565,
     "status": "ok",
     "timestamp": 1615091326335,
     "user": {
      "displayName": "AKHIL SHUKLA",
      "photoUrl": "",
      "userId": "18234957676405317826"
     },
     "user_tz": -330
    },
    "id": "jinQxMRPxYWF"
   },
   "outputs": [],
   "source": [
    "import os\n",
    "from Katna.video import Video\n",
    "from pymongo import MongoClient\n",
    "import multiprocessing\n",
    "import multiprocessing.pool\n",
    "import cv2\n",
    "import re\n",
    "import utils.const as const"
   ]
  },
  {
   "cell_type": "code",
   "execution_count": null,
   "metadata": {
    "executionInfo": {
     "elapsed": 1138,
     "status": "ok",
     "timestamp": 1615091333687,
     "user": {
      "displayName": "AKHIL SHUKLA",
      "photoUrl": "",
      "userId": "18234957676405317826"
     },
     "user_tz": -330
    },
    "id": "L6ljP4VJxK0Y"
   },
   "outputs": [],
   "source": [
    "poolSize=8\n",
    "\n",
    "### most important\n",
    "frameToExtract=10\n",
    "\n",
    "###### make queue for each process\n",
    "failed=multiprocessing.Queue()\n",
    "extracted=multiprocessing.Queue()\n",
    "###### make queue for each process\n",
    "\n",
    "### katna will quickly fill up the ram so we will do keyframe extraction using multiple processes in batch\n",
    "bigBatch=100 \n",
    "\n",
    "db=const.grpId\n",
    "collection=const.PostCollection\n",
    "directory=db"
   ]
  },
  {
   "cell_type": "code",
   "execution_count": null,
   "metadata": {
    "colab": {
     "base_uri": "https://localhost:8080/"
    },
    "executionInfo": {
     "elapsed": 6607,
     "status": "ok",
     "timestamp": 1614961151736,
     "user": {
      "displayName": "AKHIL SHUKLA",
      "photoUrl": "",
      "userId": "18234957676405317826"
     },
     "user_tz": -330
    },
    "id": "rkOui1r59y_A",
    "outputId": "ba416259-4b27-4c2d-d70f-75b97265283b"
   },
   "outputs": [],
   "source": [
    "client = MongoClient()\n",
    "client.list_database_names() # ['admin', 'local']"
   ]
  },
  {
   "cell_type": "code",
   "execution_count": null,
   "metadata": {
    "id": "H7kL1ScV9-sU"
   },
   "outputs": [],
   "source": [
    "client = MongoClient()\n",
    "myCollect=client[db][collection]"
   ]
  },
  {
   "cell_type": "code",
   "execution_count": null,
   "metadata": {
    "colab": {
     "base_uri": "https://localhost:8080/"
    },
    "executionInfo": {
     "elapsed": 6004,
     "status": "ok",
     "timestamp": 1614961153258,
     "user": {
      "displayName": "AKHIL SHUKLA",
      "photoUrl": "",
      "userId": "18234957676405317826"
     },
     "user_tz": -330
    },
    "id": "11wUT0PIunYd",
    "outputId": "c69ffbfd-1c02-4fb2-e965-e1f6fe4fa139"
   },
   "outputs": [],
   "source": [
    "## read logs for already extracted keyframes and create dictionary\n",
    "\n",
    "alreadyExtracted={}\n",
    "\n",
    "regex = re.compile('(extracted*.*txt$)')\n",
    "\n",
    "for file in os.listdir():\n",
    "  if regex.match(file):\n",
    "    with open(file,'r') as fp:\n",
    "      for line in fp.readlines():\n",
    "        print(line[:-1])\n",
    "        alreadyExtracted[line[:-1]]=1"
   ]
  },
  {
   "cell_type": "code",
   "execution_count": null,
   "metadata": {
    "colab": {
     "base_uri": "https://localhost:8080/"
    },
    "executionInfo": {
     "elapsed": 5204,
     "status": "ok",
     "timestamp": 1614961153259,
     "user": {
      "displayName": "AKHIL SHUKLA",
      "photoUrl": "",
      "userId": "18234957676405317826"
     },
     "user_tz": -330
    },
    "id": "2DTE_QZz-Ka0",
    "outputId": "ef815ae2-f889-45e7-b6c5-b1c2a4db4362"
   },
   "outputs": [],
   "source": [
    "vids=[]\n",
    "for post in myCollect.find({}):\n",
    "  if '_id' in post:\n",
    "    A=os.path.join(directory,post['_id'])\n",
    "\n",
    "    if 'attachments' in post:\n",
    "      B=os.path.join(A,'attachments')\n",
    "\n",
    "      if 'videos' in post['attachments']:\n",
    "        C=os.path.join(B,'videos')\n",
    "        for i in range(len(post['attachments']['videos'])):\n",
    "          D=os.path.join(C,str(i))\n",
    "          vids.append(D)\n",
    "      \n",
    "          \n",
    "    \n",
    "    if 'comments' in post:\n",
    "      B=os.path.join(A,'comments')\n",
    "      for comment in post['comments']:\n",
    "        if '_id' in comment:\n",
    "          C=os.path.join(B,comment['_id'])\n",
    "\n",
    "          if '_id' and 'attachment' in comment:\n",
    "            D=os.path.join(C,'attachment')\n",
    "\n",
    "            if 'videos' in comment['attachment']:\n",
    "              E=os.path.join(D,'videos')\n",
    "\n",
    "              for i in range(len(comment['attachment']['videos'])):\n",
    "                F=os.path.join(E,str(i))\n",
    "                vids.append(F)\n",
    "\n",
    "\n",
    "print(len(vids))\n",
    "print(len(alreadyExtracted))"
   ]
  },
  {
   "cell_type": "code",
   "execution_count": null,
   "metadata": {},
   "outputs": [],
   "source": [
    "order=[]\n",
    "\n",
    "if os.path.isfile('order.txt'):\n",
    "    print('order.txt exist')\n",
    "    with open('order.txt','r') as fp:\n",
    "        for line in fp.readlines():\n",
    "            if len(line)<=1:\n",
    "                continue\n",
    "            order.append(line[:-1])\n",
    "else:\n",
    "    print('creating order.txt')\n",
    "    dictOrder={}\n",
    "    totalSize=0\n",
    "    maxSize=0\n",
    "    for i in vids:\n",
    "        dictOrder[i]=os.stat(i).st_size\n",
    "        totalSize+=dictOrder[i]\n",
    "        maxSize=max(maxSize,dictOrder[i])\n",
    "    \n",
    "    print('Max size',maxSize)\n",
    "    print('Total size',totalSize)\n",
    "    \n",
    "    dict2=dict(sorted(dictOrder.items(), key=lambda item: item[1]))\n",
    "\n",
    "    with open('order.txt','w') as fp:\n",
    "        for k,v in dict2.items():\n",
    "            order.append(k)\n",
    "            fp.write(k+'\\n')"
   ]
  },
  {
   "cell_type": "code",
   "execution_count": null,
   "metadata": {},
   "outputs": [],
   "source": [
    "vids=[]\n",
    "for i in order:\n",
    "    if i not in alreadyExtracted:\n",
    "        vids.append(i)\n",
    "print(len(vids))"
   ]
  },
  {
   "cell_type": "code",
   "execution_count": null,
   "metadata": {
    "id": "iYPGn_vwgHRt"
   },
   "outputs": [],
   "source": [
    "class NoDaemonProcess(multiprocessing.Process):\n",
    "    # make 'daemon' attribute always return False\n",
    "    def _get_daemon(self):\n",
    "        return False\n",
    "    def _set_daemon(self, value):\n",
    "        pass\n",
    "    daemon = property(_get_daemon, _set_daemon)\n",
    "\n",
    "# We sub-class multiprocessing.pool.Pool instead of multiprocessing.Pool\n",
    "# because the latter is only a wrapper function, not a proper class.\n",
    "class MyPool(multiprocessing.pool.Pool):\n",
    "    Process = NoDaemonProcess"
   ]
  },
  {
   "cell_type": "code",
   "execution_count": null,
   "metadata": {
    "executionInfo": {
     "elapsed": 2313,
     "status": "ok",
     "timestamp": 1615048118153,
     "user": {
      "displayName": "AKHIL SHUKLA",
      "photoUrl": "",
      "userId": "18234957676405317826"
     },
     "user_tz": -330
    },
    "id": "inbmksyi-Qyu"
   },
   "outputs": [],
   "source": [
    "def worker(low,high,ind):\n",
    "  vd = Video()\n",
    "  size=high-low\n",
    "  fp=open('extracted'+str(ind)+'.txt','a')\n",
    "\n",
    "  print(ind,low,high)\n",
    "  for i in range(low,high):\n",
    "    videoPath=vids[i]\n",
    "    data_output_dir=vids[i]+'_key_frames'\n",
    "\n",
    "    #print('A')\n",
    "    cap = cv2.VideoCapture(videoPath)\n",
    "\n",
    "    if not cap.isOpened(): \n",
    "      print (ind,\"could not open :\",videoPath)\n",
    "      failed.put(vids[i])\n",
    "      continue\n",
    "    print(ind,'B')\n",
    "    frames = int(cap.get(cv2.CAP_PROP_FRAME_COUNT))\n",
    "    print(ind,'frames '+str(frames))\n",
    "\n",
    "    \n",
    "    try:\n",
    "      \n",
    "      if os.path.isdir(data_output_dir):\n",
    "        if len(os.listdir(data_output_dir)) == min(frames,frameToExtract):\n",
    "          extracted.put(vids[i])\n",
    "          fp.write(vids[i]+'\\n')\n",
    "          continue\n",
    "      else:\n",
    "        os.mkdir(data_output_dir)\n",
    "      \n",
    "      print(ind,'D')\n",
    "\n",
    "      if frames>frameToExtract:\n",
    "        imgs = vd.extract_video_keyframes(no_of_frames = frameToExtract, file_path=videoPath )\n",
    "        \n",
    "        for counter,img in enumerate(imgs):\n",
    "          vd.save_frame_to_disk(img, file_path=data_output_dir, file_name=str(counter), file_ext=\".png\")\n",
    "      \n",
    "      else:\n",
    "        success,image = cap.read()\n",
    "        counter = 0\n",
    "        while success:\n",
    "          cv2.imwrite(os.path.join(data_output_dir,str(counter))+'.png', image)\n",
    "          counter+=1     \n",
    "          success,image = cap.read()\n",
    "\n",
    "      #print('E')\n",
    "      cap.release()\n",
    "      extracted.put(vids[i])\n",
    "      fp.write(vids[i]+'\\n')\n",
    "      #print('F')\n",
    "\n",
    "\n",
    "    except Exception as e:\n",
    "      print(ind,str(e))\n",
    "      print (ind,\"could not extract key frame from :\"+videoPath + \" with \"+str(cap.get(cv2.CAP_PROP_FRAME_COUNT))+\" frames\")\n",
    "      failed.put(vids[i])\n",
    "\n",
    "    print(ind,(i+1-low)/size*100)\n",
    "\n",
    "  fp.close()"
   ]
  },
  {
   "cell_type": "code",
   "execution_count": null,
   "metadata": {
    "colab": {
     "base_uri": "https://localhost:8080/"
    },
    "executionInfo": {
     "elapsed": 3027,
     "status": "ok",
     "timestamp": 1615037661362,
     "user": {
      "displayName": "AKHIL SHUKLA",
      "photoUrl": "",
      "userId": "18234957676405317826"
     },
     "user_tz": -330
    },
    "id": "bT6_1o-K-a9i",
    "outputId": "09c7b6e6-083f-43c6-b2e0-ce61fb7bf961"
   },
   "outputs": [],
   "source": [
    "iter=int(len(vids)/bigBatch)\n",
    "while iter*bigBatch<len(vids):\n",
    "  iter+=1\n",
    "\n",
    "print(iter)"
   ]
  },
  {
   "cell_type": "code",
   "execution_count": null,
   "metadata": {
    "colab": {
     "base_uri": "https://localhost:8080/",
     "height": 1000
    },
    "executionInfo": {
     "elapsed": 8618551,
     "status": "error",
     "timestamp": 1615047572723,
     "user": {
      "displayName": "AKHIL SHUKLA",
      "photoUrl": "",
      "userId": "18234957676405317826"
     },
     "user_tz": -330
    },
    "id": "s0mQR6vU-exN",
    "outputId": "4d826d78-8c83-443b-8113-0346db1af4d3"
   },
   "outputs": [],
   "source": [
    "while not failed.empty():\n",
    "  failed.get() \n",
    "while not extracted.empty():\n",
    "  extracted.get() \n",
    "for i in range(iter):\n",
    "  low,high=i*bigBatch,min(len(vids),(i+1)*bigBatch)\n",
    "  size=high-low+1\n",
    "                       \n",
    "  batch=int((size)/poolSize)\n",
    "  while batch*poolSize<size:\n",
    "    batch+=1\n",
    "  print(str(batch)+' for iter '+str(i)+' in range '+str(low)+' '+str(high))\n",
    "  \n",
    "  pool = MyPool(poolSize)\n",
    "  for j in range(poolSize):\n",
    "    pool.apply_async(worker, (j*batch +low ,min(high,(j+1)*batch+low), j ,))\n",
    "\n",
    "  pool.close()\n",
    "  pool.join()"
   ]
  },
  {
   "cell_type": "code",
   "execution_count": null,
   "metadata": {
    "colab": {
     "base_uri": "https://localhost:8080/"
    },
    "executionInfo": {
     "elapsed": 3480,
     "status": "ok",
     "timestamp": 1615047607276,
     "user": {
      "displayName": "AKHIL SHUKLA",
      "photoUrl": "",
      "userId": "18234957676405317826"
     },
     "user_tz": -330
    },
    "id": "zNi59obI-8OM",
    "outputId": "701092cc-9052-4c24-839d-c0c7dae725c0"
   },
   "outputs": [],
   "source": [
    "f=failed.qsize()\n",
    "e=extracted.qsize()\n",
    "print(f,e)"
   ]
  },
  {
   "cell_type": "code",
   "execution_count": null,
   "metadata": {
    "id": "DHlKrLU68xU0"
   },
   "outputs": [],
   "source": [
    "if f:\n",
    "    print('try  running 2nd notebook on key-frame')\n",
    "else:\n",
    "    print('done')"
   ]
  },
  {
   "cell_type": "code",
   "execution_count": null,
   "metadata": {},
   "outputs": [],
   "source": []
  }
 ],
 "metadata": {
  "colab": {
   "authorship_tag": "ABX9TyME+0m5Q16b6+C75msWeE3U",
   "collapsed_sections": [],
   "name": "attachmentProcessing.ipynb",
   "provenance": []
  },
  "kernelspec": {
   "display_name": "Python 3",
   "language": "python",
   "name": "python3"
  },
  "language_info": {
   "codemirror_mode": {
    "name": "ipython",
    "version": 3
   },
   "file_extension": ".py",
   "mimetype": "text/x-python",
   "name": "python",
   "nbconvert_exporter": "python",
   "pygments_lexer": "ipython3",
   "version": "3.8.5"
  }
 },
 "nbformat": 4,
 "nbformat_minor": 1
}
