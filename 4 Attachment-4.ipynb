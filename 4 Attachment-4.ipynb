{
 "cells": [
  {
   "cell_type": "code",
   "execution_count": null,
   "metadata": {
    "colab": {
     "base_uri": "https://localhost:8080/"
    },
    "executionInfo": {
     "elapsed": 73828,
     "status": "ok",
     "timestamp": 1614779328979,
     "user": {
      "displayName": "AKHIL SHUKLA",
      "photoUrl": "",
      "userId": "18234957676405317826"
     },
     "user_tz": -330
    },
    "id": "5Qm59D_QxQYb",
    "outputId": "b77fa52d-7789-47a4-9271-f3717da2d5ce"
   },
   "outputs": [],
   "source": [
    "#make sure mongodb is running"
   ]
  },
  {
   "cell_type": "code",
   "execution_count": null,
   "metadata": {
    "id": "jinQxMRPxYWF"
   },
   "outputs": [],
   "source": [
    "import os\n",
    "from pymongo import MongoClient\n",
    "import shutil\n",
    "import utils.const as const"
   ]
  },
  {
   "cell_type": "code",
   "execution_count": null,
   "metadata": {
    "id": "L6ljP4VJxK0Y"
   },
   "outputs": [],
   "source": [
    "db=const.grpId\n",
    "collection=const.PostCollection\n",
    "directory='attachment'\n",
    "output=db"
   ]
  },
  {
   "cell_type": "code",
   "execution_count": null,
   "metadata": {
    "id": "9Ng8_KFIZWHx"
   },
   "outputs": [],
   "source": [
    "if not os.path.isdir(directory):\n",
    "  raise Exception('first download attachments ')\n",
    "if os.path.isdir(output):\n",
    "  raise Exception('delete '+output)\n",
    "os.mkdir(output)"
   ]
  },
  {
   "cell_type": "code",
   "execution_count": null,
   "metadata": {
    "colab": {
     "base_uri": "https://localhost:8080/"
    },
    "executionInfo": {
     "elapsed": 1057,
     "status": "ok",
     "timestamp": 1614781956576,
     "user": {
      "displayName": "AKHIL SHUKLA",
      "photoUrl": "",
      "userId": "18234957676405317826"
     },
     "user_tz": -330
    },
    "id": "rkOui1r59y_A",
    "outputId": "e97f2f6f-b615-4128-b1f2-31edb2d896f7"
   },
   "outputs": [],
   "source": [
    "client = MongoClient()\n",
    "client.list_database_names() # ['admin', 'local']"
   ]
  },
  {
   "cell_type": "code",
   "execution_count": null,
   "metadata": {
    "id": "H7kL1ScV9-sU"
   },
   "outputs": [],
   "source": [
    "client = MongoClient()\n",
    "myCollect=client[db][collection]"
   ]
  },
  {
   "cell_type": "code",
   "execution_count": null,
   "metadata": {},
   "outputs": [],
   "source": [
    "# The code in the following cell is using shutil.copy().... if in limited memory or large data prefer using shutil.move()"
   ]
  },
  {
   "cell_type": "code",
   "execution_count": null,
   "metadata": {
    "id": "2DTE_QZz-Ka0"
   },
   "outputs": [],
   "source": [
    "count=0;\n",
    "\n",
    "for post in list(myCollect.find({})):\n",
    "  if '_id' in post:\n",
    "    A=os.path.join(output,post['_id'])\n",
    "    os.mkdir(A)\n",
    "    \n",
    "    if 'attachments' in post:\n",
    "      B=os.path.join(A,'attachments')\n",
    "      os.mkdir(B)\n",
    "\n",
    "      if 'videos' in post['attachments']:\n",
    "        C=os.path.join(B,'videos')\n",
    "        os.mkdir(C)\n",
    "\n",
    "        myCollect.update_one({'_id': post['_id']}, {\n",
    "                          '$unset': {'attachments.videos': \"\"}})\n",
    "        \n",
    "        for i in range(len(post['attachments']['videos'])):\n",
    "          D=os.path.join(C,str(i))\n",
    "\n",
    "          myCollect.update_one({'_id': post['_id']}, {\n",
    "                              '$push': {'attachments.videos': i}})\n",
    "          \n",
    "          shutil.copy(os.path.join(directory,post['attachments']['videos'][i]),D)\n",
    "\n",
    "          count+=1\n",
    "      \n",
    "\n",
    "      if 'images' in post['attachments']:\n",
    "        C=os.path.join(B,'images')\n",
    "        os.mkdir(C)\n",
    "\n",
    "        myCollect.update_one({'_id': post['_id']}, {\n",
    "                          '$unset': {'attachments.images': \"\"}})\n",
    "        \n",
    "        for i in range(len(post['attachments']['images'])):\n",
    "          D=os.path.join(C,str(i))\n",
    "\n",
    "          myCollect.update_one({'_id': post['_id']}, {\n",
    "                              '$push': {'attachments.images': i}})\n",
    "          \n",
    "          shutil.copy(os.path.join(directory,post['attachments']['images'][i]),D)\n",
    "\n",
    "          count+=1\n",
    "\n",
    "          \n",
    "      \n",
    "          \n",
    "    \n",
    "    if 'comments' in post:\n",
    "      B=os.path.join(A,'comments')\n",
    "      os.mkdir(B)\n",
    "\n",
    "      for comment in post['comments']:\n",
    "        if '_id' in comment:\n",
    "          C=os.path.join(B,comment['_id'])\n",
    "          os.mkdir(C)\n",
    "\n",
    "          if 'attachment' in comment:\n",
    "            D=os.path.join(C,'attachment')\n",
    "            os.mkdir(D)\n",
    "\n",
    "            if 'videos' in comment['attachment']:\n",
    "              E=os.path.join(D,'videos')\n",
    "              os.mkdir(E)\n",
    "\n",
    "              myCollect.update_one({'_id': post['_id'], 'comments': {'$elemMatch': {'_id': comment['_id']}}}, {\n",
    "                  '$unset': {'comments.$.attachment.videos': \"\"}})\n",
    "\n",
    "              for i in range(len(comment['attachment']['videos'])):\n",
    "                F=os.path.join(E,str(i))\n",
    "\n",
    "                myCollect.update_one({'_id': post['_id'], 'comments': {'$elemMatch': {'_id': comment['_id']}}}, {\n",
    "                              '$push': {'comments.$.attachment.videos': i}})\n",
    "\n",
    "                shutil.copy(os.path.join(directory,comment['attachment']['videos'][i]),F)\n",
    "                count+=1\n",
    "\n",
    "            if 'images' in comment['attachment']:\n",
    "              E=os.path.join(D,'images')\n",
    "              os.mkdir(E)\n",
    "\n",
    "              myCollect.update_one({'_id': post['_id'], 'comments': {'$elemMatch': {'_id': comment['_id']}}}, {\n",
    "                  '$unset': {'comments.$.attachment.images': \"\"}})\n",
    "\n",
    "              for i in range(len(comment['attachment']['images'])):\n",
    "                F=os.path.join(E,str(i))\n",
    "\n",
    "                myCollect.update_one({'_id': post['_id'], 'comments': {'$elemMatch': {'_id': comment['_id']}}}, {\n",
    "                              '$push': {'comments.$.attachment.images': i}})\n",
    "\n",
    "                shutil.copy(os.path.join(directory,comment['attachment']['images'][i]),F)\n",
    "                count+=1\n"
   ]
  },
  {
   "cell_type": "code",
   "execution_count": null,
   "metadata": {
    "colab": {
     "base_uri": "https://localhost:8080/"
    },
    "executionInfo": {
     "elapsed": 1708681,
     "status": "ok",
     "timestamp": 1614783796985,
     "user": {
      "displayName": "AKHIL SHUKLA",
      "photoUrl": "",
      "userId": "18234957676405317826"
     },
     "user_tz": -330
    },
    "id": "gTCO3zKLX4Ka",
    "outputId": "ae236bd1-964f-4738-85c4-66b586253f2a"
   },
   "outputs": [],
   "source": [
    "print(count)"
   ]
  },
  {
   "cell_type": "code",
   "execution_count": null,
   "metadata": {
    "colab": {
     "base_uri": "https://localhost:8080/"
    },
    "executionInfo": {
     "elapsed": 1716548,
     "status": "ok",
     "timestamp": 1614783805619,
     "user": {
      "displayName": "AKHIL SHUKLA",
      "photoUrl": "",
      "userId": "18234957676405317826"
     },
     "user_tz": -330
    },
    "id": "nX-zH8VDWkuB",
    "outputId": "63b924e1-6aa5-42cd-e39b-44da95a7cb5f"
   },
   "outputs": [],
   "source": [
    "os.system('python3 dump.py')"
   ]
  },
  {
   "cell_type": "code",
   "execution_count": null,
   "metadata": {
    "id": "lS5aL51FWkzf"
   },
   "outputs": [],
   "source": [
    "#have a look at json_dump.json"
   ]
  }
 ],
 "metadata": {
  "colab": {
   "authorship_tag": "ABX9TyM6IT9/sVzJCLyoaXg40wI3",
   "collapsed_sections": [],
   "name": "attachment orderning.ipynb",
   "provenance": []
  },
  "kernelspec": {
   "display_name": "Python 3",
   "language": "python",
   "name": "python3"
  },
  "language_info": {
   "codemirror_mode": {
    "name": "ipython",
    "version": 3
   },
   "file_extension": ".py",
   "mimetype": "text/x-python",
   "name": "python",
   "nbconvert_exporter": "python",
   "pygments_lexer": "ipython3",
   "version": "3.8.5"
  }
 },
 "nbformat": 4,
 "nbformat_minor": 1
}
