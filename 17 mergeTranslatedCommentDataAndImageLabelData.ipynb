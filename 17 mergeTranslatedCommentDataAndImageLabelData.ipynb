{
 "cells": [
  {
   "cell_type": "code",
   "execution_count": null,
   "metadata": {},
   "outputs": [],
   "source": [
    "labelData='manually.csv'  # with header\n",
    "mergeDataFile='mergeData.txt'\n",
    "mergeId='mergeId.txt'"
   ]
  },
  {
   "cell_type": "code",
   "execution_count": null,
   "metadata": {},
   "outputs": [],
   "source": [
    "def convert(string):\n",
    "    arr=string.split('_')\n",
    "    return arr[0]+'_'+arr[1]+' '+arr[2]"
   ]
  },
  {
   "cell_type": "code",
   "execution_count": null,
   "metadata": {},
   "outputs": [],
   "source": [
    "labels={}\n",
    "with open(labelData,'r') as fp:\n",
    "    fp.readline()\n",
    "    for l in fp:\n",
    "        arr=l[:-1].split(',')\n",
    "        if len(arr)<3:\n",
    "            continue\n",
    "        \n",
    "        for k in arr[2].split(' '):\n",
    "            if len(k):\n",
    "                labels[convert(k)]=arr[1] "
   ]
  },
  {
   "cell_type": "code",
   "execution_count": null,
   "metadata": {},
   "outputs": [],
   "source": [
    "fp=open(mergeDataFile,'r')\n",
    "lines=fp.readlines()\n",
    "fp.close()"
   ]
  },
  {
   "cell_type": "code",
   "execution_count": null,
   "metadata": {},
   "outputs": [],
   "source": [
    "with open(mergeId,'r') as fp:\n",
    "    i=0\n",
    "    p=0\n",
    "    for k in fp:\n",
    "        if len(k) and k[:-1] in labels:\n",
    "            lines[i]=lines[i][:-1]+' '+labels[k[:-1]]+'\\n'\n",
    "            p+=1\n",
    "        i+=1\n",
    "    \n",
    "    print(p)"
   ]
  },
  {
   "cell_type": "code",
   "execution_count": null,
   "metadata": {},
   "outputs": [],
   "source": [
    "with open(mergeDataFile,'w') as fp:\n",
    "    fp.writelines(lines)"
   ]
  },
  {
   "cell_type": "code",
   "execution_count": null,
   "metadata": {},
   "outputs": [],
   "source": []
  }
 ],
 "metadata": {
  "kernelspec": {
   "display_name": "Python 3",
   "language": "python",
   "name": "python3"
  },
  "language_info": {
   "codemirror_mode": {
    "name": "ipython",
    "version": 3
   },
   "file_extension": ".py",
   "mimetype": "text/x-python",
   "name": "python",
   "nbconvert_exporter": "python",
   "pygments_lexer": "ipython3",
   "version": "3.8.5"
  }
 },
 "nbformat": 4,
 "nbformat_minor": 4
}
