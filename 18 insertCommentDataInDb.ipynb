{
 "cells": [
  {
   "cell_type": "code",
   "execution_count": null,
   "metadata": {},
   "outputs": [],
   "source": [
    "from pymongo import MongoClient\n",
    "import utils.const as const"
   ]
  },
  {
   "cell_type": "code",
   "execution_count": null,
   "metadata": {},
   "outputs": [],
   "source": [
    "client = MongoClient()\n",
    "client.list_database_names() # ['admin', 'local']"
   ]
  },
  {
   "cell_type": "code",
   "execution_count": null,
   "metadata": {},
   "outputs": [],
   "source": [
    "db=const.grpId\n",
    "collection=const.PostCollection\n",
    "\n",
    "data='IdMergedScores.csv'\n",
    "\n",
    "mergeData='mergeData.txt'\n",
    "mergeId='mergeId.txt'"
   ]
  },
  {
   "cell_type": "code",
   "execution_count": null,
   "metadata": {},
   "outputs": [],
   "source": [
    "myCollect=client[db][collection]"
   ]
  },
  {
   "cell_type": "code",
   "execution_count": null,
   "metadata": {},
   "outputs": [],
   "source": [
    "with open(data,'r') as fp:\n",
    "    fp.readline() ## header\n",
    "    for l in fp:\n",
    "        arr=l.split(',')\n",
    "        if len(arr)<3:\n",
    "            continue\n",
    "        postId=arr[0]\n",
    "        commentId=arr[1]\n",
    "        \n",
    "        result=myCollect.update_one({'_id': postId, 'comments': {'$elemMatch': {'_id': commentId}}}, {\n",
    "            '$set': {'comments.$.sentimentVal':  float(arr[2][:-1])}})\n",
    "        \n",
    "        if result.matched_count==0 :\n",
    "            print(\"==\"+postId+\"==\")\n",
    "            print(\"==\"+commentId+\"==\")\n",
    "            print(result.matched_count , result.modified_count)\n",
    "            print()"
   ]
  },
  {
   "cell_type": "code",
   "execution_count": null,
   "metadata": {},
   "outputs": [],
   "source": [
    "for post in list(myCollect.find()):\n",
    "    if 'comments' not in post or len(post['comments'])==0:\n",
    "        continue\n",
    "    \n",
    "    for comment in post['comments']:\n",
    "        if 'like_count' not in comment:\n",
    "            myCollect.update_one({'_id': post['_id'], 'comments': {'$elemMatch': {'_id': comment['_id']}}}, {\n",
    "            '$set': {'comments.$.like_count':  0}})"
   ]
  },
  {
   "cell_type": "code",
   "execution_count": null,
   "metadata": {},
   "outputs": [],
   "source": [
    "\n",
    "for post in list(myCollect.find()):\n",
    "    if 'comments' not in post or len(post['comments'])==0:\n",
    "        continue\n",
    "    num=0\n",
    "    denom=len(post['comments'])\n",
    "    \n",
    "    for comment in post['comments']:\n",
    "        num+=comment['sentimentVal']*(comment['like_count']+1)\n",
    "        denom+=comment['like_count']\n",
    "    \n",
    "    myCollect.update_one({'_id': post['_id']}, {\n",
    "            \"$set\": {'comment_sentiment' : num/denom}\n",
    "        })"
   ]
  },
  {
   "cell_type": "code",
   "execution_count": null,
   "metadata": {},
   "outputs": [],
   "source": [
    "fp1=open(mergeId,'r')\n",
    "lines=fp1.readlines()\n",
    "fp1.close()\n",
    "\n",
    "with open(mergeData,'r') as fp:\n",
    "    i=0\n",
    "    for l in fp:\n",
    "        arr=lines[i].split(' ')\n",
    "        i+=1\n",
    "        if len(arr)!=2:\n",
    "            continue\n",
    "                \n",
    "        postId=arr[0]\n",
    "        commentId=arr[1][:-1]\n",
    "        \n",
    "        result=myCollect.update_one({'_id': postId, 'comments': {'$elemMatch': {'_id': commentId}}}, {\n",
    "            '$set': {'comments.$.message':  l[:-1]}})\n",
    "        \n",
    "        if result.matched_count==0 :\n",
    "            print(\"==\"+postId+\"==\")\n",
    "            print(\"==\"+commentId+\"==\")\n",
    "            print(result.matched_count , result.modified_count)\n",
    "            print()\n",
    "        "
   ]
  },
  {
   "cell_type": "code",
   "execution_count": null,
   "metadata": {},
   "outputs": [],
   "source": []
  }
 ],
 "metadata": {
  "kernelspec": {
   "display_name": "Python 3",
   "language": "python",
   "name": "python3"
  },
  "language_info": {
   "codemirror_mode": {
    "name": "ipython",
    "version": 3
   },
   "file_extension": ".py",
   "mimetype": "text/x-python",
   "name": "python",
   "nbconvert_exporter": "python",
   "pygments_lexer": "ipython3",
   "version": "3.8.5"
  }
 },
 "nbformat": 4,
 "nbformat_minor": 4
}
