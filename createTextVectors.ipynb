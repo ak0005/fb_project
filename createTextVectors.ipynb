{
 "cells": [
  {
   "cell_type": "code",
   "execution_count": null,
   "metadata": {},
   "outputs": [],
   "source": [
    "import os\n",
    "from pymongo import MongoClient\n",
    "import numpy as np\n",
    "import utils.const as const\n",
    "import pandas as pd\n",
    "from ast import literal_eval\n",
    "import re"
   ]
  },
  {
   "cell_type": "code",
   "execution_count": null,
   "metadata": {},
   "outputs": [],
   "source": [
    "db=const.grpId\n",
    "collection=const.PostCollection\n",
    "fileName='word_vector.csv'\n",
    "\n",
    "post_out='text_post.csv'\n",
    "comment_out='text_comment.csv'\n",
    "subComment_out='text_subComment.csv'\n",
    "\n",
    "outputLen=100"
   ]
  },
  {
   "cell_type": "code",
   "execution_count": null,
   "metadata": {},
   "outputs": [],
   "source": [
    "client = MongoClient()\n",
    "myCollect=client[db][collection]"
   ]
  },
  {
   "cell_type": "code",
   "execution_count": null,
   "metadata": {},
   "outputs": [],
   "source": [
    "class Node:\n",
    "    def __init__(self,length=outputLen):\n",
    "        self.arr=np.zeros((length),dtype='float32')\n",
    "        self.count=0\n",
    "  \n",
    "    def insert(self,arr2):\n",
    "        arrT=self.arr.astype('float64')*self.count + arr2\n",
    "        self.count+=1\n",
    "        arrT/=self.count\n",
    "\n",
    "        self.arr=arrT.astype('float32')\n",
    "  \n",
    "    def getString(self):\n",
    "        ans=''\n",
    "        for i in self.arr:\n",
    "            ans+=','+str(i)\n",
    "\n",
    "        return ans"
   ]
  },
  {
   "cell_type": "code",
   "execution_count": null,
   "metadata": {},
   "outputs": [],
   "source": [
    "def handleStupidity(s):\n",
    "    s=re.sub('\\[ ','[',s)\n",
    "    return np.array(literal_eval(re.sub('[ \\n]+',',',s))).astype('float32')"
   ]
  },
  {
   "cell_type": "code",
   "execution_count": null,
   "metadata": {},
   "outputs": [],
   "source": [
    "df = pd.read_csv(fileName)\n",
    "df.vector = df.vector.apply(handleStupidity)\n",
    "df.head()"
   ]
  },
  {
   "cell_type": "code",
   "execution_count": null,
   "metadata": {},
   "outputs": [],
   "source": [
    "wordVec={}\n",
    "\n",
    "for i in range(len(df.index)):\n",
    "    wordVec[df['word'][i]]=df['vector'][i]\n",
    "\n",
    "del df"
   ]
  },
  {
   "cell_type": "code",
   "execution_count": null,
   "metadata": {},
   "outputs": [],
   "source": [
    "fp = open(post_out,'w')\n",
    "\n",
    "for post in myCollect.find():\n",
    "    node= Node()\n",
    "    if 'message' in post and isinstance(post['message'],list):\n",
    "        for k in post['message']:\n",
    "            if k in wordVec:\n",
    "                node.insert(wordVec[k])\n",
    "    \n",
    "    fp.write(post['_id'])\n",
    "    fp.write(node.getString())\n",
    "    fp.write('\\n')\n",
    "\n",
    "fp.close()"
   ]
  },
  {
   "cell_type": "code",
   "execution_count": null,
   "metadata": {},
   "outputs": [],
   "source": [
    "fp = open(comment_out,'w')\n",
    "\n",
    "for post in myCollect.find():\n",
    "    if 'comments' in post:\n",
    "        for comment in post['comments']:\n",
    "            node= Node()\n",
    "            if 'message' in comment and isinstance(comment['message'],list):\n",
    "                for k in comment['message']:\n",
    "                    if k in wordVec:\n",
    "                        node.insert(wordVec[k])\n",
    "            \n",
    "            fp.write(post['_id'])\n",
    "            fp.write(','+comment['_id'])\n",
    "            fp.write(node.getString())\n",
    "            fp.write('\\n')\n",
    "\n",
    "fp.close()"
   ]
  },
  {
   "cell_type": "code",
   "execution_count": null,
   "metadata": {},
   "outputs": [],
   "source": [
    "fp = open(subComment_out,'w')\n",
    "\n",
    "for post in myCollect.find():\n",
    "    if 'comments' in post:\n",
    "        for comment in post['comments']:\n",
    "            if 'subComments' in comment:\n",
    "                for subComment in comment['subComments']:\n",
    "                    node= Node()\n",
    "                    if 'message' in subComment and isinstance(subComment['message'],list):\n",
    "                        for k in subComment['message']:\n",
    "                            if k in wordVec:\n",
    "                                node.insert(wordVec[k])\n",
    "\n",
    "                    fp.write(post['_id'])\n",
    "                    fp.write(','+comment['_id'])\n",
    "                    fp.write(','+subComment['_id'])\n",
    "                    fp.write(node.getString())\n",
    "                    fp.write('\\n')\n",
    "\n",
    "fp.close()"
   ]
  },
  {
   "cell_type": "code",
   "execution_count": null,
   "metadata": {},
   "outputs": [],
   "source": []
  }
 ],
 "metadata": {
  "kernelspec": {
   "display_name": "Python 3",
   "language": "python",
   "name": "python3"
  },
  "language_info": {
   "codemirror_mode": {
    "name": "ipython",
    "version": 3
   },
   "file_extension": ".py",
   "mimetype": "text/x-python",
   "name": "python",
   "nbconvert_exporter": "python",
   "pygments_lexer": "ipython3",
   "version": "3.8.5"
  }
 },
 "nbformat": 4,
 "nbformat_minor": 4
}
